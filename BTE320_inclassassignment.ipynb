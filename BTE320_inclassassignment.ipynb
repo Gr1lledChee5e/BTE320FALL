{
  "nbformat": 4,
  "nbformat_minor": 0,
  "metadata": {
    "colab": {
      "provenance": [],
      "authorship_tag": "ABX9TyPYkmr7bWTU9oM2KeutMlRu",
      "include_colab_link": true
    },
    "kernelspec": {
      "name": "python3",
      "display_name": "Python 3"
    },
    "language_info": {
      "name": "python"
    }
  },
  "cells": [
    {
      "cell_type": "markdown",
      "metadata": {
        "id": "view-in-github",
        "colab_type": "text"
      },
      "source": [
        "<a href=\"https://colab.research.google.com/github/Gr1lledChee5e/BTE320FALL/blob/main/BTE320_inclassassignment.ipynb\" target=\"_parent\"><img src=\"https://colab.research.google.com/assets/colab-badge.svg\" alt=\"Open In Colab\"/></a>"
      ]
    },
    {
      "cell_type": "markdown",
      "source": [
        "Riley Yee\n",
        "\n",
        "BTE 320: Fall 24'\n",
        "\n",
        "Dr. Skordilis"
      ],
      "metadata": {
        "id": "tnHDxYG5OQ0a"
      }
    },
    {
      "cell_type": "markdown",
      "source": [
        "In-class assignment list (last update: 09/22/2024)\n",
        "\n",
        "Shape area calculator\n",
        "\n",
        "Rock-paper-scissors (with the while loop)\n",
        "\n",
        "Numerical calculator\n",
        "\n",
        "Parking garage\n",
        "\n",
        "\n",
        "Movie theater\n",
        "\n",
        "Months2Numbers dictionary\n",
        "\n",
        "Fee calculation and display functions\n",
        "\n",
        "Reverse function (recursion)"
      ],
      "metadata": {
        "id": "ODz0W0dJ45Rk"
      }
    },
    {
      "cell_type": "code",
      "source": [
        "# Surface Area of a Cylinder\n",
        "pi = 3.14\n",
        "h = 10 #height\n",
        "r = 3 #radius\n",
        "area = 2*pi*r**2 + 2*pi*r*h\n",
        "print(area)"
      ],
      "metadata": {
        "id": "47T2HVen46AU"
      },
      "execution_count": null,
      "outputs": []
    },
    {
      "cell_type": "code",
      "source": [
        "#basic function calculator\n",
        "while True\n",
        "\n",
        "def calculator():\n",
        "    print(\"Welcome to the calculator!\")\n",
        "    print(\"Select operation:\")\n",
        "    print(\"1. Add\")\n",
        "    print(\"2. Subtract\")\n",
        "    print(\"3. Multiply\")\n",
        "    print(\"4. Divide\")\n",
        "\n",
        "    choice = input(\"Enter choic2e (1/2/3/4): \")\n",
        "\n",
        "    if choice in ['1', '2', '3', '4']:\n",
        "        num1 = float(input(\"Enter first number: \"))\n",
        "        num2 = float(input(\"Enter second number: \"))\n",
        "\n",
        "        if choice == '1':\n",
        "            print(f\"{num1} + {num2} = {num1 + num2}\")\n",
        "        elif choice == '2':\n",
        "            print(f\"{num1} - {num2} = {num1 - num2}\")\n",
        "        elif choice == '3':\n",
        "            print(f\"{num1} * {num2} = {num1 * num2}\")\n",
        "        elif choice == '4':\n",
        "            if num2 != 0:\n",
        "                print(f\"{num1} / {num2} = {num1 / num2}\")\n",
        "            else:\n",
        "                print(\"Error! Division by zero.\")\n",
        "    else:\n",
        "        print(\"Invalid Input\")\n",
        "\n",
        "calculator()\n"
      ],
      "metadata": {
        "id": "wvL6AS874_tu"
      },
      "execution_count": null,
      "outputs": []
    },
    {
      "cell_type": "code",
      "source": [
        "#rock paper scissors\n",
        "import random\n",
        "\n",
        "while True:\n",
        "    user_action = input(\"Enter a choice (rock, paper, scissors): \")\n",
        "    possible_actions = [\"rock\", \"paper\", \"scissors\"]\n",
        "    computer_action = random.choice(possible_actions)\n",
        "    print(f\"\\nYou chose {user_action}, computer chose {computer_action}.\\n\")\n",
        "\n",
        "    if user_action == computer_action:\n",
        "        print(f\"Both players selected {user_action}. It's a tie!\")\n",
        "    elif user_action == \"rock\":\n",
        "        if computer_action == \"scissors\":\n",
        "            print(\"Rock destorys scissors! You win!\")\n",
        "        else:\n",
        "            print(\"Paper covered rock! You lose.\")\n",
        "    elif user_action == \"paper\":\n",
        "        if computer_action == \"rock\":\n",
        "            print(\"Paper covered rock! You win!\")\n",
        "        else:\n",
        "            print(\"Scissors cuts ze paper! You lose.\")\n",
        "    elif user_action == \"scissors\":\n",
        "        if computer_action == \"paper\":\n",
        "            print(\"Scissors cuts ze paper! You win!\")\n",
        "        else:\n",
        "            print(\"Rock drops on ze scissors! You lose.\")\n",
        "\n",
        "    play_again = input(\"Play again? (y/n): \")\n",
        "    if play_again.lower() != \"y\":\n",
        "        break"
      ],
      "metadata": {
        "id": "l9z44DwN5FqR"
      },
      "execution_count": null,
      "outputs": []
    },
    {
      "cell_type": "code",
      "source": [
        "#parking garage\n",
        "def calculate_parking_fee(hours):\n",
        "    Flat_Rate = 5.00\n",
        "    hourly_rate = 2.50\n",
        "    minimum_fee = 10.00\n",
        "    maximum_fee = 20.00\n",
        "\n",
        "    total_fee = Flat_Rate + hours * hourly_rate\n",
        "\n",
        "    if total_fee < minimum_fee:\n",
        "        total_fee = minimum_fee\n",
        "    elif total_fee > maximum_fee:\n",
        "        total_fee = maximum_fee\n",
        "\n",
        "    return total_fee\n",
        "\n",
        "hours = 1\n",
        "while hours <= 8:\n",
        "    print(f\"Parking for {hours} hours: ${calculate_parking_fee(hours):.2f}\")\n",
        "    hours += 1"
      ],
      "metadata": {
        "id": "ZXNa0R_H5dIm"
      },
      "execution_count": null,
      "outputs": []
    },
    {
      "cell_type": "markdown",
      "source": [
        "OR"
      ],
      "metadata": {
        "id": "E5foyh6n5yfo"
      }
    },
    {
      "cell_type": "code",
      "source": [
        "flate_rate = 5\n",
        "hourly_rate = 2.5\n",
        "\n",
        "for hour in range (1, 9 ,1):\n",
        "  charge = flate_rate + hour * hourly_rate\n",
        "  if charge < 10:\n",
        "    charge = 10\n",
        "  elif charge > 20:\n",
        "    charge = 20\n",
        "  print(hour, charge)\n"
      ],
      "metadata": {
        "id": "q1HRz1_l5zJx"
      },
      "execution_count": null,
      "outputs": []
    },
    {
      "cell_type": "code",
      "source": [
        "#Movie Theater\n",
        "\n",
        "def calculate_profit(theater):\n",
        "    ticket_price = 10\n",
        "    base_attendance = 20\n",
        "    fixed_costs = 200\n",
        "    additional_attendees = 2 * round(ad_spending)\n",
        "\n",
        "    total_attendees = base_attendance + additional_attendees\n",
        "\n",
        "    revenue = total_attendees * ticket_price\n",
        "\n",
        "    total_costs = fixed_costs + ad_spending\n",
        "\n",
        "    profit = revenue - total_costs\n",
        "\n",
        "    return additional_attendees, total_attendees, revenue, total_costs, profit\n",
        "\n",
        "print(f\"{'Ads Spent':>10} | {'Additional Attendees':>20} | {'Total Attendees':>15} | {'Revenue':>10} | {'Total Costs':>12} | {'Profit':>10}\")\n",
        "print(\"-\" * 80)\n",
        "\n",
        "for ad_spending in range(0, 101, 10):\n",
        "    additional_attendees, total_attendees, revenue, total_costs, profit = calculate_profit(ad_spending)\n",
        "    print(f\"{ad_spending:>10} | {additional_attendees:>20} | {total_attendees:>15} | {revenue:>10} | {total_costs:>12} | {profit:>10}\")\n"
      ],
      "metadata": {
        "colab": {
          "base_uri": "https://localhost:8080/"
        },
        "id": "pE4BOrWs50dR",
        "outputId": "e27c4045-b381-45e3-b0f4-16bed362cc9f"
      },
      "execution_count": null,
      "outputs": [
        {
          "output_type": "stream",
          "name": "stdout",
          "text": [
            " Ads Spent | Additional Attendees | Total Attendees |    Revenue |  Total Costs |     Profit\n",
            "--------------------------------------------------------------------------------\n",
            "         0 |                    0 |              20 |        200 |          200 |          0\n",
            "        10 |                   20 |              40 |        400 |          210 |        190\n",
            "        20 |                   40 |              60 |        600 |          220 |        380\n",
            "        30 |                   60 |              80 |        800 |          230 |        570\n",
            "        40 |                   80 |             100 |       1000 |          240 |        760\n",
            "        50 |                  100 |             120 |       1200 |          250 |        950\n",
            "        60 |                  120 |             140 |       1400 |          260 |       1140\n",
            "        70 |                  140 |             160 |       1600 |          270 |       1330\n",
            "        80 |                  160 |             180 |       1800 |          280 |       1520\n",
            "        90 |                  180 |             200 |       2000 |          290 |       1710\n",
            "       100 |                  200 |             220 |       2200 |          300 |       1900\n"
          ]
        }
      ]
    },
    {
      "cell_type": "code",
      "source": [
        "for ad in range (0, 201, 25):\n",
        "  additional = (2 * ad ** 0.5)\n",
        "  profit = (20 + (additional)) * 10 - 200 - ad\n",
        "  print(ad, profit)"
      ],
      "metadata": {
        "colab": {
          "base_uri": "https://localhost:8080/"
        },
        "id": "Ff2arzMK6B5R",
        "outputId": "0afa5c92-d159-4624-ef3d-3e6021f511dd"
      },
      "execution_count": null,
      "outputs": [
        {
          "output_type": "stream",
          "name": "stdout",
          "text": [
            "0 0.0\n",
            "25 75.0\n",
            "50 91.42135623730951\n",
            "75 98.20508075688781\n",
            "100 100.0\n",
            "125 98.60679774997897\n",
            "150 94.94897427831779\n",
            "175 89.57513110645903\n",
            "200 82.84271247461902\n"
          ]
        }
      ]
    },
    {
      "cell_type": "code",
      "source": [
        "#months2numberds dictionary\n",
        "for i in range(len(names)):\n",
        "  months[i+1] = names[i]\n",
        "\n",
        "months"
      ],
      "metadata": {
        "id": "LYyz__fC6F3D"
      },
      "execution_count": null,
      "outputs": []
    },
    {
      "cell_type": "code",
      "source": [
        "for i in range(len(names)):\n",
        "  months[names[i]] = numbers[i]\n",
        "\n",
        "months"
      ],
      "metadata": {
        "id": "Hvp7Dbny6XtO"
      },
      "execution_count": null,
      "outputs": []
    },
    {
      "cell_type": "code",
      "source": [
        "months = {}\n",
        "\n",
        "names = [\"Jan\", \"Feb\", 'Mar', 'Apr', 'May', 'Jun', 'Jul', 'Aug', 'Sep', 'Oct', 'Nov', 'Dec']\n",
        "numbers = [1,2,3,4,5,6,7,8,9,10,11,12]\n",
        "\n",
        "for i in range(len(names)):\n",
        "  months[i+1] = names[i]\n",
        "\n",
        "for key, value in months.items():\n",
        "  print(key, value)"
      ],
      "metadata": {
        "colab": {
          "base_uri": "https://localhost:8080/"
        },
        "id": "BM8eHavc6oF7",
        "outputId": "5fb82feb-ea96-466f-92a6-207c07a9ffaf"
      },
      "execution_count": null,
      "outputs": [
        {
          "output_type": "stream",
          "name": "stdout",
          "text": [
            "1 Jan\n",
            "2 Feb\n",
            "3 Mar\n",
            "4 Apr\n",
            "5 May\n",
            "6 Jun\n",
            "7 Jul\n",
            "8 Aug\n",
            "9 Sep\n",
            "10 Oct\n",
            "11 Nov\n",
            "12 Dec\n"
          ]
        }
      ]
    },
    {
      "cell_type": "code",
      "source": [
        "#calc fee\n",
        "\n",
        "def calcFee(hours):\n",
        "    flat_rate = 5\n",
        "    hourly_rate = 2.5\n",
        "    max_fee = 50\n",
        "\n",
        "    hours = int(hours) if hours == int(hours) else int(hours) + 1\n",
        "\n",
        "    if hours <= 1:\n",
        "        total_fee = flat_rate\n",
        "    else:\n",
        "        total_fee = flat_rate + (hours - 1) * hourly_rate\n",
        "\n",
        "    if total_fee > max_fee:\n",
        "        total_fee = max_fee\n",
        "\n",
        "    return total_fee\n",
        "\n",
        "hours_parked = input()\n",
        "print(f\"Parking fee for {hours_parked} hours: ${calcFee(hours_parked)}\")\n"
      ],
      "metadata": {
        "colab": {
          "base_uri": "https://localhost:8080/"
        },
        "id": "r_emoLqB6agz",
        "outputId": "e6c9e07a-0b18-4eda-e94e-8b32800d9d22"
      },
      "execution_count": null,
      "outputs": [
        {
          "output_type": "stream",
          "name": "stdout",
          "text": [
            "1 Jan\n",
            "2 Feb\n",
            "3 Mar\n",
            "4 Apr\n",
            "5 May\n",
            "6 Jun\n",
            "7 Jul\n",
            "8 Aug\n",
            "9 Sep\n",
            "10 Oct\n",
            "11 Nov\n",
            "12 Dec\n"
          ]
        }
      ]
    },
    {
      "cell_type": "code",
      "source": [
        "#calc fee in class\n",
        "\n",
        "def calcFee(hours, decimals = 2):\n",
        "  fee = 5 + hours * 2.5\n",
        "  fee = round(fee, decimals)\n",
        "\n",
        "  return fee\n",
        "\n",
        "def displayFee(fee):\n",
        "    print(f\"The parking fee is: ${fee}\")\n",
        "\n",
        "hours_parked = int(input('Enter hours for Parking:'))\n",
        "f = calcFee(hours_parked)\n",
        "displayFee(f)"
      ],
      "metadata": {
        "id": "6ejUHvvN7Z8h"
      },
      "execution_count": null,
      "outputs": []
    },
    {
      "cell_type": "code",
      "source": [
        "# Recursive function example to calculate factorial\n",
        "\n",
        "def factorial(n):\n",
        "    # Base case\n",
        "    if n == 0 or n == 1:\n",
        "        return 1\n",
        "    # Inductive case\n",
        "    else:\n",
        "        return n * factorial(n - 1)\n",
        "\n"
      ],
      "metadata": {
        "id": "4vOasL9O7kQP"
      },
      "execution_count": null,
      "outputs": []
    },
    {
      "cell_type": "code",
      "source": [
        "# Recursive\n",
        "def fact(n):\n",
        "  prod = 1\n",
        "  for i in range(2, n+1):\n",
        "    prod = prod * i\n",
        "  return prod\n",
        "\n",
        "fact(5)"
      ],
      "metadata": {
        "id": "dTnB1tWtN3dw"
      },
      "execution_count": null,
      "outputs": []
    },
    {
      "cell_type": "code",
      "source": [
        "# Recursive\n",
        "def fib(n):\n",
        "  if n == 0 or n == 1:\n",
        "    return 1\n",
        "  else:\n",
        "    return fib(n-1) + fib(n-2)\n",
        "\n",
        "fib(6)"
      ],
      "metadata": {
        "id": "tiUdopURN5bR"
      },
      "execution_count": null,
      "outputs": []
    },
    {
      "cell_type": "code",
      "source": [
        "# Recursive\n",
        "def rev(s):\n",
        "  if len(s) == 1:\n",
        "    return s\n",
        "  else:\n",
        "    return s[-1] + rev(s[:-1])\n",
        "    return s[-1] + rev(s[1:-1] + s[reversed])\n",
        "\n",
        "rev('helloween')"
      ],
      "metadata": {
        "colab": {
          "base_uri": "https://localhost:8080/",
          "height": 35
        },
        "id": "tcjaFxk7ODFT",
        "outputId": "40514573-eadc-4d01-9c33-621a2ebbe777"
      },
      "execution_count": null,
      "outputs": [
        {
          "output_type": "execute_result",
          "data": {
            "text/plain": [
              "'neewolleh'"
            ],
            "application/vnd.google.colaboratory.intrinsic+json": {
              "type": "string"
            }
          },
          "metadata": {},
          "execution_count": 1
        }
      ]
    },
    {
      "cell_type": "code",
      "source": [
        "#weigths w the function should hangle the folowing exception error types\n",
        "#zerodivisionerror (returns empty lsit)\n",
        "#type error (returns empty list)\n",
        "#any other unknown error (returns float('nan'))\n",
        "\n",
        "def wAvg(L, w):\n",
        "    try:\n",
        "        a = [x * y for x, y in zip(L, w)]\n",
        "    except ZeroDivisionError:\n",
        "        print('Division by Zero!')\n",
        "        return []\n",
        "    except TypeError:\n",
        "        print('Incompatible object types...')\n",
        "        return []\n",
        "    except Exception as e:\n",
        "      print(f'Unknown Error: {e}')\n",
        "      return float('nan')\n",
        "    return a\n",
        "\n",
        "\n",
        "L = [1, 2, 3]\n",
        "w = [0.1, 0.3, 0.5]\n",
        "s = wAvg(L, w)\n",
        "print(s)"
      ],
      "metadata": {
        "colab": {
          "base_uri": "https://localhost:8080/"
        },
        "id": "-VsRuYnCBsZ9",
        "outputId": "c489ce48-5f3d-4e20-a3a4-64598735709b"
      },
      "execution_count": null,
      "outputs": [
        {
          "output_type": "stream",
          "name": "stdout",
          "text": [
            "[0.1, 0.6, 1.5]\n"
          ]
        }
      ]
    },
    {
      "source": [
        "#weigths w the function should hangle the folowing exception error types\n",
        "#zerodivisionerror (returns empty lsit)\n",
        "#type error (returns empty list)\n",
        "#any other unknown error (returns float('nan'))\n",
        "\n",
        "def wAvg(L, w):\n",
        "  try:\n",
        "    L = [float(x) for x in L]\n",
        "    weighted_sum = sum(x * y for x, y in zip(L, w))\n",
        "    weight_sum = sum(w)\n",
        "    weighted_avg = weighted_sum / weight_sum\n",
        "\n",
        "  except ZeroDivisionError:\n",
        "    print('Division by Zero!')\n",
        "    return float('nan')\n",
        "  except (TypeError, ValueError):\n",
        "    print('Incompatible object types or invalid input...')\n",
        "    return float('nan')\n",
        "  except Exception as e:\n",
        "    print(f'Unknown Error: {e}')\n",
        "    return float('nan')\n",
        "\n",
        "  return weighted_avg\n",
        "\n",
        "\n",
        "s = wAvg([1, '2', 3], [0.1, 0.3, 0.5])\n",
        "print(s)"
      ],
      "cell_type": "code",
      "metadata": {
        "colab": {
          "base_uri": "https://localhost:8080/"
        },
        "id": "ryhu1_CUEz2K",
        "outputId": "555d578d-4a3a-42f3-c100-5b0f681c56e6"
      },
      "execution_count": null,
      "outputs": [
        {
          "output_type": "stream",
          "name": "stdout",
          "text": [
            "2.4444444444444446\n"
          ]
        }
      ]
    },
    {
      "cell_type": "code",
      "source": [
        "#Class one\n",
        "\n",
        "def wAvg(L, w):\n",
        "  res = []\n",
        "  try:\n",
        "    for i in range(len(L)):\n",
        "      res.append(L[i] * w[i])\n",
        "    return sum(res) / sum(w)\n",
        "  except ZeroDivisionError:\n",
        "      print('Division by Zero.')\n",
        "      return []\n",
        "  except TypeError:\n",
        "      print('Non-numerical objects found.')\n",
        "      return []\n",
        "  except Exception as e:\n",
        "      print(f'Unknown Error: {e}')\n",
        "      return float('nan')\n",
        "\n",
        "wAvg([1,'2',3], [0.1, 0.3, 0.5])"
      ],
      "metadata": {
        "colab": {
          "base_uri": "https://localhost:8080/"
        },
        "id": "CjaToj09Dn6w",
        "outputId": "868b7601-1857-4227-f485-324a966f9764"
      },
      "execution_count": null,
      "outputs": [
        {
          "output_type": "stream",
          "name": "stdout",
          "text": [
            "Non-numerical objects found.\n"
          ]
        },
        {
          "output_type": "execute_result",
          "data": {
            "text/plain": [
              "[]"
            ]
          },
          "metadata": {},
          "execution_count": 27
        }
      ]
    },
    {
      "cell_type": "code",
      "source": [
        "class Student:\n",
        "    def __init__(self, name, student_id):\n",
        "        self.name = name\n",
        "        self.student_id = student_id\n",
        "        self.courses = []\n",
        "\n",
        "    def enroll(self, course):\n",
        "        if course not in self.courses:\n",
        "            self.courses.append(course)\n",
        "            print(f\"{self.name} has been enrolled in {course}.\")\n",
        "        else:\n",
        "            print(f\"{self.name} is already enrolled in {course}.\")\n",
        "\n",
        "    def get_courses(self):\n",
        "        return self.courses\n",
        "\n",
        "    def __str__(self):\n",
        "        return f\"Student Name: {self.name}, ID: {self.student_id}\"\n",
        "\n"
      ],
      "metadata": {
        "id": "Erg0K348R9oY"
      },
      "execution_count": null,
      "outputs": []
    },
    {
      "cell_type": "code",
      "source": [
        "student = Student(\"John Doe\", 12345)\n",
        "student.enroll(\"Math\")\n",
        "student.enroll(\"Science\")\n",
        "student.enroll(\"Math\")\n",
        "\n",
        "print(student.get_courses())"
      ],
      "metadata": {
        "id": "QRQfmeRcSBcH"
      },
      "execution_count": null,
      "outputs": []
    }
  ]
}