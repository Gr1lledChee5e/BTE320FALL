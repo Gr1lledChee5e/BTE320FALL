{
  "cells": [
    {
      "cell_type": "markdown",
      "metadata": {
        "id": "view-in-github",
        "colab_type": "text"
      },
      "source": [
        "<a href=\"https://colab.research.google.com/github/Gr1lledChee5e/BTE320FALL/blob/main/BTE320_InClassNOTESAssignments.ipynb\" target=\"_parent\"><img src=\"https://colab.research.google.com/assets/colab-badge.svg\" alt=\"Open In Colab\"/></a>"
      ]
    },
    {
      "cell_type": "code",
      "execution_count": null,
      "metadata": {
        "colab": {
          "base_uri": "https://localhost:8080/"
        },
        "id": "gLtGtvL0SP8m",
        "outputId": "4a1564b1-6cbe-4f27-c082-e0474b4251d8"
      },
      "outputs": [
        {
          "name": "stdout",
          "output_type": "stream",
          "text": [
            "244.92000000000002\n"
          ]
        }
      ],
      "source": [
        "# Surface Area of a Cylinder\n",
        "pi = 3.14\n",
        "h = 10 #height\n",
        "r = 3 #radius\n",
        "area = 2*pi*r**2 + 2*pi*r*h\n",
        "print(area)"
      ]
    },
    {
      "cell_type": "code",
      "execution_count": null,
      "metadata": {
        "id": "SceikbgwbXRJ"
      },
      "outputs": [],
      "source": []
    },
    {
      "cell_type": "code",
      "execution_count": null,
      "metadata": {
        "colab": {
          "base_uri": "https://localhost:8080/"
        },
        "id": "_Kldn8BdMcwl",
        "outputId": "b67b000f-6e35-4f4c-9fc8-41b1d6765ebb"
      },
      "outputs": [
        {
          "name": "stdout",
          "output_type": "stream",
          "text": [
            "0 2 4 6 8 10 "
          ]
        }
      ],
      "source": [
        "for i in range (0,11,2):\n",
        "  print(i, end=' ')"
      ]
    },
    {
      "cell_type": "code",
      "execution_count": null,
      "metadata": {
        "colab": {
          "base_uri": "https://localhost:8080/"
        },
        "id": "p4RC50_XMhki",
        "outputId": "69623dcf-92f9-4b61-9461-5a1d0188c442"
      },
      "outputs": [
        {
          "name": "stdout",
          "output_type": "stream",
          "text": [
            "0 2 4 6 8 10 "
          ]
        }
      ],
      "source": [
        "i = 0\n",
        "while i < 11:\n",
        "  print(i, end=' ')\n",
        "  i = i + 2"
      ]
    },
    {
      "cell_type": "markdown",
      "metadata": {
        "id": "xMP9p_5SZ-OS"
      },
      "source": [
        "Basic Function Calculator"
      ]
    },
    {
      "cell_type": "code",
      "execution_count": null,
      "metadata": {
        "colab": {
          "base_uri": "https://localhost:8080/"
        },
        "id": "BCxldVq9ZkDM",
        "outputId": "f30cd288-66bc-43cd-bd09-231c5c94a197"
      },
      "outputs": [
        {
          "name": "stdout",
          "output_type": "stream",
          "text": [
            "Welcome to the calculator!\n",
            "Select operation:\n",
            "1. Add\n",
            "2. Subtract\n",
            "3. Multiply\n",
            "4. Divide\n",
            "Enter choice (1/2/3/4): 1\n",
            "Enter first number: 2\n",
            "Enter second number: 2\n",
            "2.0 + 2.0 = 4.0\n"
          ]
        }
      ],
      "source": [
        "while True\n",
        "\n",
        "def calculator():\n",
        "    print(\"Welcome to the calculator!\")\n",
        "    print(\"Select operation:\")\n",
        "    print(\"1. Add\")\n",
        "    print(\"2. Subtract\")\n",
        "    print(\"3. Multiply\")\n",
        "    print(\"4. Divide\")\n",
        "\n",
        "    choice = input(\"Enter choic2e (1/2/3/4): \")\n",
        "\n",
        "    if choice in ['1', '2', '3', '4']:\n",
        "        num1 = float(input(\"Enter first number: \"))\n",
        "        num2 = float(input(\"Enter second number: \"))\n",
        "\n",
        "        if choice == '1':\n",
        "            print(f\"{num1} + {num2} = {num1 + num2}\")\n",
        "        elif choice == '2':\n",
        "            print(f\"{num1} - {num2} = {num1 - num2}\")\n",
        "        elif choice == '3':\n",
        "            print(f\"{num1} * {num2} = {num1 * num2}\")\n",
        "        elif choice == '4':\n",
        "            if num2 != 0:\n",
        "                print(f\"{num1} / {num2} = {num1 / num2}\")\n",
        "            else:\n",
        "                print(\"Error! Division by zero.\")\n",
        "    else:\n",
        "        print(\"Invalid Input\")\n",
        "\n",
        "calculator()\n"
      ]
    },
    {
      "cell_type": "code",
      "execution_count": null,
      "metadata": {
        "id": "wceMbxFuP_GI"
      },
      "outputs": [],
      "source": []
    },
    {
      "cell_type": "code",
      "execution_count": null,
      "metadata": {
        "colab": {
          "base_uri": "https://localhost:8080/"
        },
        "id": "n3KGgcFiaLGi",
        "outputId": "ec2dc71a-b84b-44b8-8287-f2ede95f5366"
      },
      "outputs": [
        {
          "name": "stdout",
          "output_type": "stream",
          "text": [
            "enter number:2\n",
            "enter number:3\n",
            "Choose operator (+, -, *, /, **):**\n",
            "8.0\n"
          ]
        }
      ],
      "source": [
        "n1 = float(input('enter number:'))\n",
        "n2 = float(input('enter number:'))\n",
        "symbol = input('Choose operator (+, -, *, /, **):')\n",
        "\n",
        "if symbol == '+':\n",
        "    print(n1 + n2)\n",
        "elif symbol == '-':\n",
        "    print(n1 - n2)\n",
        "elif symbol == '/':\n",
        "    print(n1 / n2)\n",
        "elif symbol == '*':\n",
        "    print(n1 * n2)\n",
        "else:\n",
        "    print(n1 ** n2)\n"
      ]
    },
    {
      "cell_type": "markdown",
      "metadata": {
        "id": "lz6mvKQdZ8ez"
      },
      "source": []
    },
    {
      "cell_type": "code",
      "execution_count": null,
      "metadata": {
        "colab": {
          "base_uri": "https://localhost:8080/"
        },
        "id": "5oWx-3GTc0Kw",
        "outputId": "057c6cba-bd93-4138-96b0-cbe9f6d3826f"
      },
      "outputs": [
        {
          "name": "stdout",
          "output_type": "stream",
          "text": [
            "Requirement already satisfied: ColabTurtlePlus in /usr/local/lib/python3.10/dist-packages (2.0.1)\n"
          ]
        }
      ],
      "source": [
        "!pip install ColabTurtlePlus"
      ]
    },
    {
      "cell_type": "code",
      "execution_count": null,
      "metadata": {
        "colab": {
          "base_uri": "https://localhost:8080/",
          "height": 216
        },
        "id": "Fggk0r5Nd13e",
        "outputId": "792d2f4d-059d-4906-8a08-f22f48121c87"
      },
      "outputs": [
        {
          "ename": "NameError",
          "evalue": "name 'screen' is not defined",
          "output_type": "error",
          "traceback": [
            "\u001b[0;31m---------------------------------------------------------------------------\u001b[0m",
            "\u001b[0;31mNameError\u001b[0m                                 Traceback (most recent call last)",
            "\u001b[0;32m<ipython-input-48-ad7558ffd8ce>\u001b[0m in \u001b[0;36m<cell line: 3>\u001b[0;34m()\u001b[0m\n\u001b[1;32m      1\u001b[0m \u001b[0;32mfrom\u001b[0m \u001b[0mColabTurtlePlus\u001b[0m \u001b[0;32mimport\u001b[0m \u001b[0;34m*\u001b[0m\u001b[0;34m\u001b[0m\u001b[0;34m\u001b[0m\u001b[0m\n\u001b[1;32m      2\u001b[0m \u001b[0;34m\u001b[0m\u001b[0m\n\u001b[0;32m----> 3\u001b[0;31m \u001b[0mscreen\u001b[0m \u001b[0;34m=\u001b[0m \u001b[0mscreen\u001b[0m\u001b[0;34m(\u001b[0m\u001b[0;34m)\u001b[0m\u001b[0;34m\u001b[0m\u001b[0;34m\u001b[0m\u001b[0m\n\u001b[0m\u001b[1;32m      4\u001b[0m \u001b[0;34m\u001b[0m\u001b[0m\n\u001b[1;32m      5\u001b[0m \u001b[0mscreen\u001b[0m\u001b[0;34m.\u001b[0m\u001b[0mclearscreen\u001b[0m\u001b[0;34m(\u001b[0m\u001b[0;34m)\u001b[0m\u001b[0;34m\u001b[0m\u001b[0;34m\u001b[0m\u001b[0m\n",
            "\u001b[0;31mNameError\u001b[0m: name 'screen' is not defined"
          ]
        }
      ],
      "source": [
        "from ColabTurtlePlus import *\n",
        "\n",
        "screen = screen()\n",
        "\n",
        "screen.clearscreen()\n",
        "\n",
        "reset = True\n",
        "\n",
        "if reset:\n",
        "  Clear()\n",
        "\n",
        "color('black', 'green')\n",
        "shape('blank')\n",
        "begin_fill()\n",
        "jumpto(0,0)\n",
        "\n",
        "forward(100)\n",
        "left(90)\n",
        "forward(100)\n",
        "left(90)\n",
        "forward(100)\n",
        "left(90)\n",
        "forward(100)\n",
        "left(90)\n",
        "\n",
        "penup()\n",
        "end_fill()\n"
      ]
    },
    {
      "cell_type": "code",
      "execution_count": null,
      "metadata": {
        "colab": {
          "base_uri": "https://localhost:8080/",
          "height": 621
        },
        "id": "FRkwp5wNe3bl",
        "outputId": "3123a769-1e3a-4721-ff0a-3e641540027a"
      },
      "outputs": [
        {
          "data": {
            "text/html": [
              "\n",
              "      <svg width=\"800\" height=\"600\">  \n",
              "        <rect width=\"100%\" height=\"100%\" style=\"fill:white;stroke:;stroke-width:1\"/>\n",
              "        \n",
              "        \n",
              "        <path fill-rule=\"evenodd\" fill-opacity=\"1\" d=\"M 400.0 300.0  L 400.0 300.0  L 500.0 300.0  L 500.0 200.0  L 400.0 200.0  L 400.0 300.0 \" stroke-linecap=\"round\" style=\"stroke:none;stroke-width:1\" fill=\"green\" />\n",
              "        \n",
              "        \n",
              "        \n",
              "      </svg>\n",
              "    "
            ],
            "text/plain": [
              "<IPython.core.display.HTML object>"
            ]
          },
          "metadata": {},
          "output_type": "display_data"
        }
      ],
      "source": [
        "from ColabTurtlePlus.Turtle import *\n",
        "\n",
        "clearscreen()\n",
        "\n",
        "reset = True\n",
        "\n",
        "if reset:\n",
        "  clear()\n",
        "\n",
        "color('black', 'green')\n",
        "shape('blank')\n",
        "begin_fill()\n",
        "jumpto(0,0)\n",
        "\n",
        "\n",
        "for i in range(4):\n",
        "  forward(100)\n",
        "  left(90)\n",
        "\n",
        "\n",
        "penup()\n",
        "end_fill()"
      ]
    },
    {
      "cell_type": "markdown",
      "metadata": {
        "id": "BMoq3JDGgHK0"
      },
      "source": [
        "Range (start, stop, step) for varname in sequence\n",
        "\n",
        "Start\n",
        "Start + step\n",
        "Start + 2*step\n",
        "start + N*step < Stop\n",
        "\n",
        "[Start, stop)\n",
        "\n",
        "Start --> 0\n",
        "step --> 1\n",
        "range[ 0,1,2,3] for range(4)\n",
        "\n",
        "such that, i = 0, i =1, i=2, i=3\n"
      ]
    },
    {
      "cell_type": "code",
      "execution_count": null,
      "metadata": {
        "colab": {
          "base_uri": "https://localhost:8080/"
        },
        "id": "kKxTAceqjLkl",
        "outputId": "9a84a60b-5e8f-45a4-a04c-7d7c3f68baeb"
      },
      "outputs": [
        {
          "name": "stdout",
          "output_type": "stream",
          "text": [
            "0 2 4 6 8 10 "
          ]
        }
      ],
      "source": [
        "for i in range (0,11, 2):\n",
        "  print(i, end=' ')"
      ]
    },
    {
      "cell_type": "code",
      "execution_count": null,
      "metadata": {
        "colab": {
          "base_uri": "https://localhost:8080/"
        },
        "id": "OofD0P4ljwyX",
        "outputId": "6bdd7725-39c2-4bb4-a84a-8706616b1019"
      },
      "outputs": [
        {
          "name": "stdout",
          "output_type": "stream",
          "text": [
            "40 30 20 10 "
          ]
        }
      ],
      "source": [
        "for i in range (40,5, -10):\n",
        "  print(i, end=' ')"
      ]
    },
    {
      "cell_type": "markdown",
      "metadata": {
        "id": "zxOVz4aBjkH7"
      },
      "source": []
    },
    {
      "cell_type": "code",
      "execution_count": null,
      "metadata": {
        "colab": {
          "base_uri": "https://localhost:8080/"
        },
        "id": "YBGaHtLiQ3j2",
        "outputId": "d4fb09d3-3734-4317-bd50-b0850d8b377c"
      },
      "outputs": [
        {
          "name": "stdout",
          "output_type": "stream",
          "text": [
            "Enter a choice (rock, paper, scissors): paper\n",
            "\n",
            "You chose paper, computer chose paper.\n",
            "\n",
            "Both players selected paper. It's a tie!\n",
            "Play again? (y/n): y\n",
            "Enter a choice (rock, paper, scissors): rock\n",
            "\n",
            "You chose rock, computer chose scissors.\n",
            "\n",
            "Rock smashes scissors! You win!\n",
            "Play again? (y/n): y\n",
            "Enter a choice (rock, paper, scissors): rock\n",
            "\n",
            "You chose rock, computer chose rock.\n",
            "\n",
            "Both players selected rock. It's a tie!\n",
            "Play again? (y/n): y\n",
            "Enter a choice (rock, paper, scissors): rock\n",
            "\n",
            "You chose rock, computer chose paper.\n",
            "\n",
            "Paper covers rock! You lose.\n",
            "Play again? (y/n): n\n"
          ]
        }
      ],
      "source": [
        "import random\n",
        "\n",
        "while True:\n",
        "    user_action = input(\"Enter a choice (rock, paper, scissors): \")\n",
        "    possible_actions = [\"rock\", \"paper\", \"scissors\"]\n",
        "    computer_action = random.choice(possible_actions)\n",
        "    print(f\"\\nYou chose {user_action}, computer chose {computer_action}.\\n\")\n",
        "\n",
        "    if user_action == computer_action:\n",
        "        print(f\"Both players selected {user_action}. It's a tie!\")\n",
        "    elif user_action == \"rock\":\n",
        "        if computer_action == \"scissors\":\n",
        "            print(\"Rock destorys scissors! You win!\")\n",
        "        else:\n",
        "            print(\"Paper covered rock! You lose.\")\n",
        "    elif user_action == \"paper\":\n",
        "        if computer_action == \"rock\":\n",
        "            print(\"Paper covered rock! You win!\")\n",
        "        else:\n",
        "            print(\"Scissors cuts ze paper! You lose.\")\n",
        "    elif user_action == \"scissors\":\n",
        "        if computer_action == \"paper\":\n",
        "            print(\"Scissors cuts ze paper! You win!\")\n",
        "        else:\n",
        "            print(\"Rock drops on ze scissors! You lose.\")\n",
        "\n",
        "    play_again = input(\"Play again? (y/n): \")\n",
        "    if play_again.lower() != \"y\":\n",
        "        break"
      ]
    },
    {
      "cell_type": "markdown",
      "metadata": {
        "id": "BQlQtnZrbYYP"
      },
      "source": [
        "Parking Garage"
      ]
    },
    {
      "cell_type": "code",
      "execution_count": null,
      "metadata": {
        "colab": {
          "base_uri": "https://localhost:8080/",
          "height": 106
        },
        "id": "ABF-frSJdXim",
        "outputId": "a65c7cef-a12c-40d7-fa81-fd608133b8bc"
      },
      "outputs": [
        {
          "output_type": "error",
          "ename": "IndentationError",
          "evalue": "unexpected indent (<ipython-input-11-bc56f81f3d46>, line 9)",
          "traceback": [
            "\u001b[0;36m  File \u001b[0;32m\"<ipython-input-11-bc56f81f3d46>\"\u001b[0;36m, line \u001b[0;32m9\u001b[0m\n\u001b[0;31m    if total_fee < minimum_fee:\u001b[0m\n\u001b[0m    ^\u001b[0m\n\u001b[0;31mIndentationError\u001b[0m\u001b[0;31m:\u001b[0m unexpected indent\n"
          ]
        }
      ],
      "source": [
        "def calculate_parking_fee(hours):\n",
        "  Flat_Rate = 5.00\n",
        "  hourly_rate = 2.50\n",
        "  minimum_fee = 10.00\n",
        "  maximum_fee = 20.00\n",
        "\n",
        "  total_fee = Flat_Rate + hours * hourly_rate\n",
        "\n",
        "    if total_fee < minimum_fee:\n",
        "        total_fee = minimum_fee\n",
        "    elif total_fee > maximum_fee:\n",
        "        total_fee = maximum_fee\n",
        "\n",
        "\n",
        "    return total_fee\n",
        "\n",
        "hours = 1\n",
        "while hours <= 8:\n",
        "    print(f\"Parking for {hours} hours: ${calculate_parking_fee(hours):.2f}\")\n",
        "    hours += 1"
      ]
    },
    {
      "cell_type": "code",
      "execution_count": null,
      "metadata": {
        "id": "umAtiq0ZlKBb",
        "colab": {
          "base_uri": "https://localhost:8080/"
        },
        "outputId": "6a45835c-783f-45e5-e853-8cecb947029c"
      },
      "outputs": [
        {
          "output_type": "stream",
          "name": "stdout",
          "text": [
            "Parking for 1 hours: $10.00\n",
            "Parking for 2 hours: $10.00\n",
            "Parking for 3 hours: $12.50\n",
            "Parking for 4 hours: $15.00\n",
            "Parking for 5 hours: $17.50\n",
            "Parking for 6 hours: $20.00\n",
            "Parking for 7 hours: $20.00\n",
            "Parking for 8 hours: $20.00\n"
          ]
        }
      ],
      "source": [
        "def calculate_parking_fee(hours):\n",
        "    Flat_Rate = 5.00\n",
        "    hourly_rate = 2.50\n",
        "    minimum_fee = 10.00\n",
        "    maximum_fee = 20.00\n",
        "\n",
        "    total_fee = Flat_Rate + hours * hourly_rate\n",
        "\n",
        "    if total_fee < minimum_fee:\n",
        "        total_fee = minimum_fee\n",
        "    elif total_fee > maximum_fee:\n",
        "        total_fee = maximum_fee\n",
        "\n",
        "    return total_fee\n",
        "\n",
        "hours = 1\n",
        "while hours <= 8:\n",
        "    print(f\"Parking for {hours} hours: ${calculate_parking_fee(hours):.2f}\")\n",
        "    hours += 1"
      ]
    },
    {
      "cell_type": "code",
      "execution_count": null,
      "metadata": {
        "colab": {
          "base_uri": "https://localhost:8080/"
        },
        "id": "QoGVDUEWdzaJ",
        "outputId": "4af7894e-0ddc-44b5-a52f-7d6f6ae047e5"
      },
      "outputs": [
        {
          "output_type": "stream",
          "name": "stdout",
          "text": [
            "1 10\n",
            "2 10.0\n",
            "3 12.5\n",
            "4 15.0\n",
            "5 17.5\n",
            "6 20.0\n",
            "7 20\n",
            "8 20\n"
          ]
        }
      ],
      "source": [
        "flate_rate = 5\n",
        "hourly_rate = 2.5\n",
        "\n",
        "for hour in range (1, 9 ,1):\n",
        "  charge = flate_rate + hour * hourly_rate\n",
        "  if charge < 10:\n",
        "    charge = 10\n",
        "  elif charge > 20:\n",
        "    charge = 20\n",
        "  print(hour, charge)\n"
      ]
    },
    {
      "cell_type": "markdown",
      "metadata": {
        "id": "4sTN1_lLkegT"
      },
      "source": [
        "MOVIE THEATER"
      ]
    },
    {
      "cell_type": "code",
      "execution_count": null,
      "metadata": {
        "colab": {
          "base_uri": "https://localhost:8080/"
        },
        "id": "xUZM8cTgkFbJ",
        "outputId": "588b62d1-a948-4737-bd9a-92dd1b657c9d"
      },
      "outputs": [
        {
          "name": "stdout",
          "output_type": "stream",
          "text": [
            " Ads Spent | Additional Attendees | Total Attendees |    Revenue |  Total Costs |     Profit\n",
            "--------------------------------------------------------------------------------\n",
            "         0 |                    0 |              20 |        200 |          200 |          0\n",
            "        10 |                   20 |              40 |        400 |          210 |        190\n",
            "        20 |                   40 |              60 |        600 |          220 |        380\n",
            "        30 |                   60 |              80 |        800 |          230 |        570\n",
            "        40 |                   80 |             100 |       1000 |          240 |        760\n",
            "        50 |                  100 |             120 |       1200 |          250 |        950\n",
            "        60 |                  120 |             140 |       1400 |          260 |       1140\n",
            "        70 |                  140 |             160 |       1600 |          270 |       1330\n",
            "        80 |                  160 |             180 |       1800 |          280 |       1520\n",
            "        90 |                  180 |             200 |       2000 |          290 |       1710\n",
            "       100 |                  200 |             220 |       2200 |          300 |       1900\n"
          ]
        }
      ],
      "source": [
        "def calculate_profit(theater):\n",
        "    ticket_price = 10\n",
        "    base_attendance = 20\n",
        "    fixed_costs = 200\n",
        "    additional_attendees = 2 * round(ad_spending)\n",
        "\n",
        "    total_attendees = base_attendance + additional_attendees\n",
        "\n",
        "    revenue = total_attendees * ticket_price\n",
        "\n",
        "    total_costs = fixed_costs + ad_spending\n",
        "\n",
        "    profit = revenue - total_costs\n",
        "\n",
        "    return additional_attendees, total_attendees, revenue, total_costs, profit\n",
        "\n",
        "print(f\"{'Ads Spent':>10} | {'Additional Attendees':>20} | {'Total Attendees':>15} | {'Revenue':>10} | {'Total Costs':>12} | {'Profit':>10}\")\n",
        "print(\"-\" * 80)\n",
        "\n",
        "for ad_spending in range(0, 101, 10):\n",
        "    additional_attendees, total_attendees, revenue, total_costs, profit = calculate_profit(ad_spending)\n",
        "    print(f\"{ad_spending:>10} | {additional_attendees:>20} | {total_attendees:>15} | {revenue:>10} | {total_costs:>12} | {profit:>10}\")\n"
      ]
    },
    {
      "cell_type": "code",
      "execution_count": null,
      "metadata": {
        "colab": {
          "base_uri": "https://localhost:8080/"
        },
        "id": "Q1A6DvHClYXq",
        "outputId": "b569964f-1107-445c-c0a5-b12a15ebd3d9"
      },
      "outputs": [
        {
          "name": "stdout",
          "output_type": "stream",
          "text": [
            "0 0.0\n",
            "25 75.0\n",
            "50 91.42135623730951\n",
            "75 98.20508075688781\n",
            "100 100.0\n",
            "125 98.60679774997897\n",
            "150 94.94897427831779\n",
            "175 89.57513110645903\n",
            "200 82.84271247461902\n"
          ]
        }
      ],
      "source": [
        "for ad in range (0, 201, 25):\n",
        "  additional = (2 * ad ** 0.5)\n",
        "  profit = (20 + (additional)) * 10 - 200 - ad\n",
        "  print(ad, profit)"
      ]
    },
    {
      "cell_type": "code",
      "execution_count": null,
      "metadata": {
        "colab": {
          "base_uri": "https://localhost:8080/"
        },
        "id": "dXwz3Th6p05W",
        "outputId": "e7afddce-b435-43c3-dd4e-33dbb8a63f1a"
      },
      "outputs": [
        {
          "name": "stdout",
          "output_type": "stream",
          "text": [
            "0 1 2 3 4 5 6 7 8 9 "
          ]
        }
      ],
      "source": [
        "for i in range( 1_000_000_000):\n",
        "  if i == 10:\n",
        "    break\n",
        "  print(i, end = ' ')\n"
      ]
    },
    {
      "cell_type": "code",
      "execution_count": null,
      "metadata": {
        "id": "4wgnR5B4p3XC"
      },
      "outputs": [],
      "source": []
    },
    {
      "cell_type": "markdown",
      "metadata": {
        "id": "13FkyFi5MSeW"
      },
      "source": [
        "9/23/24"
      ]
    },
    {
      "cell_type": "code",
      "execution_count": null,
      "metadata": {
        "colab": {
          "base_uri": "https://localhost:8080/"
        },
        "id": "k-7fkHvvMT70",
        "outputId": "f2f35cab-f113-4d52-9a49-378f4ac53eea"
      },
      "outputs": [
        {
          "data": {
            "text/plain": [
              "5"
            ]
          },
          "execution_count": 2,
          "metadata": {},
          "output_type": "execute_result"
        }
      ],
      "source": [
        "len('hello')\n",
        "# get length/ character count"
      ]
    },
    {
      "cell_type": "code",
      "execution_count": null,
      "metadata": {
        "colab": {
          "base_uri": "https://localhost:8080/"
        },
        "id": "5ipSuCC_OYLn",
        "outputId": "718fc3d3-8c6f-4eae-d7e9-6d540d76ba18"
      },
      "outputs": [
        {
          "data": {
            "text/plain": [
              "3"
            ]
          },
          "execution_count": 4,
          "metadata": {},
          "output_type": "execute_result"
        }
      ],
      "source": [
        "s= {'a', 'bb', 'ccc'}\n",
        "len(s)"
      ]
    },
    {
      "cell_type": "code",
      "execution_count": null,
      "metadata": {
        "colab": {
          "base_uri": "https://localhost:8080/"
        },
        "id": "eHz4KEu0Oea0",
        "outputId": "3efcfb51-1a25-4372-e62b-43db6b4bb017"
      },
      "outputs": [
        {
          "data": {
            "text/plain": [
              "16"
            ]
          },
          "execution_count": 7,
          "metadata": {},
          "output_type": "execute_result"
        }
      ],
      "source": [
        "s= ('this is a string')\n",
        "len(s)"
      ]
    },
    {
      "cell_type": "code",
      "execution_count": null,
      "metadata": {
        "colab": {
          "base_uri": "https://localhost:8080/",
          "height": 35
        },
        "id": "550CBwA8OmDY",
        "outputId": "e728a3c2-2f2a-4d28-f91d-99acffe541be"
      },
      "outputs": [
        {
          "data": {
            "application/vnd.google.colaboratory.intrinsic+json": {
              "type": "string"
            },
            "text/plain": [
              "'1'"
            ]
          },
          "execution_count": 13,
          "metadata": {},
          "output_type": "execute_result"
        }
      ],
      "source": [
        "t = \"1234567\"\n",
        "t[0]\n",
        "#place of charater; ranges from 0 to infitity"
      ]
    },
    {
      "cell_type": "code",
      "execution_count": null,
      "metadata": {
        "colab": {
          "base_uri": "https://localhost:8080/"
        },
        "id": "vD-TjgD0RBQS",
        "outputId": "22b88be3-77aa-4a08-c418-d12ed726ba96"
      },
      "outputs": [
        {
          "data": {
            "text/plain": [
              "('this', 'string')"
            ]
          },
          "execution_count": 18,
          "metadata": {},
          "output_type": "execute_result"
        }
      ],
      "source": [
        "s[0:4], s[10:16]"
      ]
    },
    {
      "cell_type": "code",
      "execution_count": null,
      "metadata": {
        "colab": {
          "base_uri": "https://localhost:8080/",
          "height": 35
        },
        "id": "15Fn7Gf1T7JR",
        "outputId": "5cd43b57-f23a-4022-bee7-c62b1eb58673"
      },
      "outputs": [
        {
          "data": {
            "application/vnd.google.colaboratory.intrinsic+json": {
              "type": "string"
            },
            "text/plain": [
              "'23456'"
            ]
          },
          "execution_count": 21,
          "metadata": {},
          "output_type": "execute_result"
        }
      ],
      "source": [
        "t[1:-1]"
      ]
    },
    {
      "cell_type": "code",
      "execution_count": null,
      "metadata": {
        "colab": {
          "base_uri": "https://localhost:8080/"
        },
        "id": "fQz5Y2PWV4lO",
        "outputId": "8de0a3e5-18f9-4140-f1f4-95cf88c5552b"
      },
      "outputs": [
        {
          "name": "stdout",
          "output_type": "stream",
          "text": [
            "0 1\n",
            "1 2\n",
            "2 3\n",
            "3 4\n",
            "4 5\n",
            "5 6\n",
            "6 7\n"
          ]
        }
      ],
      "source": [
        "for idx in range(len(t)):\n",
        "  print(idx, t[idx])"
      ]
    },
    {
      "cell_type": "code",
      "execution_count": null,
      "metadata": {
        "colab": {
          "base_uri": "https://localhost:8080/"
        },
        "id": "kSOxSkuDV7LY",
        "outputId": "87477f81-d810-4d0e-ab65-b65373a8729f"
      },
      "outputs": [
        {
          "name": "stdout",
          "output_type": "stream",
          "text": [
            "t\n",
            "h\n",
            "i\n",
            "s\n",
            " \n",
            "i\n",
            "s\n",
            " \n",
            "a\n",
            " \n",
            "s\n",
            "t\n",
            "r\n",
            "i\n",
            "n\n",
            "g\n"
          ]
        }
      ],
      "source": [
        "for char in s:\n",
        "  print(char)"
      ]
    },
    {
      "cell_type": "code",
      "execution_count": null,
      "metadata": {
        "colab": {
          "base_uri": "https://localhost:8080/",
          "height": 198
        },
        "id": "aEq_s17XXC3N",
        "outputId": "3303509b-a8c3-4c98-b4c1-6a9294b52ab9"
      },
      "outputs": [
        {
          "ename": "NameError",
          "evalue": "name 'lens' is not defined",
          "output_type": "error",
          "traceback": [
            "\u001b[0;31m---------------------------------------------------------------------------\u001b[0m",
            "\u001b[0;31mNameError\u001b[0m                                 Traceback (most recent call last)",
            "\u001b[0;32m<ipython-input-33-e80e42dd0251>\u001b[0m in \u001b[0;36m<cell line: 1>\u001b[0;34m()\u001b[0m\n\u001b[0;32m----> 1\u001b[0;31m \u001b[0;32mfor\u001b[0m \u001b[0midx\u001b[0m \u001b[0;32min\u001b[0m \u001b[0mrange\u001b[0m\u001b[0;34m(\u001b[0m\u001b[0mlens\u001b[0m\u001b[0;34m(\u001b[0m\u001b[0ms\u001b[0m\u001b[0;34m)\u001b[0m\u001b[0;34m)\u001b[0m\u001b[0;34m:\u001b[0m\u001b[0;34m\u001b[0m\u001b[0;34m\u001b[0m\u001b[0m\n\u001b[0m\u001b[1;32m      2\u001b[0m   \u001b[0;32mif\u001b[0m \u001b[0ms\u001b[0m\u001b[0;34m[\u001b[0m\u001b[0midx\u001b[0m\u001b[0;34m]\u001b[0m \u001b[0;34m==\u001b[0m \u001b[0;34m'a'\u001b[0m\u001b[0;34m:\u001b[0m\u001b[0;34m\u001b[0m\u001b[0;34m\u001b[0m\u001b[0m\n\u001b[1;32m      3\u001b[0m     \u001b[0mprint\u001b[0m\u001b[0;34m(\u001b[0m\u001b[0;34m\"letter 'a' found\"\u001b[0m\u001b[0;34m)\u001b[0m\u001b[0;34m\u001b[0m\u001b[0;34m\u001b[0m\u001b[0m\n\u001b[1;32m      4\u001b[0m     \u001b[0;32mbreak\u001b[0m\u001b[0;34m\u001b[0m\u001b[0;34m\u001b[0m\u001b[0m\n",
            "\u001b[0;31mNameError\u001b[0m: name 'lens' is not defined"
          ]
        }
      ],
      "source": [
        "for idx in range(lens(s)):\n",
        "  if s[idx] == 'a':\n",
        "    print(\"letter 'a' found\")\n",
        "    break"
      ]
    },
    {
      "cell_type": "markdown",
      "metadata": {
        "id": "fajGuYMIdo-y"
      },
      "source": [
        "9/25/2024"
      ]
    },
    {
      "cell_type": "code",
      "execution_count": null,
      "metadata": {
        "colab": {
          "base_uri": "https://localhost:8080/"
        },
        "id": "P9wP-F-hdq6e",
        "outputId": "461a4985-e95b-4ab3-bf10-77ed6bcf4d59"
      },
      "outputs": [
        {
          "data": {
            "text/plain": [
              "(3, 5, 0)"
            ]
          },
          "execution_count": 4,
          "metadata": {},
          "output_type": "execute_result"
        }
      ],
      "source": [
        "l = [1,2,3]\n",
        "\n",
        "another_1 = [1, 3.14, 'abc', True, {456}]\n",
        "empty_1 = []\n",
        "len(l), len(another_1), len(empty_1)"
      ]
    },
    {
      "cell_type": "code",
      "execution_count": null,
      "metadata": {
        "colab": {
          "base_uri": "https://localhost:8080/"
        },
        "id": "obM8J8CKd2Kd",
        "outputId": "a566597f-17f7-42e5-debe-18b0f9481dd1"
      },
      "outputs": [
        {
          "name": "stdout",
          "output_type": "stream",
          "text": [
            "[1, 5, 3]\n"
          ]
        }
      ],
      "source": [
        "l[1] = 5\n",
        "print(l)"
      ]
    },
    {
      "cell_type": "code",
      "execution_count": null,
      "metadata": {
        "colab": {
          "base_uri": "https://localhost:8080/"
        },
        "id": "RBo0OWfCfCfE",
        "outputId": "147912e9-3f30-468d-9e2a-7f19ae590ac2"
      },
      "outputs": [
        {
          "data": {
            "text/plain": [
              "[1, 2, 3, 4]"
            ]
          },
          "execution_count": 10,
          "metadata": {},
          "output_type": "execute_result"
        }
      ],
      "source": [
        "[1,2,3] + [4]"
      ]
    },
    {
      "cell_type": "code",
      "execution_count": null,
      "metadata": {
        "colab": {
          "base_uri": "https://localhost:8080/"
        },
        "id": "JYFGBo13eqz8",
        "outputId": "6423e75d-d1dd-44ca-ebd2-434b82221ec3"
      },
      "outputs": [
        {
          "data": {
            "text/plain": [
              "[1, 5, 2, 3, 4]"
            ]
          },
          "execution_count": 15,
          "metadata": {},
          "output_type": "execute_result"
        }
      ],
      "source": [
        "l = [1,2,3]\n",
        "l.append(4)\n",
        "l.insert(1,5)\n",
        "l"
      ]
    },
    {
      "cell_type": "code",
      "execution_count": null,
      "metadata": {
        "colab": {
          "base_uri": "https://localhost:8080/"
        },
        "id": "ECALycmAh7Kn",
        "outputId": "ba062abf-fe5d-45ff-e145-950817973a98"
      },
      "outputs": [
        {
          "data": {
            "text/plain": [
              "[1, 5, 2, 3, 12]"
            ]
          },
          "execution_count": 32,
          "metadata": {},
          "output_type": "execute_result"
        }
      ],
      "source": [
        "l2 = [5,6,7]\n",
        "l.extend([12])\n",
        "l"
      ]
    },
    {
      "cell_type": "code",
      "execution_count": null,
      "metadata": {
        "colab": {
          "base_uri": "https://localhost:8080/"
        },
        "id": "L8xPNA5-kAKD",
        "outputId": "2d124829-01b3-4e81-a5f4-ea9f9e3a784d"
      },
      "outputs": [
        {
          "data": {
            "text/plain": [
              "[1, 5, 2, 3, 4, 12, [5, 6, 7]]"
            ]
          },
          "execution_count": 24,
          "metadata": {},
          "output_type": "execute_result"
        }
      ],
      "source": [
        "l.append(l2)\n",
        "l"
      ]
    },
    {
      "cell_type": "code",
      "execution_count": null,
      "metadata": {
        "colab": {
          "base_uri": "https://localhost:8080/"
        },
        "id": "xGurd6qukCfp",
        "outputId": "c6d286c0-b2c0-44c9-fe11-4f43c0298c76"
      },
      "outputs": [
        {
          "data": {
            "text/plain": [
              "[1, 5, 2, 3]"
            ]
          },
          "execution_count": 30,
          "metadata": {},
          "output_type": "execute_result"
        }
      ],
      "source": [
        "l.pop(-1)\n",
        "l"
      ]
    },
    {
      "cell_type": "code",
      "execution_count": null,
      "metadata": {
        "colab": {
          "base_uri": "https://localhost:8080/"
        },
        "id": "BVmG5PfOk24l",
        "outputId": "4859e696-b5b4-44d6-9e53-1c4d75f3c3d3"
      },
      "outputs": [
        {
          "data": {
            "text/plain": [
              "['a', 'b', 'c', 4, 5, 6]"
            ]
          },
          "execution_count": 33,
          "metadata": {},
          "output_type": "execute_result"
        }
      ],
      "source": [
        "l = ['a','b','c']\n",
        "l2 = [4,5,6]\n",
        "\n",
        "l.extend(l2)\n",
        "l"
      ]
    },
    {
      "cell_type": "code",
      "execution_count": null,
      "metadata": {
        "id": "9v8V0K0Tl9aG"
      },
      "outputs": [],
      "source": [
        "l = [1,7,3,0,4,6]\n",
        "l.sort(reverse=True)\n",
        "l"
      ]
    },
    {
      "cell_type": "code",
      "execution_count": null,
      "metadata": {
        "colab": {
          "base_uri": "https://localhost:8080/",
          "height": 472
        },
        "id": "6Ay8LAb0meGg",
        "outputId": "21d2ec37-6ced-4eec-8212-a408327cca4c"
      },
      "outputs": [
        {
          "name": "stdout",
          "output_type": "stream",
          "text": [
            "Give a value:2\n",
            "[2]\n",
            "Give a value:2\n",
            "[2, 2]\n",
            "Give a value:2\n",
            "[2, 2, 2]\n"
          ]
        },
        {
          "ename": "KeyboardInterrupt",
          "evalue": "Interrupted by user",
          "output_type": "error",
          "traceback": [
            "\u001b[0;31m---------------------------------------------------------------------------\u001b[0m",
            "\u001b[0;31mKeyboardInterrupt\u001b[0m                         Traceback (most recent call last)",
            "\u001b[0;32m<ipython-input-52-fd1fb33208a3>\u001b[0m in \u001b[0;36m<cell line: 4>\u001b[0;34m()\u001b[0m\n\u001b[1;32m      5\u001b[0m   \u001b[0mL\u001b[0m\u001b[0;34m.\u001b[0m\u001b[0mappend\u001b[0m\u001b[0;34m(\u001b[0m\u001b[0mitem\u001b[0m\u001b[0;34m)\u001b[0m\u001b[0;34m\u001b[0m\u001b[0;34m\u001b[0m\u001b[0m\n\u001b[1;32m      6\u001b[0m   \u001b[0mprint\u001b[0m\u001b[0;34m(\u001b[0m\u001b[0mL\u001b[0m\u001b[0;34m)\u001b[0m\u001b[0;34m\u001b[0m\u001b[0;34m\u001b[0m\u001b[0m\n\u001b[0;32m----> 7\u001b[0;31m   \u001b[0mitem\u001b[0m \u001b[0;34m=\u001b[0m \u001b[0mint\u001b[0m\u001b[0;34m(\u001b[0m\u001b[0minput\u001b[0m\u001b[0;34m(\u001b[0m\u001b[0;34m'Give a value:'\u001b[0m\u001b[0;34m)\u001b[0m\u001b[0;34m)\u001b[0m\u001b[0;34m\u001b[0m\u001b[0;34m\u001b[0m\u001b[0m\n\u001b[0m\u001b[1;32m      8\u001b[0m \u001b[0mprint\u001b[0m\u001b[0;34m(\u001b[0m\u001b[0mL\u001b[0m\u001b[0;34m)\u001b[0m\u001b[0;34m\u001b[0m\u001b[0;34m\u001b[0m\u001b[0m\n\u001b[1;32m      9\u001b[0m \u001b[0;34m\u001b[0m\u001b[0m\n",
            "\u001b[0;32m/usr/local/lib/python3.10/dist-packages/ipykernel/kernelbase.py\u001b[0m in \u001b[0;36mraw_input\u001b[0;34m(self, prompt)\u001b[0m\n\u001b[1;32m    849\u001b[0m                 \u001b[0;34m\"raw_input was called, but this frontend does not support input requests.\"\u001b[0m\u001b[0;34m\u001b[0m\u001b[0;34m\u001b[0m\u001b[0m\n\u001b[1;32m    850\u001b[0m             )\n\u001b[0;32m--> 851\u001b[0;31m         return self._input_request(str(prompt),\n\u001b[0m\u001b[1;32m    852\u001b[0m             \u001b[0mself\u001b[0m\u001b[0;34m.\u001b[0m\u001b[0m_parent_ident\u001b[0m\u001b[0;34m,\u001b[0m\u001b[0;34m\u001b[0m\u001b[0;34m\u001b[0m\u001b[0m\n\u001b[1;32m    853\u001b[0m             \u001b[0mself\u001b[0m\u001b[0;34m.\u001b[0m\u001b[0m_parent_header\u001b[0m\u001b[0;34m,\u001b[0m\u001b[0;34m\u001b[0m\u001b[0;34m\u001b[0m\u001b[0m\n",
            "\u001b[0;32m/usr/local/lib/python3.10/dist-packages/ipykernel/kernelbase.py\u001b[0m in \u001b[0;36m_input_request\u001b[0;34m(self, prompt, ident, parent, password)\u001b[0m\n\u001b[1;32m    893\u001b[0m             \u001b[0;32mexcept\u001b[0m \u001b[0mKeyboardInterrupt\u001b[0m\u001b[0;34m:\u001b[0m\u001b[0;34m\u001b[0m\u001b[0;34m\u001b[0m\u001b[0m\n\u001b[1;32m    894\u001b[0m                 \u001b[0;31m# re-raise KeyboardInterrupt, to truncate traceback\u001b[0m\u001b[0;34m\u001b[0m\u001b[0;34m\u001b[0m\u001b[0m\n\u001b[0;32m--> 895\u001b[0;31m                 \u001b[0;32mraise\u001b[0m \u001b[0mKeyboardInterrupt\u001b[0m\u001b[0;34m(\u001b[0m\u001b[0;34m\"Interrupted by user\"\u001b[0m\u001b[0;34m)\u001b[0m \u001b[0;32mfrom\u001b[0m \u001b[0;32mNone\u001b[0m\u001b[0;34m\u001b[0m\u001b[0;34m\u001b[0m\u001b[0m\n\u001b[0m\u001b[1;32m    896\u001b[0m             \u001b[0;32mexcept\u001b[0m \u001b[0mException\u001b[0m \u001b[0;32mas\u001b[0m \u001b[0me\u001b[0m\u001b[0;34m:\u001b[0m\u001b[0;34m\u001b[0m\u001b[0;34m\u001b[0m\u001b[0m\n\u001b[1;32m    897\u001b[0m                 \u001b[0mself\u001b[0m\u001b[0;34m.\u001b[0m\u001b[0mlog\u001b[0m\u001b[0;34m.\u001b[0m\u001b[0mwarning\u001b[0m\u001b[0;34m(\u001b[0m\u001b[0;34m\"Invalid Message:\"\u001b[0m\u001b[0;34m,\u001b[0m \u001b[0mexc_info\u001b[0m\u001b[0;34m=\u001b[0m\u001b[0;32mTrue\u001b[0m\u001b[0;34m)\u001b[0m\u001b[0;34m\u001b[0m\u001b[0;34m\u001b[0m\u001b[0m\n",
            "\u001b[0;31mKeyboardInterrupt\u001b[0m: Interrupted by user"
          ]
        }
      ],
      "source": [
        "L = []\n",
        "\n",
        "item = int(input('Give a value:'))\n",
        "while item != 0:\n",
        "  L.append(item)\n",
        "  print(L)\n",
        "  item = int(input('Give a value:'))\n",
        "print(L)\n",
        "\n"
      ]
    },
    {
      "cell_type": "code",
      "execution_count": null,
      "metadata": {
        "colab": {
          "base_uri": "https://localhost:8080/"
        },
        "id": "5shvCtQLpbdS",
        "outputId": "f5fd258f-194c-4aae-f19a-8c4e155ba7ae"
      },
      "outputs": [
        {
          "name": "stdout",
          "output_type": "stream",
          "text": [
            "Give a value:2\n",
            "Give a value:2\n",
            "Give a value:2\n",
            "Give a value:2\n",
            "Give a value:2\n",
            "Give a value:2\n",
            "Give a value:2\n",
            "Give a value:0\n",
            "[2, 2, 2, 2, 2, 2, 2, 2, 2, 2]\n"
          ]
        }
      ],
      "source": [
        "item = int(input('Give a value:'))\n",
        "while item != 0:\n",
        "  L.append(item)\n",
        "  item = int(input('Give a value:'))\n",
        "print(L)"
      ]
    },
    {
      "cell_type": "code",
      "execution_count": null,
      "metadata": {
        "colab": {
          "base_uri": "https://localhost:8080/"
        },
        "id": "il07mJQip6O8",
        "outputId": "f5b1cbca-dbaf-4dc9-c797-7a22fa244157"
      },
      "outputs": [
        {
          "name": "stdout",
          "output_type": "stream",
          "text": [
            "[3, 4]\n",
            "[5, 6]\n"
          ]
        }
      ],
      "source": [
        "L1 = [1,2,3,4]\n",
        "L2 = [1,2,5,6]\n",
        "\n",
        "i = 0\n",
        "j = 1\n",
        "\n",
        "for i in L1: # if item is in list do some bout it\n",
        "  if i in L2:\n",
        "    L1.remove(i)\n",
        "    L2.remove(i)\n",
        "\n",
        "for j in L1:\n",
        "  if j in L2:\n",
        "    L1.remove(j)\n",
        "    L2.remove(j)\n",
        "\n",
        "print(L1)\n",
        "print(L2)"
      ]
    },
    {
      "cell_type": "code",
      "execution_count": null,
      "metadata": {
        "colab": {
          "base_uri": "https://localhost:8080/"
        },
        "id": "83Fye2LksQ5t",
        "outputId": "5dfd388c-da69-4f42-8f41-8398cdfb39ea"
      },
      "outputs": [
        {
          "name": "stdout",
          "output_type": "stream",
          "text": [
            "[3, 4]\n",
            "[5, 6]\n"
          ]
        }
      ],
      "source": [
        "L1 = [1,2,3,4]\n",
        "L2 = [1,2,5,6]\n",
        "\n",
        "for i in L1[:]: # if item is in list do some bout it\n",
        "  if i in L2:\n",
        "    L1.remove(i)\n",
        "    L2.remove(i)\n",
        "\n",
        "print(L1)\n",
        "print(L2)"
      ]
    },
    {
      "cell_type": "code",
      "execution_count": null,
      "metadata": {
        "id": "hcvzOf1AOUxO"
      },
      "outputs": [],
      "source": [
        "t = (1, 'two', 3.0, [4,5,6], (1,2))"
      ]
    },
    {
      "cell_type": "code",
      "execution_count": null,
      "metadata": {
        "colab": {
          "base_uri": "https://localhost:8080/"
        },
        "id": "XAnQV-41Oape",
        "outputId": "dcc35fc0-20bd-4e96-d6f7-7f7b9ae09e83"
      },
      "outputs": [
        {
          "data": {
            "text/plain": [
              "(1, 2, 3, 'one', 'two', 'three')"
            ]
          },
          "execution_count": 3,
          "metadata": {},
          "output_type": "execute_result"
        }
      ],
      "source": [
        "(1,2,3) + ('one', 'two', 'three')"
      ]
    },
    {
      "cell_type": "code",
      "execution_count": null,
      "metadata": {
        "colab": {
          "base_uri": "https://localhost:8080/"
        },
        "id": "1cFcJE12Ox7D",
        "outputId": "835ae0aa-758b-4c61-e099-dcb9cd18f5fb"
      },
      "outputs": [
        {
          "data": {
            "text/plain": [
              "('two', 3.0, [4, 5, 6])"
            ]
          },
          "execution_count": 4,
          "metadata": {},
          "output_type": "execute_result"
        }
      ],
      "source": [
        "t[1:4]"
      ]
    },
    {
      "cell_type": "code",
      "execution_count": null,
      "metadata": {
        "id": "7uKkwJtfRMuF"
      },
      "outputs": [],
      "source": [
        "grades = {'John': 90, 'Jane': 95, 'Bob': 87, 'Anne': 89}"
      ]
    },
    {
      "cell_type": "code",
      "execution_count": null,
      "metadata": {
        "colab": {
          "base_uri": "https://localhost:8080/"
        },
        "id": "YlPETzatRcJ6",
        "outputId": "831d64c4-d6cf-41c5-9a95-d8732888eb03"
      },
      "outputs": [
        {
          "data": {
            "text/plain": [
              "{'John': 92, 'Jane': 95, 'Bob': 87, 'Anne': 89}"
            ]
          },
          "execution_count": 10,
          "metadata": {},
          "output_type": "execute_result"
        }
      ],
      "source": [
        "grades['John'] = 92\n",
        "grades"
      ]
    },
    {
      "cell_type": "code",
      "execution_count": null,
      "metadata": {
        "colab": {
          "base_uri": "https://localhost:8080/"
        },
        "id": "W4FxmtkuRmrT",
        "outputId": "940dcde1-9749-4a32-e001-460714819f6c"
      },
      "outputs": [
        {
          "data": {
            "text/plain": [
              "{'John': 92, 'Jane': 95, 'Bob': 87, 'Anne': 89, 'Bryan': 85}"
            ]
          },
          "execution_count": 13,
          "metadata": {},
          "output_type": "execute_result"
        }
      ],
      "source": [
        "grades ['Bryan'] = 85\n",
        "grades"
      ]
    },
    {
      "cell_type": "code",
      "execution_count": null,
      "metadata": {
        "colab": {
          "base_uri": "https://localhost:8080/"
        },
        "id": "QkbgvZoYSL-N",
        "outputId": "6916ffa0-2acc-4b81-f410-395880d004c3"
      },
      "outputs": [
        {
          "data": {
            "text/plain": [
              "{'John': 92, 'Jane': 95, 'Bob': 87, 'Anne': 89}"
            ]
          },
          "execution_count": 14,
          "metadata": {},
          "output_type": "execute_result"
        }
      ],
      "source": [
        "del(grades['Bryan'])\n",
        "grades"
      ]
    },
    {
      "cell_type": "code",
      "execution_count": null,
      "metadata": {
        "id": "AjACRdqeT82m"
      },
      "outputs": [],
      "source": [
        "s = ''\n",
        "l[]\n",
        "t()\n",
        "d{}"
      ]
    },
    {
      "cell_type": "code",
      "execution_count": null,
      "metadata": {
        "id": "5brbLzWoT_84"
      },
      "outputs": [],
      "source": [
        "d = {\n",
        "    'example1@yahoo.com': {\n",
        "      'first_name': 'John',\n",
        "      'last_name': 'Doe',\n",
        "      'phone': '555-555-5555',\n",
        "      'email': 'example@yahoo.com'\n",
        "},\n",
        "    'example@yahoo.com': {\n",
        "      'first_name': 'John',\n",
        "      'last_name': 'Doe',\n",
        "      'phone': '555-555-5555',\n",
        "      'email': 'example@yahoo.com'\n",
        "    }\n",
        "}"
      ]
    },
    {
      "cell_type": "code",
      "execution_count": null,
      "metadata": {
        "id": "3TfGWfhDWFQW"
      },
      "outputs": [],
      "source": [
        "months = {}\n",
        "\n",
        "names = [\"Jan\", \"Feb\", 'Mar', 'Apr', 'May', 'Jun', 'Jul', 'Aug', 'Sep', 'Oct', 'Nov', 'Dec']\n",
        "numbers = [1,2,3,4,5,6,7,8,9,10,11,12]"
      ]
    },
    {
      "cell_type": "code",
      "execution_count": null,
      "metadata": {
        "colab": {
          "base_uri": "https://localhost:8080/"
        },
        "id": "Stt1FjoLWOmK",
        "outputId": "511c2f8a-35dd-48c0-ee40-5bc55541e363"
      },
      "outputs": [
        {
          "data": {
            "text/plain": [
              "{'Jan': 1,\n",
              " 'Feb': 2,\n",
              " 'Mar': 3,\n",
              " 'Apr': 4,\n",
              " 'May': 5,\n",
              " 'Jun': 6,\n",
              " 'Jul': 7,\n",
              " 'Aug': 8,\n",
              " 'Sep': 9,\n",
              " 'Oct': 10,\n",
              " 'Nov': 11,\n",
              " 'Dec': 12}"
            ]
          },
          "execution_count": 30,
          "metadata": {},
          "output_type": "execute_result"
        }
      ],
      "source": [
        "for i in range(len(names)):\n",
        "  months[names[i]] = numbers[i]\n",
        "\n",
        "months"
      ]
    },
    {
      "cell_type": "code",
      "execution_count": null,
      "metadata": {
        "colab": {
          "base_uri": "https://localhost:8080/"
        },
        "id": "tWsLYL-xWrAQ",
        "outputId": "c10fb374-a8a0-4876-ee58-00d86828e111"
      },
      "outputs": [
        {
          "data": {
            "text/plain": [
              "{1: 'Jan',\n",
              " 2: 'Feb',\n",
              " 3: 'Mar',\n",
              " 4: 'Apr',\n",
              " 5: 'May',\n",
              " 6: 'Jun',\n",
              " 7: 'Jul',\n",
              " 8: 'Aug',\n",
              " 9: 'Sep',\n",
              " 10: 'Oct',\n",
              " 11: 'Nov',\n",
              " 12: 'Dec'}"
            ]
          },
          "execution_count": 39,
          "metadata": {},
          "output_type": "execute_result"
        }
      ],
      "source": [
        "for i in range(len(names)):\n",
        "  months[i+1] = names[i]\n",
        "\n",
        "months"
      ]
    },
    {
      "cell_type": "markdown",
      "metadata": {
        "id": "-RlwclcXhvdQ"
      },
      "source": [
        "10/2/2024"
      ]
    },
    {
      "cell_type": "code",
      "execution_count": null,
      "metadata": {
        "colab": {
          "base_uri": "https://localhost:8080/",
          "height": 162
        },
        "id": "1_HskLUGhfqi",
        "outputId": "e024bbab-dd39-42bc-cfa9-4d078cc1eec6"
      },
      "outputs": [
        {
          "ename": "NameError",
          "evalue": "name 'months' is not defined",
          "output_type": "error",
          "traceback": [
            "\u001b[0;31m---------------------------------------------------------------------------\u001b[0m",
            "\u001b[0;31mNameError\u001b[0m                                 Traceback (most recent call last)",
            "\u001b[0;32m<ipython-input-1-94dc89ec0627>\u001b[0m in \u001b[0;36m<cell line: 1>\u001b[0;34m()\u001b[0m\n\u001b[0;32m----> 1\u001b[0;31m \u001b[0;32mfor\u001b[0m \u001b[0mvalue\u001b[0m \u001b[0;32min\u001b[0m \u001b[0mmonths\u001b[0m\u001b[0;34m.\u001b[0m\u001b[0mvalues\u001b[0m\u001b[0;34m(\u001b[0m\u001b[0;34m)\u001b[0m\u001b[0;34m:\u001b[0m\u001b[0;34m\u001b[0m\u001b[0;34m\u001b[0m\u001b[0m\n\u001b[0m\u001b[1;32m      2\u001b[0m   \u001b[0mprint\u001b[0m\u001b[0;34m(\u001b[0m\u001b[0mvalue\u001b[0m\u001b[0;34m)\u001b[0m\u001b[0;34m\u001b[0m\u001b[0;34m\u001b[0m\u001b[0m\n",
            "\u001b[0;31mNameError\u001b[0m: name 'months' is not defined"
          ]
        }
      ],
      "source": [
        "for value in months.values():\n",
        "  print(value)"
      ]
    },
    {
      "cell_type": "code",
      "execution_count": null,
      "metadata": {
        "colab": {
          "base_uri": "https://localhost:8080/"
        },
        "id": "im3AVXkShqsj",
        "outputId": "1c7ed6e0-7070-4de7-c992-a5bfea8ba9d6"
      },
      "outputs": [
        {
          "output_type": "stream",
          "name": "stdout",
          "text": [
            "Jan\n",
            "Feb\n",
            "Mar\n",
            "Apr\n",
            "May\n",
            "Jun\n",
            "Jul\n",
            "Aug\n",
            "Sep\n",
            "Oct\n",
            "Nov\n",
            "Dec\n"
          ]
        }
      ],
      "source": [
        "months = {} # Initialize the months dictionary\n",
        "\n",
        "names = [\"Jan\", \"Feb\", 'Mar', 'Apr', 'May', 'Jun', 'Jul', 'Aug', 'Sep', 'Oct', 'Nov', 'Dec']\n",
        "numbers = [1,2,3,4,5,6,7,8,9,10,11,12]\n",
        "\n",
        "for i in range(len(names)):\n",
        "  months[i+1] = names[i] # Populate the months dictionary\n",
        "\n",
        "for value in months.values(): # Iterate through the dictionary values and print them\n",
        "  print(value)"
      ]
    },
    {
      "cell_type": "code",
      "execution_count": null,
      "metadata": {
        "colab": {
          "base_uri": "https://localhost:8080/"
        },
        "id": "u4PAI6m0huMB",
        "outputId": "957a3ae5-a0ae-4798-fa83-d8f169edbc37"
      },
      "outputs": [
        {
          "output_type": "stream",
          "name": "stdout",
          "text": [
            "1 Jan\n",
            "2 Feb\n",
            "3 Mar\n",
            "4 Apr\n",
            "5 May\n",
            "6 Jun\n",
            "7 Jul\n",
            "8 Aug\n",
            "9 Sep\n",
            "10 Oct\n",
            "11 Nov\n",
            "12 Dec\n"
          ]
        }
      ],
      "source": [
        "for key, value in months.items():\n",
        "  print(key, value)"
      ]
    },
    {
      "cell_type": "code",
      "execution_count": null,
      "metadata": {
        "id": "UZvGhjhiiGgY"
      },
      "outputs": [],
      "source": [
        "d = {\n",
        "    'example1@yahoo.com': {\n",
        "      'first_name': 'John',\n",
        "      'last_name': 'Doe',\n",
        "      'phone': '555-555-5555',\n",
        "},\n",
        "    'example@yahoo.com': {\n",
        "      'first_name': 'John',\n",
        "      'last_name': 'Doe',\n",
        "      'phone': '555-555-5555',\n",
        "    }\n",
        "}"
      ]
    },
    {
      "cell_type": "code",
      "execution_count": null,
      "metadata": {
        "colab": {
          "base_uri": "https://localhost:8080/"
        },
        "id": "uyroOcmkiny3",
        "outputId": "fce9fcab-535c-4787-bf6e-83d19b90bf60"
      },
      "outputs": [
        {
          "name": "stdout",
          "output_type": "stream",
          "text": [
            "example1@yahoo.com 555-555-5555\n",
            "example@yahoo.com 555-555-5555\n"
          ]
        }
      ],
      "source": [
        "for key in d.keys():\n",
        "  print(key, d[key]['phone'])"
      ]
    },
    {
      "cell_type": "code",
      "execution_count": null,
      "metadata": {
        "id": "sZ0Hi1BuiwM5"
      },
      "outputs": [],
      "source": []
    },
    {
      "cell_type": "markdown",
      "metadata": {
        "id": "CalqzmcpWYyQ"
      },
      "source": [
        "10/21/24"
      ]
    },
    {
      "cell_type": "code",
      "execution_count": null,
      "metadata": {
        "id": "dYOMM2ESWb9r"
      },
      "outputs": [],
      "source": [
        "def inputs ():\n",
        "  annual_salary = float(input(\"Enter your annual salary: \"))\n",
        "  portion_saved = float(input(\"Enter portion: \"))\n",
        "  total_cost = float(input(\"Enter the cost: \"))\n",
        "\n",
        "  return annual_salary, portion_saved, total_cost"
      ]
    },
    {
      "cell_type": "code",
      "execution_count": null,
      "metadata": {
        "colab": {
          "base_uri": "https://localhost:8080/"
        },
        "id": "GNKXevrzWyYm",
        "outputId": "13b156f2-c651-4c5a-d472-1d78a4f6d0c4"
      },
      "outputs": [
        {
          "name": "stdout",
          "output_type": "stream",
          "text": [
            "Enter your annual salary: 133\n",
            "Enter the percent of your salary to save, as a decimal: 46\n",
            "Enter the cost of your dream home: 10000000\n"
          ]
        }
      ],
      "source": [
        "annual_salary, portion_saved, total_cost = inputs()\n",
        "\n",
        "months = 0\n",
        "amount = 0"
      ]
    },
    {
      "cell_type": "code",
      "execution_count": null,
      "metadata": {
        "colab": {
          "base_uri": "https://localhost:8080/"
        },
        "id": "-ZJa47s0YDOo",
        "outputId": "fb6fb03a-af25-40b1-e88c-a227f11de1f5"
      },
      "outputs": [
        {
          "name": "stdout",
          "output_type": "stream",
          "text": [
            "Doe , John\n"
          ]
        }
      ],
      "source": [
        "def name(first, last, reverse=False):\n",
        "  if reverse == True:\n",
        "    print(last,',' ,first)\n",
        "  else:\n",
        "    print(first, last)\n",
        "\n",
        "name('John', 'Doe', True)"
      ]
    },
    {
      "cell_type": "code",
      "execution_count": null,
      "metadata": {
        "colab": {
          "base_uri": "https://localhost:8080/"
        },
        "id": "T7IwNLW7cSD0",
        "outputId": "932c1d22-d8cd-43cd-aa0a-0ba8f4e07ef0"
      },
      "outputs": [
        {
          "name": "stdout",
          "output_type": "stream",
          "text": [
            "1 10\n",
            "2 10.0\n",
            "3 12.5\n",
            "4 15.0\n",
            "5 17.5\n",
            "6 20.0\n",
            "7 20\n",
            "8 20\n"
          ]
        }
      ],
      "source": [
        "flate_rate = 5\n",
        "hourly_rate = 2.5\n",
        "\n",
        "for hour in range (1, 9 ,1):\n",
        "  charge = flate_rate + hour * hourly_rate\n",
        "  if charge < 10:\n",
        "    charge = 10\n",
        "  elif charge > 20:\n",
        "    charge = 20\n",
        "  print(hour, charge)\n"
      ]
    },
    {
      "cell_type": "code",
      "execution_count": null,
      "metadata": {
        "colab": {
          "base_uri": "https://localhost:8080/"
        },
        "id": "pj6Sxui0dDSk",
        "outputId": "d67de204-548f-4a68-bbd9-ac21186d945d"
      },
      "outputs": [
        {
          "output_type": "stream",
          "name": "stdout",
          "text": [
            "6\n",
            "Parking fee for 6 hours: $20.0\n"
          ]
        }
      ],
      "source": [
        "def calcFee(hours):\n",
        "    flat_rate = 5\n",
        "    hourly_rate = 2.5\n",
        "    max_fee = 50\n",
        "\n",
        "    hours = int(hours) if hours == int(hours) else int(hours) + 1\n",
        "\n",
        "    if hours <= 1:\n",
        "        total_fee = flat_rate\n",
        "    else:\n",
        "        total_fee = flat_rate + (hours - 1) * hourly_rate\n",
        "\n",
        "    if total_fee > max_fee:\n",
        "        total_fee = max_fee\n",
        "\n",
        "    return total_fee\n",
        "\n",
        "hours_parked = input()\n",
        "print(f\"Parking fee for {hours_parked} hours: ${calcFee(hours_parked)}\")\n"
      ]
    },
    {
      "cell_type": "code",
      "execution_count": null,
      "metadata": {
        "colab": {
          "base_uri": "https://localhost:8080/"
        },
        "id": "IVPE3jgPdx1d",
        "outputId": "387f4d3d-8f24-4721-8f55-cb77b2953726"
      },
      "outputs": [
        {
          "output_type": "stream",
          "name": "stdout",
          "text": [
            "Enter hours for Parking:2\n",
            "10.0\n"
          ]
        }
      ],
      "source": [
        "def calcFee(hours):\n",
        "  fee = 5 + hours * 2.5\n",
        "  return fee\n",
        "\n",
        "hours_parked = int(input('Enter hours for Parking:'))\n",
        "f = calcFee(hours_parked)\n",
        "print(f)"
      ]
    },
    {
      "cell_type": "code",
      "execution_count": null,
      "metadata": {
        "colab": {
          "base_uri": "https://localhost:8080/"
        },
        "id": "Ovt9meq9irxw",
        "outputId": "60ec7ae3-ecd7-4578-ada6-1175e7b789f0"
      },
      "outputs": [
        {
          "output_type": "stream",
          "name": "stdout",
          "text": [
            "Enter hours for Parking:123\n",
            "The parking fee is: $312.5\n"
          ]
        }
      ],
      "source": [
        "def calcFee(hours, decimals = 2):\n",
        "  fee = 5 + hours * 2.5\n",
        "  fee = round(fee, decimals)\n",
        "\n",
        "  return fee\n",
        "\n",
        "def displayFee(fee):\n",
        "    print(f\"The parking fee is: ${fee}\")\n",
        "\n",
        "hours_parked = int(input('Enter hours for Parking:'))\n",
        "f = calcFee(hours_parked)\n",
        "displayFee(f)\n"
      ]
    },
    {
      "cell_type": "code",
      "execution_count": null,
      "metadata": {
        "id": "hbS5ha2Hi5Cs"
      },
      "outputs": [],
      "source": []
    },
    {
      "cell_type": "markdown",
      "metadata": {
        "id": "TaY2Ifx8se3C"
      },
      "source": [
        "10/23/24"
      ]
    },
    {
      "cell_type": "code",
      "execution_count": null,
      "metadata": {
        "colab": {
          "base_uri": "https://localhost:8080/"
        },
        "id": "-tXOdLUfsfxA",
        "outputId": "170adf6b-d621-4195-b5a4-7ea80d3511ce"
      },
      "outputs": [
        {
          "name": "stdout",
          "output_type": "stream",
          "text": [
            "x = 4\n",
            "z = 4\n",
            "x = 3\n",
            "y = 2\n"
          ]
        }
      ],
      "source": [
        "def f(x):\n",
        "  y=1\n",
        "  x = x+y\n",
        "  print('x =', x)\n",
        "  return x\n",
        "\n",
        "x=3\n",
        "y=2\n",
        "z=f(x)\n",
        "print('z =', z)\n",
        "print('x =', x)\n",
        "print('y =', y)"
      ]
    },
    {
      "cell_type": "code",
      "execution_count": null,
      "metadata": {
        "id": "8wCRe5dGtGdM"
      },
      "outputs": [],
      "source": [
        "def f(x):\n",
        "  def g():\n",
        "    x = 'abc'\n",
        "    print('x =', x)\n",
        "  def h():\n",
        "    z = x\n",
        "    print('z=', z)\n",
        "\n",
        "  x = x+1\n",
        "  print('x =', x)def\n",
        "  g()\n",
        "  h()\n",
        "  print('x=', x)\n",
        "\n",
        "  return g\n",
        "\n",
        "  x = 3\n",
        "  z = f(x)\n",
        "  print('x =', x)\n",
        "  print('z =', z)\n",
        "  z()"
      ]
    },
    {
      "cell_type": "code",
      "execution_count": null,
      "metadata": {
        "id": "8U7sxor8xFqu"
      },
      "outputs": [],
      "source": [
        "def is_even(i):\n",
        "  return i % 2 == 0   # input: i, a possible int 'does not return anything'\n",
        "\n",
        "  return"
      ]
    },
    {
      "cell_type": "code",
      "execution_count": null,
      "metadata": {
        "id": "FRH_XI6wZdrx"
      },
      "outputs": [],
      "source": []
    },
    {
      "cell_type": "markdown",
      "metadata": {
        "id": "tzfBS-wZZwIj"
      },
      "source": [
        "10/28/2024\n",
        "\n",
        "\n",
        "recurisve functions\n",
        "def ref(...):\n",
        "return fef(...)\n",
        "\n",
        "\n",
        "Base case:\n",
        "Inductive case:\n",
        "\n",
        "\n",
        "In recursive functions, we need two main components:\n",
        "\n",
        "Base Case: This stops the recursion to prevent infinite loops.\n",
        "1!\n",
        "\n",
        "Inductive (or Recursive) Case: This reduces the problem to smaller subproblems and calls the function recursively.\n",
        "N*(N-1)!\n",
        "N>1\n",
        "\n"
      ]
    },
    {
      "cell_type": "code",
      "execution_count": null,
      "metadata": {
        "id": "qQ8raqFOZx5M"
      },
      "outputs": [],
      "source": [
        "# Recursive function example to calculate factorial\n",
        "\n",
        "def factorial(n):\n",
        "    # Base case\n",
        "    if n == 0 or n == 1:\n",
        "        return 1\n",
        "    # Inductive case\n",
        "    else:\n",
        "        return n * factorial(n - 1)\n"
      ]
    },
    {
      "cell_type": "code",
      "execution_count": null,
      "metadata": {
        "colab": {
          "base_uri": "https://localhost:8080/"
        },
        "id": "TMA7Ke7AbA2B",
        "outputId": "ba54011c-18f8-494e-e692-53aa1b76c6db"
      },
      "outputs": [
        {
          "data": {
            "text/plain": [
              "120"
            ]
          },
          "execution_count": 16,
          "metadata": {},
          "output_type": "execute_result"
        }
      ],
      "source": [
        "def fact(n):\n",
        "  prod = 1\n",
        "  for i in range(2, n+1):\n",
        "    prod = prod * i\n",
        "  return prod\n",
        "\n",
        "fact(5)"
      ]
    },
    {
      "cell_type": "code",
      "execution_count": null,
      "metadata": {
        "colab": {
          "base_uri": "https://localhost:8080/"
        },
        "id": "mKxbXt3GcseB",
        "outputId": "0433983a-9d15-4a96-c33b-8ef9b942a039"
      },
      "outputs": [
        {
          "data": {
            "text/plain": [
              "120"
            ]
          },
          "execution_count": 38,
          "metadata": {},
          "output_type": "execute_result"
        }
      ],
      "source": [
        "def factR(n):\n",
        "  if n > 1:\n",
        "    return n * factR(n-1)\n",
        "  else:\n",
        "    return n\n",
        "\n",
        "factR(5)"
      ]
    },
    {
      "cell_type": "markdown",
      "metadata": {
        "id": "x0QzPN-wgjak"
      },
      "source": [
        "inductive: n>=2:\n",
        "fib(n) = fib(n-1) + fib(n-2)\n",
        "\n",
        "Base: n == 0 or n == 1 := 0"
      ]
    },
    {
      "cell_type": "code",
      "execution_count": null,
      "metadata": {
        "colab": {
          "base_uri": "https://localhost:8080/"
        },
        "id": "ihG86X0Fedtt",
        "outputId": "34c335e3-9ea1-4cd9-eb1e-b6f0e5463efa"
      },
      "outputs": [
        {
          "data": {
            "text/plain": [
              "13"
            ]
          },
          "execution_count": 41,
          "metadata": {},
          "output_type": "execute_result"
        }
      ],
      "source": [
        "def fib(n):\n",
        "  if n == 0 or n == 1:\n",
        "    return 1\n",
        "  else:\n",
        "    return fib(n-1) + fib(n-2)\n",
        "\n",
        "fib(6)"
      ]
    },
    {
      "cell_type": "code",
      "execution_count": null,
      "metadata": {
        "id": "fFgCb_noh3-m"
      },
      "outputs": [],
      "source": [
        "               fib(4)\n",
        "              /      \\\n",
        "         fib(3)      fib(2)\n",
        "         /    \\       /    \\\n",
        "     fib(2)  fib(1) fib(1) fib(0)\n",
        "     /    \\\n",
        " fib(1)  fib(0)\n"
      ]
    },
    {
      "cell_type": "markdown",
      "metadata": {
        "id": "Whj6NwAfkkga"
      },
      "source": [
        "in class assigment 10/28/2024"
      ]
    },
    {
      "cell_type": "code",
      "execution_count": null,
      "metadata": {
        "id": "ipgrKYfGeGUz"
      },
      "outputs": [],
      "source": []
    },
    {
      "cell_type": "markdown",
      "metadata": {
        "id": "c4mljW8vky4d"
      },
      "source": []
    },
    {
      "cell_type": "code",
      "execution_count": null,
      "metadata": {
        "colab": {
          "base_uri": "https://localhost:8080/"
        },
        "id": "Hbnjs5xBbsJa",
        "outputId": "5206a683-d32d-4262-cba8-8cfb5874f695"
      },
      "outputs": [
        {
          "name": "stdout",
          "output_type": "stream",
          "text": [
            "olleh"
          ]
        }
      ],
      "source": [
        "def print_reverse(s):\n",
        "    if s == \"\":\n",
        "        return\n",
        "    else:\n",
        "        print(s[-1], end=\"\")\n",
        "        print_reverse(s[:-1])\n",
        "print_reverse(\"hello\")\n",
        "\n",
        "\n"
      ]
    },
    {
      "cell_type": "code",
      "execution_count": null,
      "metadata": {
        "colab": {
          "base_uri": "https://localhost:8080/",
          "height": 211
        },
        "id": "6zJPO96rm6Yh",
        "outputId": "c09a6670-f56c-417f-9c17-424608c88c45"
      },
      "outputs": [
        {
          "ename": "NameError",
          "evalue": "name 'rev' is not defined",
          "output_type": "error",
          "traceback": [
            "\u001b[0;31m---------------------------------------------------------------------------\u001b[0m",
            "\u001b[0;31mNameError\u001b[0m                                 Traceback (most recent call last)",
            "\u001b[0;32m<ipython-input-64-2407ce0fdbbd>\u001b[0m in \u001b[0;36m<cell line: 2>\u001b[0;34m()\u001b[0m\n\u001b[1;32m      1\u001b[0m \u001b[0ms\u001b[0m \u001b[0;34m=\u001b[0m \u001b[0;34m'Hello'\u001b[0m\u001b[0;34m\u001b[0m\u001b[0;34m\u001b[0m\u001b[0m\n\u001b[0;32m----> 2\u001b[0;31m \u001b[0ms\u001b[0m\u001b[0;34m[\u001b[0m\u001b[0;34m-\u001b[0m\u001b[0;36m1\u001b[0m\u001b[0;34m]\u001b[0m \u001b[0;34m+\u001b[0m \u001b[0mrev\u001b[0m\u001b[0;34m[\u001b[0m\u001b[0ms\u001b[0m\u001b[0;34m[\u001b[0m\u001b[0;34m:\u001b[0m\u001b[0;34m-\u001b[0m\u001b[0;36m1\u001b[0m\u001b[0;34m]\u001b[0m\u001b[0;34m]\u001b[0m\u001b[0;34m\u001b[0m\u001b[0;34m\u001b[0m\u001b[0m\n\u001b[0m\u001b[1;32m      3\u001b[0m \u001b[0;34m'o'\u001b[0m \u001b[0;34m+\u001b[0m \u001b[0mrev\u001b[0m\u001b[0;34m(\u001b[0m\u001b[0;34m'Hell'\u001b[0m\u001b[0;34m)\u001b[0m\u001b[0;34m\u001b[0m\u001b[0;34m\u001b[0m\u001b[0m\n\u001b[1;32m      4\u001b[0m \u001b[0;34m'l'\u001b[0m \u001b[0;34m+\u001b[0m \u001b[0mrev\u001b[0m\u001b[0;34m(\u001b[0m\u001b[0;34m'Hel'\u001b[0m\u001b[0;34m)\u001b[0m\u001b[0;34m\u001b[0m\u001b[0;34m\u001b[0m\u001b[0m\n\u001b[1;32m      5\u001b[0m \u001b[0;34m'l'\u001b[0m \u001b[0;34m+\u001b[0m \u001b[0mrev\u001b[0m\u001b[0;34m(\u001b[0m\u001b[0;34m'He'\u001b[0m\u001b[0;34m)\u001b[0m\u001b[0;34m\u001b[0m\u001b[0;34m\u001b[0m\u001b[0m\n",
            "\u001b[0;31mNameError\u001b[0m: name 'rev' is not defined"
          ]
        }
      ],
      "source": [
        "s = 'Hello'\n",
        "s[-1] + rev[s[:-1]]\n",
        "'o' + rev('Hell')\n",
        "'l' + rev('Hel')\n",
        "'l' + rev('He')\n",
        "'l' + rev('H')\n",
        "\n",
        "\n",
        "rev(s[L:]) + s[0]\n",
        "rev('elleo') + 'H'\n",
        "rev('ello') + 'e'\n",
        "rev('llo') + 'l'\n",
        "rev('lo') + 'l'\n",
        "rev('o') + 'l'\n",
        "\n"
      ]
    },
    {
      "cell_type": "code",
      "execution_count": null,
      "metadata": {
        "colab": {
          "base_uri": "https://localhost:8080/",
          "height": 35
        },
        "id": "7wN_LoD7oAS9",
        "outputId": "3c3ec39a-eeb0-4e87-9825-a6941446920f"
      },
      "outputs": [
        {
          "data": {
            "application/vnd.google.colaboratory.intrinsic+json": {
              "type": "string"
            },
            "text/plain": [
              "'neewolleh'"
            ]
          },
          "execution_count": 71,
          "metadata": {},
          "output_type": "execute_result"
        }
      ],
      "source": [
        "def rev(s):\n",
        "  if len(s) == 1:\n",
        "    return s\n",
        "  else:\n",
        "    return s[-1] + rev(s[:-1])\n",
        "    return s[-1] + rev(s[1:-1] + s[reversed])\n",
        "\n",
        "rev('helloween')"
      ]
    },
    {
      "cell_type": "markdown",
      "metadata": {
        "id": "i0RTb5mdo9_R"
      },
      "source": [
        "reversed ---> now 0"
      ]
    },
    {
      "cell_type": "code",
      "execution_count": null,
      "metadata": {
        "id": "dxVxWDHyo85g"
      },
      "outputs": [],
      "source": [
        "def rev(s):\n",
        "  if len(s) == 1:\n",
        "    return s\n",
        "  else:\n",
        "    return s[-1] + rev(s[:-1])\n",
        "    return s[-1] + rev(s[1:-1] + s[0])\n",
        "\n",
        "rev('helloween')"
      ]
    },
    {
      "cell_type": "markdown",
      "metadata": {
        "id": "wgUgPZEct1KV"
      },
      "source": [
        "10/30/24"
      ]
    },
    {
      "cell_type": "code",
      "execution_count": null,
      "metadata": {
        "colab": {
          "base_uri": "https://localhost:8080/"
        },
        "id": "hJLPYypTt02r",
        "outputId": "17370d94-be31-4ef7-d6b5-d3b0ba6907c8"
      },
      "outputs": [
        {
          "data": {
            "text/plain": [
              "[23901,\n",
              " 10264,\n",
              " 1449,\n",
              " 83112,\n",
              " 50411,\n",
              " 63342,\n",
              " 16070,\n",
              " 42356,\n",
              " 30600,\n",
              " 44095,\n",
              " 58485,\n",
              " 8374,\n",
              " 13135,\n",
              " 75002,\n",
              " 53872,\n",
              " 65169,\n",
              " 46264,\n",
              " 49991,\n",
              " 67174,\n",
              " 48169,\n",
              " 14985,\n",
              " 71324,\n",
              " 34033,\n",
              " 36684,\n",
              " 74713,\n",
              " 74374,\n",
              " 96858,\n",
              " 58662,\n",
              " 7977,\n",
              " 66043,\n",
              " 99646,\n",
              " 72184,\n",
              " 38777,\n",
              " 52543,\n",
              " 39949,\n",
              " 49825,\n",
              " 68500,\n",
              " 54734,\n",
              " 49019,\n",
              " 16896,\n",
              " 10639,\n",
              " 96977,\n",
              " 88173,\n",
              " 80832,\n",
              " 80108,\n",
              " 75316,\n",
              " 21150,\n",
              " 39762,\n",
              " 6916,\n",
              " 56212,\n",
              " 12518,\n",
              " 33597,\n",
              " 82067,\n",
              " 83773,\n",
              " 84532,\n",
              " 90100,\n",
              " 60521,\n",
              " 36286,\n",
              " 74550,\n",
              " 10642,\n",
              " 29444,\n",
              " 23280,\n",
              " 86154,\n",
              " 97204,\n",
              " 14173,\n",
              " 88608,\n",
              " 44309,\n",
              " 94374,\n",
              " 46475,\n",
              " 57749,\n",
              " 32246,\n",
              " 96754,\n",
              " 58999,\n",
              " 9575,\n",
              " 34273,\n",
              " 25546,\n",
              " 46243,\n",
              " 488,\n",
              " 76087,\n",
              " 95022,\n",
              " 70957,\n",
              " 55579,\n",
              " 80576,\n",
              " 49606,\n",
              " 24627,\n",
              " 37725,\n",
              " 56905,\n",
              " 11787,\n",
              " 30086,\n",
              " 25088,\n",
              " 8489,\n",
              " 66796,\n",
              " 7627,\n",
              " 4491,\n",
              " 94614,\n",
              " 83843,\n",
              " 1001,\n",
              " 60099,\n",
              " 2664,\n",
              " 51658,\n",
              " 57162,\n",
              " 98290,\n",
              " 24503,\n",
              " 15162,\n",
              " 67608,\n",
              " 65854,\n",
              " 41936,\n",
              " 72485,\n",
              " 60180,\n",
              " 47631,\n",
              " 6544,\n",
              " 63037,\n",
              " 73460,\n",
              " 17458,\n",
              " 14555,\n",
              " 12106,\n",
              " 39858,\n",
              " 43537,\n",
              " 34809,\n",
              " 88138,\n",
              " 4568,\n",
              " 64318,\n",
              " 55325,\n",
              " 29905,\n",
              " 37637,\n",
              " 69050,\n",
              " 55602,\n",
              " 79037,\n",
              " 54941,\n",
              " 67152,\n",
              " 19370,\n",
              " 70347,\n",
              " 57457,\n",
              " 28648,\n",
              " 18871,\n",
              " 2935,\n",
              " 33213,\n",
              " 59576,\n",
              " 93038,\n",
              " 51586,\n",
              " 30639,\n",
              " 4672,\n",
              " 72922,\n",
              " 45050,\n",
              " 76507,\n",
              " 49199,\n",
              " 48184,\n",
              " 71594,\n",
              " 72159,\n",
              " 87079,\n",
              " 65337,\n",
              " 43594,\n",
              " 49385,\n",
              " 70674,\n",
              " 67561,\n",
              " 15923,\n",
              " 11099,\n",
              " 68141,\n",
              " 87597,\n",
              " 90658,\n",
              " 22153,\n",
              " 95454,\n",
              " 14338,\n",
              " 67620,\n",
              " 52737,\n",
              " 35077,\n",
              " 29132,\n",
              " 25147,\n",
              " 50103,\n",
              " 44691,\n",
              " 18364,\n",
              " 27886,\n",
              " 85371,\n",
              " 30041,\n",
              " 54754,\n",
              " 40431,\n",
              " 39654,\n",
              " 54440,\n",
              " 98114,\n",
              " 38277,\n",
              " 59401,\n",
              " 561,\n",
              " 66615,\n",
              " 9392,\n",
              " 32337,\n",
              " 4373,\n",
              " 53142,\n",
              " 1735,\n",
              " 4506,\n",
              " 99079,\n",
              " 60841,\n",
              " 38727,\n",
              " 47926,\n",
              " 48931,\n",
              " 64501,\n",
              " 52025,\n",
              " 70983,\n",
              " 84791,\n",
              " 36506,\n",
              " 88527,\n",
              " 56390,\n",
              " 35339,\n",
              " 11859,\n",
              " 10455,\n",
              " 93201,\n",
              " 21081,\n",
              " 74278,\n",
              " 81879,\n",
              " 67313,\n",
              " 9301,\n",
              " 2586,\n",
              " 72691,\n",
              " 3568,\n",
              " 21587,\n",
              " 67283,\n",
              " 57530,\n",
              " 57773,\n",
              " 85871,\n",
              " 80697,\n",
              " 25502,\n",
              " 21323,\n",
              " 48697,\n",
              " 59045,\n",
              " 98364,\n",
              " 72478,\n",
              " 18531,\n",
              " 43609,\n",
              " 74498,\n",
              " 60178,\n",
              " 8985,\n",
              " 27579,\n",
              " 36658,\n",
              " 64326,\n",
              " 13459,\n",
              " 97724,\n",
              " 32853,\n",
              " 15460,\n",
              " 56986,\n",
              " 58493,\n",
              " 10090,\n",
              " 48526,\n",
              " 58857,\n",
              " 68733,\n",
              " 39082,\n",
              " 98706,\n",
              " 1564,\n",
              " 54451,\n",
              " 71191,\n",
              " 53299,\n",
              " 94779,\n",
              " 41768,\n",
              " 59853,\n",
              " 99057,\n",
              " 77327,\n",
              " 90278,\n",
              " 77380,\n",
              " 93826,\n",
              " 1884,\n",
              " 20730,\n",
              " 50514,\n",
              " 52549,\n",
              " 73615,\n",
              " 91911,\n",
              " 60867,\n",
              " 27778,\n",
              " 33031,\n",
              " 80488,\n",
              " 10418,\n",
              " 11007,\n",
              " 79232,\n",
              " 60678,\n",
              " 51221,\n",
              " 63013,\n",
              " 72463,\n",
              " 72272,\n",
              " 1858,\n",
              " 73300,\n",
              " 94035,\n",
              " 94976,\n",
              " 47616,\n",
              " 15842,\n",
              " 62907,\n",
              " 89865,\n",
              " 21221,\n",
              " 96091,\n",
              " 1783,\n",
              " 28968,\n",
              " 38665,\n",
              " 20584,\n",
              " 75395,\n",
              " 19696,\n",
              " 46128,\n",
              " 66327,\n",
              " 72000,\n",
              " 54383,\n",
              " 91107,\n",
              " 22233,\n",
              " 17795,\n",
              " 3416,\n",
              " 47008,\n",
              " 63381,\n",
              " 83514,\n",
              " 11956,\n",
              " 25185,\n",
              " 30025,\n",
              " 16272,\n",
              " 79107,\n",
              " 21700,\n",
              " 32681,\n",
              " 99070,\n",
              " 54625,\n",
              " 67042,\n",
              " 611,\n",
              " 17381,\n",
              " 92,\n",
              " 64017,\n",
              " 17284,\n",
              " 54820,\n",
              " 62210,\n",
              " 36517,\n",
              " 94639,\n",
              " 5691,\n",
              " 7052,\n",
              " 8162,\n",
              " 67929,\n",
              " 96447,\n",
              " 17384,\n",
              " 97774,\n",
              " 22629,\n",
              " 45867,\n",
              " 97078,\n",
              " 68391,\n",
              " 56693,\n",
              " 3488,\n",
              " 81496,\n",
              " 59556,\n",
              " 25590,\n",
              " 58622,\n",
              " 29977,\n",
              " 44459,\n",
              " 10939,\n",
              " 44991,\n",
              " 87412,\n",
              " 84330,\n",
              " 52696,\n",
              " 66098,\n",
              " 35311,\n",
              " 73343,\n",
              " 85516,\n",
              " 1266,\n",
              " 76539,\n",
              " 60745,\n",
              " 9851,\n",
              " 61581,\n",
              " 56059,\n",
              " 78810,\n",
              " 6126,\n",
              " 69317,\n",
              " 76064,\n",
              " 70156,\n",
              " 28630,\n",
              " 84261,\n",
              " 13798,\n",
              " 70009,\n",
              " 52207,\n",
              " 3388,\n",
              " 15491,\n",
              " 29949,\n",
              " 64832,\n",
              " 53744,\n",
              " 97697,\n",
              " 36146,\n",
              " 32005,\n",
              " 17966,\n",
              " 39578,\n",
              " 93621,\n",
              " 39991,\n",
              " 24379,\n",
              " 69986,\n",
              " 44588,\n",
              " 94828,\n",
              " 93181,\n",
              " 58482,\n",
              " 59851,\n",
              " 92865,\n",
              " 21832,\n",
              " 89145,\n",
              " 69020,\n",
              " 73346,\n",
              " 79128,\n",
              " 68660,\n",
              " 94984,\n",
              " 16260,\n",
              " 90338,\n",
              " 78700,\n",
              " 96470,\n",
              " 71152,\n",
              " 21701,\n",
              " 55501,\n",
              " 63472,\n",
              " 89894,\n",
              " 44590,\n",
              " 31129,\n",
              " 94953,\n",
              " 22566,\n",
              " 99452,\n",
              " 43585,\n",
              " 93474,\n",
              " 83289,\n",
              " 26361,\n",
              " 26863,\n",
              " 72048,\n",
              " 36461,\n",
              " 62138,\n",
              " 11765,\n",
              " 12998,\n",
              " 3640,\n",
              " 58090,\n",
              " 30866,\n",
              " 49313,\n",
              " 12534,\n",
              " 55301,\n",
              " 81420,\n",
              " 29692,\n",
              " 75514,\n",
              " 625,\n",
              " 47884,\n",
              " 24764,\n",
              " 76925,\n",
              " 63416,\n",
              " 34784,\n",
              " 22079,\n",
              " 65202,\n",
              " 70098,\n",
              " 51368,\n",
              " 16086,\n",
              " 25065,\n",
              " 14979,\n",
              " 1188,\n",
              " 92022,\n",
              " 33829,\n",
              " 98365,\n",
              " 10455,\n",
              " 35585,\n",
              " 58826,\n",
              " 3192,\n",
              " 77583,\n",
              " 56344,\n",
              " 60404,\n",
              " 99093,\n",
              " 24249,\n",
              " 3715,\n",
              " 51755,\n",
              " 73214,\n",
              " 29175,\n",
              " 63931,\n",
              " 51762,\n",
              " 7360,\n",
              " 5403,\n",
              " 39519,\n",
              " 94981,\n",
              " 73458,\n",
              " 543,\n",
              " 93719,\n",
              " 22384,\n",
              " 84434,\n",
              " 45757,\n",
              " 11732,\n",
              " 61510,\n",
              " 74557,\n",
              " 49111,\n",
              " 68437,\n",
              " 28631,\n",
              " 80429,\n",
              " 25096,\n",
              " 48095,\n",
              " 45431,\n",
              " 61819,\n",
              " 87794,\n",
              " 28595,\n",
              " 6719,\n",
              " 63109,\n",
              " 48745,\n",
              " 22394,\n",
              " 57295,\n",
              " 17887,\n",
              " 88019,\n",
              " 9936,\n",
              " 4434,\n",
              " 48214,\n",
              " 47875,\n",
              " 71255,\n",
              " 95714,\n",
              " 88333,\n",
              " 99056,\n",
              " 63222,\n",
              " 45673,\n",
              " 40225,\n",
              " 52011,\n",
              " 33148,\n",
              " 66373,\n",
              " 90065,\n",
              " 73415,\n",
              " 80605,\n",
              " 98902,\n",
              " 72809,\n",
              " 54759,\n",
              " 15512,\n",
              " 84998,\n",
              " 77970,\n",
              " 15660,\n",
              " 41040,\n",
              " 58636,\n",
              " 70612,\n",
              " 66401,\n",
              " 94292,\n",
              " 96601,\n",
              " 12979,\n",
              " 45864,\n",
              " 90330,\n",
              " 495,\n",
              " 80743,\n",
              " 64445,\n",
              " 99333,\n",
              " 25482,\n",
              " 29243,\n",
              " 12477,\n",
              " 32085,\n",
              " 29445,\n",
              " 74243,\n",
              " 77852,\n",
              " 83446,\n",
              " 50381,\n",
              " 16847,\n",
              " 13254,\n",
              " 87129,\n",
              " 12389,\n",
              " 25256,\n",
              " 20524,\n",
              " 68640,\n",
              " 74275,\n",
              " 42807,\n",
              " 57564,\n",
              " 98104,\n",
              " 42963,\n",
              " 7202,\n",
              " 26048,\n",
              " 83698,\n",
              " 25216,\n",
              " 24098,\n",
              " 6116,\n",
              " 10758,\n",
              " 54699,\n",
              " 5675,\n",
              " 70252,\n",
              " 21740,\n",
              " 79626,\n",
              " 87603,\n",
              " 73013,\n",
              " 67424,\n",
              " 57298,\n",
              " 37514,\n",
              " 86953,\n",
              " 84137,\n",
              " 31539,\n",
              " 66447,\n",
              " 18413,\n",
              " 74059,\n",
              " 71133,\n",
              " 17387,\n",
              " 20921,\n",
              " 58322,\n",
              " 80025,\n",
              " 16902,\n",
              " 34921,\n",
              " 12553,\n",
              " 28529,\n",
              " 73863,\n",
              " 96677,\n",
              " 48487,\n",
              " 91484,\n",
              " 15805,\n",
              " 77282,\n",
              " 85790,\n",
              " 55414,\n",
              " 11661,\n",
              " 27232,\n",
              " 6597,\n",
              " 48799,\n",
              " 87019,\n",
              " 76764,\n",
              " 32974,\n",
              " 49273,\n",
              " 66359,\n",
              " 57590,\n",
              " 13845,\n",
              " 86984,\n",
              " 54704,\n",
              " 25585,\n",
              " 41475,\n",
              " 46353,\n",
              " 31253,\n",
              " 21162,\n",
              " 97510,\n",
              " 2087,\n",
              " 34684,\n",
              " 7036,\n",
              " 12189,\n",
              " 54798,\n",
              " 30776,\n",
              " 68242,\n",
              " 38747,\n",
              " 2492,\n",
              " 32907,\n",
              " 97465,\n",
              " 473,\n",
              " 26976,\n",
              " 63413,\n",
              " 18706,\n",
              " 81261,\n",
              " 65364,\n",
              " 825,\n",
              " 19128,\n",
              " 55881,\n",
              " 61841,\n",
              " 1091,\n",
              " 78538,\n",
              " 99000,\n",
              " 24765,\n",
              " 71107,\n",
              " 46882,\n",
              " 80459,\n",
              " 88674,\n",
              " 50186,\n",
              " 56251,\n",
              " 41616,\n",
              " 47856,\n",
              " 22785,\n",
              " 56997,\n",
              " 33111,\n",
              " 68322,\n",
              " 71993,\n",
              " 5684,\n",
              " 1477,\n",
              " 38890,\n",
              " 79217,\n",
              " 81999,\n",
              " 87974,\n",
              " 15053,\n",
              " 5633,\n",
              " 42897,\n",
              " 69696,\n",
              " 39691,\n",
              " 13355,\n",
              " 72868,\n",
              " 87630,\n",
              " 74383,\n",
              " 70634,\n",
              " 40610,\n",
              " 70868,\n",
              " 73597,\n",
              " 10375,\n",
              " 51857,\n",
              " 47745,\n",
              " 72230,\n",
              " 64883,\n",
              " 90392,\n",
              " 93781,\n",
              " 54444,\n",
              " 76934,\n",
              " 27317,\n",
              " 42405,\n",
              " 85821,\n",
              " 35918,\n",
              " 18566,\n",
              " 9003,\n",
              " 46915,\n",
              " 68281,\n",
              " 83988,\n",
              " 84857,\n",
              " 63787,\n",
              " 65939,\n",
              " 48287,\n",
              " 6743,\n",
              " 23639,\n",
              " 40477,\n",
              " 10238,\n",
              " 24700,\n",
              " 71945,\n",
              " 11011,\n",
              " 39837,\n",
              " 88286,\n",
              " 93593,\n",
              " 66672,\n",
              " 21120,\n",
              " 44466,\n",
              " 90408,\n",
              " 27315,\n",
              " 83394,\n",
              " 15564,\n",
              " 44967,\n",
              " 49689,\n",
              " 62592,\n",
              " 11699,\n",
              " 27679,\n",
              " 89284,\n",
              " 73931,\n",
              " 25842,\n",
              " 54969,\n",
              " 53681,\n",
              " 28487,\n",
              " 16771,\n",
              " 55113,\n",
              " 33605,\n",
              " 26212,\n",
              " 3038,\n",
              " 8337,\n",
              " 52561,\n",
              " 66261,\n",
              " 50879,\n",
              " 74893,\n",
              " 15481,\n",
              " 28518,\n",
              " 39165,\n",
              " 53212,\n",
              " 35448,\n",
              " 19110,\n",
              " 46744,\n",
              " 8996,\n",
              " 42821,\n",
              " 44319,\n",
              " 61232,\n",
              " 48871,\n",
              " 23204,\n",
              " 324,\n",
              " 25527,\n",
              " 82803,\n",
              " 7411,\n",
              " 56278,\n",
              " 10983,\n",
              " 32267,\n",
              " 38106,\n",
              " 51783,\n",
              " 69417,\n",
              " 50272,\n",
              " 81633,\n",
              " 90458,\n",
              " 7117,\n",
              " 77307,\n",
              " 33355,\n",
              " 91743,\n",
              " 18526,\n",
              " 12690,\n",
              " 30141,\n",
              " 10936,\n",
              " 64283,\n",
              " 14508,\n",
              " 60654,\n",
              " 63437,\n",
              " 42034,\n",
              " 49586,\n",
              " 40237,\n",
              " 46316,\n",
              " 84381,\n",
              " 70717,\n",
              " 63618,\n",
              " 13395,\n",
              " 91991,\n",
              " 44459,\n",
              " 62348,\n",
              " 40699,\n",
              " 49481,\n",
              " 68368,\n",
              " 41129,\n",
              " 74147,\n",
              " 60017,\n",
              " 62375,\n",
              " 17302,\n",
              " 72602,\n",
              " 91286,\n",
              " 41713,\n",
              " 98973,\n",
              " 61945,\n",
              " 53965,\n",
              " 79266,\n",
              " 51571,\n",
              " 25038,\n",
              " 7333,\n",
              " 45571,\n",
              " 92506,\n",
              " 53512,\n",
              " 85686,\n",
              " 14200,\n",
              " 93141,\n",
              " 78040,\n",
              " 23726,\n",
              " 32608,\n",
              " 39168,\n",
              " 5523,\n",
              " 1301,\n",
              " 95607,\n",
              " 98782,\n",
              " 91638,\n",
              " 19301,\n",
              " 61174,\n",
              " 13354,\n",
              " 36708,\n",
              " 62612,\n",
              " 86832,\n",
              " 30268,\n",
              " 6544,\n",
              " 50380,\n",
              " 95626,\n",
              " 48589,\n",
              " 24370,\n",
              " 15915,\n",
              " 31337,\n",
              " 88362,\n",
              " 90421,\n",
              " 62043,\n",
              " 66252,\n",
              " 43391,\n",
              " 90626,\n",
              " 64022,\n",
              " 48983,\n",
              " 83437,\n",
              " 4066,\n",
              " 11947,\n",
              " 179,\n",
              " 31723,\n",
              " 50280,\n",
              " 5150,\n",
              " 61244,\n",
              " 34043,\n",
              " 43893,\n",
              " 60294,\n",
              " 98900,\n",
              " 24764,\n",
              " 5500,\n",
              " 82975,\n",
              " 89170,\n",
              " 15651,\n",
              " 13681,\n",
              " 53086,\n",
              " 88233,\n",
              " 18922,\n",
              " 46607,\n",
              " 22423,\n",
              " 92662,\n",
              " 19537,\n",
              " 928,\n",
              " 19848,\n",
              " 69595,\n",
              " 44832,\n",
              " 54263,\n",
              " 82816,\n",
              " 49554,\n",
              " 23602,\n",
              " 80085,\n",
              " 78681,\n",
              " 35199,\n",
              " 12908,\n",
              " 40723,\n",
              " 36946,\n",
              " 12520,\n",
              " 21861,\n",
              " 71602,\n",
              " 27180,\n",
              " 26905,\n",
              " 37967,\n",
              " 29436,\n",
              " 19008,\n",
              " 49780,\n",
              " 88401,\n",
              " 47146,\n",
              " 18477,\n",
              " 21627,\n",
              " 67532,\n",
              " 82719,\n",
              " 70242,\n",
              " 87287,\n",
              " 64908,\n",
              " 42073,\n",
              " 34074,\n",
              " 84194,\n",
              " 53266,\n",
              " 86395,\n",
              " 67234,\n",
              " 58981,\n",
              " 55440,\n",
              " 12876,\n",
              " 26758,\n",
              " 70099,\n",
              " 43788,\n",
              " 70844,\n",
              " 31454,\n",
              " 27616,\n",
              " 80800,\n",
              " 61561,\n",
              " 46559,\n",
              " 83381,\n",
              " 86110,\n",
              " 67983,\n",
              " 33710,\n",
              " 78356,\n",
              " 43183,\n",
              " 61148,\n",
              " 92701,\n",
              " 30143,\n",
              " 37103,\n",
              " 57830,\n",
              " 87200,\n",
              " 36454,\n",
              " 5002,\n",
              " 44204,\n",
              " 84291,\n",
              " 78383,\n",
              " 11159,\n",
              " 45832,\n",
              " 2486,\n",
              " 56392,\n",
              " 20814,\n",
              " 74482,\n",
              " 88375,\n",
              " 81800,\n",
              " 20963,\n",
              " 91283,\n",
              " 23711,\n",
              " 7561,\n",
              " 27639,\n",
              " 32146,\n",
              " 88780,\n",
              " 46108,\n",
              " 71317,\n",
              " 58525,\n",
              " 68995,\n",
              " 23733,\n",
              " 19171,\n",
              " 72614,\n",
              " 74366,\n",
              " 91530,\n",
              " 27278,\n",
              " 91223,\n",
              " 67874,\n",
              " 46957,\n",
              " 44534,\n",
              " 33204,\n",
              " 10267,\n",
              " 7787,\n",
              " 41257,\n",
              " 49241,\n",
              " 38592,\n",
              " 3228,\n",
              " 72514,\n",
              " 73961,\n",
              " 94634,\n",
              " 65035,\n",
              " 2505,\n",
              " 4423,\n",
              " 69840,\n",
              " 6263,\n",
              " 19413,\n",
              " 7548,\n",
              " 19120,\n",
              " 25813,\n",
              " 57076,\n",
              " 35362,\n",
              " 95204,\n",
              " 21211,\n",
              " 92199,\n",
              " 15162,\n",
              " 20036,\n",
              " 74951,\n",
              " 55206,\n",
              " 48279,\n",
              " 31330,\n",
              " 70464,\n",
              " 15657,\n",
              " 82396,\n",
              " 43880,\n",
              " 55706,\n",
              " 57208,\n",
              " 47398,\n",
              " 29516,\n",
              " 25920,\n",
              " 68380,\n",
              " 98526,\n",
              " 85571,\n",
              " 30311,\n",
              " 7649,\n",
              " 37704,\n",
              " 62319,\n",
              " 98833,\n",
              " 3755,\n",
              " 47811,\n",
              " 11429,\n",
              " 14321,\n",
              " 37550,\n",
              " 15756,\n",
              " 45974,\n",
              " ...]"
            ]
          },
          "execution_count": 2,
          "metadata": {},
          "output_type": "execute_result"
        }
      ],
      "source": [
        "import random\n",
        "\n",
        "L = [random.randint(0,100000) for i in range(int(1e7))]\n",
        "L"
      ]
    },
    {
      "cell_type": "code",
      "execution_count": null,
      "metadata": {
        "colab": {
          "base_uri": "https://localhost:8080/"
        },
        "id": "SHQmIq1juKPu",
        "outputId": "1ddca7a1-5e85-4976-ed35-b5a67b52ab3f"
      },
      "outputs": [
        {
          "name": "stdout",
          "output_type": "stream",
          "text": [
            "6.09 s ± 767 ms per loop (mean ± std. dev. of 7 runs, 1 loop each)\n"
          ]
        }
      ],
      "source": [
        "%timeit sorted(L)"
      ]
    },
    {
      "cell_type": "code",
      "execution_count": null,
      "metadata": {
        "colab": {
          "base_uri": "https://localhost:8080/"
        },
        "id": "Lp6QQZT5wEe0",
        "outputId": "9a73091e-e340-484f-8129-1ed10ccd2afd"
      },
      "outputs": [
        {
          "name": "stdout",
          "output_type": "stream",
          "text": [
            "['a', 'f', 'd', 'b', 'g']\n",
            "['a', 'd', 'f', 'b', 'g']\n",
            "['a', 'd', 'b', 'f', 'g']\n",
            "['a', 'd', 'b', 'f', 'g']\n",
            "\n",
            "['a', 'd', 'b', 'f', 'g']\n",
            "['a', 'b', 'd', 'f', 'g']\n",
            "['a', 'b', 'd', 'f', 'g']\n",
            "\n",
            "['a', 'b', 'd', 'f', 'g']\n",
            "['a', 'b', 'd', 'f', 'g']\n"
          ]
        },
        {
          "data": {
            "text/plain": [
              "['a', 'b', 'd', 'f', 'g']"
            ]
          },
          "execution_count": 4,
          "metadata": {},
          "output_type": "execute_result"
        }
      ],
      "source": [
        "def  bubble_sort(array):\n",
        "    n = len(array)\n",
        "    for i in range(n):\n",
        "        already_sorted = True\n",
        "        for j in range(n-i-1):\n",
        "            if array[j] > array[j+1]:\n",
        "                array[j], array[j+1] = array[j+1], array[j]\n",
        "                already_sorted = False\n",
        "            print(array)\n",
        "        if already_sorted:\n",
        "            break\n",
        "        print()\n",
        "    return array\n",
        "bubble_sort(['f','a','d','b','g'])"
      ]
    },
    {
      "cell_type": "code",
      "execution_count": null,
      "metadata": {
        "colab": {
          "background_save": true
        },
        "id": "Nr_9CrKNyihE",
        "outputId": "d0697932-9e96-4467-8f93-03dda607cf22"
      },
      "outputs": [
        {
          "name": "stdout",
          "output_type": "stream",
          "text": [
            "19.1 ms ± 6.27 ms per loop (mean ± std. dev. of 7 runs, 1 loop each)\n"
          ]
        }
      ],
      "source": [
        "def bubble_sort(array):\n",
        "    n = len(array)\n",
        "    for i in range(n):\n",
        "        already_sorted = True\n",
        "        for j in range(n-i-1):\n",
        "            if array[j] > array[j+1]:\n",
        "                array[j], array[j+1] = array[j+1], array[j]\n",
        "                already_sorted = False\n",
        "        if already_sorted:\n",
        "            break\n",
        "    return array\n",
        "import random\n",
        "L = [random.randint(0, 10000) for _ in range(int(1e5))]\n",
        "%timeit bubble_sort(L)"
      ]
    },
    {
      "cell_type": "code",
      "execution_count": null,
      "metadata": {
        "id": "KoWVMjC1yi28"
      },
      "outputs": [],
      "source": [
        "def quickSort(L):\n",
        "  if len(L) < 2:\n",
        "    return L\n",
        "  else:\n",
        "    pivot = L[0]\n",
        "\n",
        "else: pivot = ...\n",
        "\n",
        "  less = []\n",
        "  equal = []\n",
        "  larger = []\n",
        "\n",
        "  for el in L:\n",
        "    if el < pivot:\n",
        "      less.append(el)\n",
        "    elif el == pivot:\n",
        "      equal.append(el)\n",
        "    else:\n",
        "      larger.append(el)\n",
        "\n",
        "  return quickSort(less) +equal + quickSort(larger)\n",
        "\n",
        "quicksort([8,2,6,9,1,9])"
      ]
    },
    {
      "cell_type": "code",
      "execution_count": null,
      "metadata": {
        "id": "iriCSvsv2n2F"
      },
      "outputs": [],
      "source": [
        "def quicksort(array):\n",
        "  if len(array) < 2:\n",
        "    return array\n",
        "\n",
        "  else:\n",
        "    low, same, high = [], [], []\n",
        "    pivot = array[0]\n",
        "\n",
        "  for el in L:\n",
        "    if el < pivot:\n",
        "      low.append(el)\n",
        "    elif el == pivot:\n",
        "      same.append(el)\n",
        "    else:\n",
        "      high.append(el)\n",
        "\n",
        "  return quicksort(low) + same + quicksort(high)\n",
        "\n",
        "  quicksort([8,2,6,9,1,9])"
      ]
    },
    {
      "cell_type": "markdown",
      "source": [
        "11/4/2024"
      ],
      "metadata": {
        "id": "34Em9T-yr9av"
      }
    },
    {
      "cell_type": "code",
      "source": [
        "def adder(x, y):\n",
        "  return x + y\n",
        "\n",
        "adder(2,\"6\")"
      ],
      "metadata": {
        "colab": {
          "base_uri": "https://localhost:8080/",
          "height": 280
        },
        "id": "5CEkPvl_r9PZ",
        "outputId": "0604eb7e-7c3a-4eb6-87c9-a3930aa54323"
      },
      "execution_count": null,
      "outputs": [
        {
          "output_type": "error",
          "ename": "TypeError",
          "evalue": "unsupported operand type(s) for +: 'int' and 'str'",
          "traceback": [
            "\u001b[0;31m---------------------------------------------------------------------------\u001b[0m",
            "\u001b[0;31mTypeError\u001b[0m                                 Traceback (most recent call last)",
            "\u001b[0;32m<ipython-input-3-6507cab20b32>\u001b[0m in \u001b[0;36m<cell line: 4>\u001b[0;34m()\u001b[0m\n\u001b[1;32m      2\u001b[0m   \u001b[0;32mreturn\u001b[0m \u001b[0mx\u001b[0m \u001b[0;34m+\u001b[0m \u001b[0my\u001b[0m\u001b[0;34m\u001b[0m\u001b[0;34m\u001b[0m\u001b[0m\n\u001b[1;32m      3\u001b[0m \u001b[0;34m\u001b[0m\u001b[0m\n\u001b[0;32m----> 4\u001b[0;31m \u001b[0madder\u001b[0m\u001b[0;34m(\u001b[0m\u001b[0;36m2\u001b[0m\u001b[0;34m,\u001b[0m\u001b[0;34m\"6\"\u001b[0m\u001b[0;34m)\u001b[0m\u001b[0;34m\u001b[0m\u001b[0;34m\u001b[0m\u001b[0m\n\u001b[0m",
            "\u001b[0;32m<ipython-input-3-6507cab20b32>\u001b[0m in \u001b[0;36madder\u001b[0;34m(x, y)\u001b[0m\n\u001b[1;32m      1\u001b[0m \u001b[0;32mdef\u001b[0m \u001b[0madder\u001b[0m\u001b[0;34m(\u001b[0m\u001b[0mx\u001b[0m\u001b[0;34m,\u001b[0m \u001b[0my\u001b[0m\u001b[0;34m)\u001b[0m\u001b[0;34m:\u001b[0m\u001b[0;34m\u001b[0m\u001b[0;34m\u001b[0m\u001b[0m\n\u001b[0;32m----> 2\u001b[0;31m   \u001b[0;32mreturn\u001b[0m \u001b[0mx\u001b[0m \u001b[0;34m+\u001b[0m \u001b[0my\u001b[0m\u001b[0;34m\u001b[0m\u001b[0;34m\u001b[0m\u001b[0m\n\u001b[0m\u001b[1;32m      3\u001b[0m \u001b[0;34m\u001b[0m\u001b[0m\n\u001b[1;32m      4\u001b[0m \u001b[0madder\u001b[0m\u001b[0;34m(\u001b[0m\u001b[0;36m2\u001b[0m\u001b[0;34m,\u001b[0m\u001b[0;34m\"6\"\u001b[0m\u001b[0;34m)\u001b[0m\u001b[0;34m\u001b[0m\u001b[0;34m\u001b[0m\u001b[0m\n",
            "\u001b[0;31mTypeError\u001b[0m: unsupported operand type(s) for +: 'int' and 'str'"
          ]
        }
      ]
    },
    {
      "cell_type": "code",
      "source": [
        "L = [1,2,3,4]\n",
        "\n",
        "L[len(L)]"
      ],
      "metadata": {
        "colab": {
          "base_uri": "https://localhost:8080/",
          "height": 176
        },
        "id": "yi0ugDATsEtR",
        "outputId": "268ff009-0bb1-4074-f3ee-53efba88f973"
      },
      "execution_count": null,
      "outputs": [
        {
          "output_type": "error",
          "ename": "IndexError",
          "evalue": "list index out of range",
          "traceback": [
            "\u001b[0;31m---------------------------------------------------------------------------\u001b[0m",
            "\u001b[0;31mIndexError\u001b[0m                                Traceback (most recent call last)",
            "\u001b[0;32m<ipython-input-2-b4646ff5f14d>\u001b[0m in \u001b[0;36m<cell line: 3>\u001b[0;34m()\u001b[0m\n\u001b[1;32m      1\u001b[0m \u001b[0mL\u001b[0m \u001b[0;34m=\u001b[0m \u001b[0;34m[\u001b[0m\u001b[0;36m1\u001b[0m\u001b[0;34m,\u001b[0m\u001b[0;36m2\u001b[0m\u001b[0;34m,\u001b[0m\u001b[0;36m3\u001b[0m\u001b[0;34m,\u001b[0m\u001b[0;36m4\u001b[0m\u001b[0;34m]\u001b[0m\u001b[0;34m\u001b[0m\u001b[0;34m\u001b[0m\u001b[0m\n\u001b[1;32m      2\u001b[0m \u001b[0;34m\u001b[0m\u001b[0m\n\u001b[0;32m----> 3\u001b[0;31m \u001b[0mL\u001b[0m\u001b[0;34m[\u001b[0m\u001b[0mlen\u001b[0m\u001b[0;34m(\u001b[0m\u001b[0mL\u001b[0m\u001b[0;34m)\u001b[0m\u001b[0;34m]\u001b[0m\u001b[0;34m\u001b[0m\u001b[0;34m\u001b[0m\u001b[0m\n\u001b[0m",
            "\u001b[0;31mIndexError\u001b[0m: list index out of range"
          ]
        }
      ]
    },
    {
      "cell_type": "code",
      "source": [
        "def diva(a,b):\n",
        "  return a/b\n",
        "\n",
        "div(2,0)"
      ],
      "metadata": {
        "colab": {
          "base_uri": "https://localhost:8080/",
          "height": 106
        },
        "id": "o_jStqMEsNsx",
        "outputId": "54883582-05de-4447-c6e5-6245b05ea2e3"
      },
      "execution_count": null,
      "outputs": [
        {
          "output_type": "error",
          "ename": "SyntaxError",
          "evalue": "invalid syntax (<ipython-input-4-1c344165169c>, line 2)",
          "traceback": [
            "\u001b[0;36m  File \u001b[0;32m\"<ipython-input-4-1c344165169c>\"\u001b[0;36m, line \u001b[0;32m2\u001b[0m\n\u001b[0;31m    return a/break\u001b[0m\n\u001b[0m             ^\u001b[0m\n\u001b[0;31mSyntaxError\u001b[0m\u001b[0;31m:\u001b[0m invalid syntax\n"
          ]
        }
      ]
    },
    {
      "cell_type": "code",
      "source": [
        "def div(a,b):\n",
        "  try:\n",
        "    return a/b\n",
        "  except ZeroDivisionError:\n",
        "    print('Division by Zero!')\n",
        "  except TypeError:\n",
        "    print('Incompatible object types...')\n",
        "  except:\n",
        "    print('Error')\n",
        "    return float('nan')\n",
        "\n",
        "\n",
        "s = div('5',2)\n",
        "print(s)\n",
        "inp = input('Enter value:')\n",
        "print(inp)\n"
      ],
      "metadata": {
        "colab": {
          "base_uri": "https://localhost:8080/"
        },
        "id": "RI1O7dGmsSpA",
        "outputId": "e1bdc6aa-35d4-4ffb-8f52-c6e727001027"
      },
      "execution_count": null,
      "outputs": [
        {
          "output_type": "stream",
          "name": "stdout",
          "text": [
            "Incompatible object types...\n",
            "None\n",
            "Enter value:19\n",
            "19\n"
          ]
        }
      ]
    },
    {
      "cell_type": "code",
      "source": [
        "def div(a,b):\n",
        "  try:\n",
        "    c = a + breakprint(c)\n",
        "    d= c / b\n",
        "    print(d)\n",
        "\n",
        "  except ZeroDivisionError:\n",
        "    print('Division by Zero!')\n",
        "  except TypeError:\n",
        "    print('Incompatible object types...')\n",
        "  except:\n",
        "    print('Error')\n",
        "    return float('nan')\n",
        "  else:\n",
        "    print('All GUcci')\n",
        "  finally:\n",
        "    print('Tghis will always be displayed')\n",
        "\n",
        "\n",
        "s = div('5',2)\n",
        "print(s)\n",
        "inp = input('Enter value:')\n",
        "print(inp)\n"
      ],
      "metadata": {
        "colab": {
          "base_uri": "https://localhost:8080/"
        },
        "id": "nyTaWkQZt7SZ",
        "outputId": "02f17a3c-39d3-4217-f999-38bc71744fd0"
      },
      "execution_count": null,
      "outputs": [
        {
          "output_type": "stream",
          "name": "stdout",
          "text": [
            "Error\n",
            "nan\n",
            "Enter value:12\n",
            "12\n"
          ]
        }
      ]
    },
    {
      "cell_type": "markdown",
      "source": [
        "11/6/2024"
      ],
      "metadata": {
        "id": "OX4TKV1897cD"
      }
    },
    {
      "cell_type": "markdown",
      "source": [
        "function that calculates theweighted avgerage of a list , given weigths w the function should hangle the folowing exception error types\n",
        "- zerodivisionerror (returns empty lsit)\n",
        "\n",
        "-type error (returns empty list)\n",
        "\n",
        "- any other unknown error (returns float('nan'))"
      ],
      "metadata": {
        "id": "v9GF6e4h-Xg_"
      }
    },
    {
      "cell_type": "code",
      "source": [
        "def wAvg(L, w):\n",
        "    try:\n",
        "        a = [x * y for x, y in zip(L, w)]\n",
        "    except ZeroDivisionError:\n",
        "        print('Division by Zero!')\n",
        "        return []\n",
        "    except TypeError:\n",
        "        print('Incompatible object types...')\n",
        "        return []\n",
        "    except:\n",
        "        print('Error')\n",
        "        return float('nan')\n",
        "\n",
        "    return a\n",
        "\n",
        "\n",
        "L = [1, 2, 3]\n",
        "w = [0.1, 0.3, 0.5]\n",
        "s = wAvg(L, w)\n",
        "print(s)"
      ],
      "metadata": {
        "colab": {
          "base_uri": "https://localhost:8080/"
        },
        "id": "IjJDVLkR98xU",
        "outputId": "2cc7ad58-9756-4388-e675-09c6bb0064f8"
      },
      "execution_count": 27,
      "outputs": [
        {
          "output_type": "stream",
          "name": "stdout",
          "text": [
            "[0.1, 0.6, 1.5]\n"
          ]
        }
      ]
    },
    {
      "cell_type": "code",
      "source": [
        "def wAvg(L, w):\n",
        "  res = []\n",
        "  try:\n",
        "    for i in range(len(L)):\n",
        "      res.append(L[i] * w[i])\n",
        "    return sum(res) / sum(w)\n",
        "  except ZeroDivisionError:\n",
        "      print('Division by Zero.')\n",
        "      return []\n",
        "  except TypeError:\n",
        "      print('Non-numerical objects found.')\n",
        "      return []\n",
        "  except Exception as e:\n",
        "      print(f'Unknown Error: {e}')\n",
        "      return float('nan')\n",
        "\n",
        "wAvg([1,'2',3], [0.1, 0.3, 0.5])"
      ],
      "metadata": {
        "colab": {
          "base_uri": "https://localhost:8080/"
        },
        "id": "ecAx9bwrAahU",
        "outputId": "3f53c3a4-c993-453f-e38d-e44f93fac367"
      },
      "execution_count": 38,
      "outputs": [
        {
          "output_type": "stream",
          "name": "stdout",
          "text": [
            "Non-numerical objects found.\n"
          ]
        },
        {
          "output_type": "execute_result",
          "data": {
            "text/plain": [
              "[]"
            ]
          },
          "metadata": {},
          "execution_count": 38
        }
      ]
    },
    {
      "cell_type": "code",
      "source": [],
      "metadata": {
        "id": "Nnye-bUtDmPi"
      },
      "execution_count": null,
      "outputs": []
    }
  ],
  "metadata": {
    "colab": {
      "provenance": [],
      "authorship_tag": "ABX9TyNWO2K0w/EcOvG9zUmWG9Ii",
      "include_colab_link": true
    },
    "kernelspec": {
      "display_name": "Python 3",
      "name": "python3"
    },
    "language_info": {
      "name": "python"
    }
  },
  "nbformat": 4,
  "nbformat_minor": 0
}