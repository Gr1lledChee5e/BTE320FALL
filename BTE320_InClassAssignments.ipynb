{
  "cells": [
    {
      "cell_type": "markdown",
      "metadata": {
        "id": "view-in-github",
        "colab_type": "text"
      },
      "source": [
        "<a href=\"https://colab.research.google.com/github/Gr1lledChee5e/BTE320FALL/blob/main/BTE320_InClassAssignments.ipynb\" target=\"_parent\"><img src=\"https://colab.research.google.com/assets/colab-badge.svg\" alt=\"Open In Colab\"/></a>"
      ]
    },
    {
      "cell_type": "code",
      "execution_count": null,
      "metadata": {
        "colab": {
          "base_uri": "https://localhost:8080/"
        },
        "id": "gLtGtvL0SP8m",
        "outputId": "4a1564b1-6cbe-4f27-c082-e0474b4251d8"
      },
      "outputs": [
        {
          "name": "stdout",
          "output_type": "stream",
          "text": [
            "244.92000000000002\n"
          ]
        }
      ],
      "source": [
        "# Surface Area of a Cylinder\n",
        "pi = 3.14\n",
        "h = 10 #height\n",
        "r = 3 #radius\n",
        "area = 2*pi*r**2 + 2*pi*r*h\n",
        "print(area)"
      ]
    },
    {
      "cell_type": "code",
      "execution_count": null,
      "metadata": {
        "id": "SceikbgwbXRJ"
      },
      "outputs": [],
      "source": []
    },
    {
      "cell_type": "code",
      "execution_count": null,
      "metadata": {
        "colab": {
          "base_uri": "https://localhost:8080/"
        },
        "id": "_Kldn8BdMcwl",
        "outputId": "b67b000f-6e35-4f4c-9fc8-41b1d6765ebb"
      },
      "outputs": [
        {
          "name": "stdout",
          "output_type": "stream",
          "text": [
            "0 2 4 6 8 10 "
          ]
        }
      ],
      "source": [
        "for i in range (0,11,2):\n",
        "  print(i, end=' ')"
      ]
    },
    {
      "cell_type": "code",
      "execution_count": null,
      "metadata": {
        "colab": {
          "base_uri": "https://localhost:8080/"
        },
        "id": "p4RC50_XMhki",
        "outputId": "69623dcf-92f9-4b61-9461-5a1d0188c442"
      },
      "outputs": [
        {
          "name": "stdout",
          "output_type": "stream",
          "text": [
            "0 2 4 6 8 10 "
          ]
        }
      ],
      "source": [
        "i = 0\n",
        "while i < 11:\n",
        "  print(i, end=' ')\n",
        "  i = i + 2"
      ]
    },
    {
      "cell_type": "markdown",
      "metadata": {
        "id": "xMP9p_5SZ-OS"
      },
      "source": [
        "Basic Function Calculator"
      ]
    },
    {
      "cell_type": "code",
      "execution_count": null,
      "metadata": {
        "colab": {
          "base_uri": "https://localhost:8080/"
        },
        "id": "BCxldVq9ZkDM",
        "outputId": "f30cd288-66bc-43cd-bd09-231c5c94a197"
      },
      "outputs": [
        {
          "name": "stdout",
          "output_type": "stream",
          "text": [
            "Welcome to the calculator!\n",
            "Select operation:\n",
            "1. Add\n",
            "2. Subtract\n",
            "3. Multiply\n",
            "4. Divide\n",
            "Enter choice (1/2/3/4): 1\n",
            "Enter first number: 2\n",
            "Enter second number: 2\n",
            "2.0 + 2.0 = 4.0\n"
          ]
        }
      ],
      "source": [
        "while True\n",
        "\n",
        "def calculator():\n",
        "    print(\"Welcome to the calculator!\")\n",
        "    print(\"Select operation:\")\n",
        "    print(\"1. Add\")\n",
        "    print(\"2. Subtract\")\n",
        "    print(\"3. Multiply\")\n",
        "    print(\"4. Divide\")\n",
        "\n",
        "    choice = input(\"Enter choic2e (1/2/3/4): \")\n",
        "\n",
        "    if choice in ['1', '2', '3', '4']:\n",
        "        num1 = float(input(\"Enter first number: \"))\n",
        "        num2 = float(input(\"Enter second number: \"))\n",
        "\n",
        "        if choice == '1':\n",
        "            print(f\"{num1} + {num2} = {num1 + num2}\")\n",
        "        elif choice == '2':\n",
        "            print(f\"{num1} - {num2} = {num1 - num2}\")\n",
        "        elif choice == '3':\n",
        "            print(f\"{num1} * {num2} = {num1 * num2}\")\n",
        "        elif choice == '4':\n",
        "            if num2 != 0:\n",
        "                print(f\"{num1} / {num2} = {num1 / num2}\")\n",
        "            else:\n",
        "                print(\"Error! Division by zero.\")\n",
        "    else:\n",
        "        print(\"Invalid Input\")\n",
        "\n",
        "calculator()\n"
      ]
    },
    {
      "cell_type": "code",
      "execution_count": null,
      "metadata": {
        "id": "wceMbxFuP_GI"
      },
      "outputs": [],
      "source": []
    },
    {
      "cell_type": "code",
      "execution_count": null,
      "metadata": {
        "colab": {
          "base_uri": "https://localhost:8080/"
        },
        "id": "n3KGgcFiaLGi",
        "outputId": "ec2dc71a-b84b-44b8-8287-f2ede95f5366"
      },
      "outputs": [
        {
          "name": "stdout",
          "output_type": "stream",
          "text": [
            "enter number:2\n",
            "enter number:3\n",
            "Choose operator (+, -, *, /, **):**\n",
            "8.0\n"
          ]
        }
      ],
      "source": [
        "n1 = float(input('enter number:'))\n",
        "n2 = float(input('enter number:'))\n",
        "symbol = input('Choose operator (+, -, *, /, **):')\n",
        "\n",
        "if symbol == '+':\n",
        "    print(n1 + n2)\n",
        "elif symbol == '-':\n",
        "    print(n1 - n2)\n",
        "elif symbol == '/':\n",
        "    print(n1 / n2)\n",
        "elif symbol == '*':\n",
        "    print(n1 * n2)\n",
        "else:\n",
        "    print(n1 ** n2)\n"
      ]
    },
    {
      "cell_type": "markdown",
      "metadata": {
        "id": "lz6mvKQdZ8ez"
      },
      "source": []
    },
    {
      "cell_type": "code",
      "execution_count": null,
      "metadata": {
        "colab": {
          "base_uri": "https://localhost:8080/"
        },
        "id": "5oWx-3GTc0Kw",
        "outputId": "057c6cba-bd93-4138-96b0-cbe9f6d3826f"
      },
      "outputs": [
        {
          "name": "stdout",
          "output_type": "stream",
          "text": [
            "Requirement already satisfied: ColabTurtlePlus in /usr/local/lib/python3.10/dist-packages (2.0.1)\n"
          ]
        }
      ],
      "source": [
        "!pip install ColabTurtlePlus"
      ]
    },
    {
      "cell_type": "code",
      "execution_count": null,
      "metadata": {
        "colab": {
          "base_uri": "https://localhost:8080/",
          "height": 216
        },
        "id": "Fggk0r5Nd13e",
        "outputId": "792d2f4d-059d-4906-8a08-f22f48121c87"
      },
      "outputs": [
        {
          "ename": "NameError",
          "evalue": "name 'screen' is not defined",
          "output_type": "error",
          "traceback": [
            "\u001b[0;31m---------------------------------------------------------------------------\u001b[0m",
            "\u001b[0;31mNameError\u001b[0m                                 Traceback (most recent call last)",
            "\u001b[0;32m<ipython-input-48-ad7558ffd8ce>\u001b[0m in \u001b[0;36m<cell line: 3>\u001b[0;34m()\u001b[0m\n\u001b[1;32m      1\u001b[0m \u001b[0;32mfrom\u001b[0m \u001b[0mColabTurtlePlus\u001b[0m \u001b[0;32mimport\u001b[0m \u001b[0;34m*\u001b[0m\u001b[0;34m\u001b[0m\u001b[0;34m\u001b[0m\u001b[0m\n\u001b[1;32m      2\u001b[0m \u001b[0;34m\u001b[0m\u001b[0m\n\u001b[0;32m----> 3\u001b[0;31m \u001b[0mscreen\u001b[0m \u001b[0;34m=\u001b[0m \u001b[0mscreen\u001b[0m\u001b[0;34m(\u001b[0m\u001b[0;34m)\u001b[0m\u001b[0;34m\u001b[0m\u001b[0;34m\u001b[0m\u001b[0m\n\u001b[0m\u001b[1;32m      4\u001b[0m \u001b[0;34m\u001b[0m\u001b[0m\n\u001b[1;32m      5\u001b[0m \u001b[0mscreen\u001b[0m\u001b[0;34m.\u001b[0m\u001b[0mclearscreen\u001b[0m\u001b[0;34m(\u001b[0m\u001b[0;34m)\u001b[0m\u001b[0;34m\u001b[0m\u001b[0;34m\u001b[0m\u001b[0m\n",
            "\u001b[0;31mNameError\u001b[0m: name 'screen' is not defined"
          ]
        }
      ],
      "source": [
        "from ColabTurtlePlus import *\n",
        "\n",
        "screen = screen()\n",
        "\n",
        "screen.clearscreen()\n",
        "\n",
        "reset = True\n",
        "\n",
        "if reset:\n",
        "  Clear()\n",
        "\n",
        "color('black', 'green')\n",
        "shape('blank')\n",
        "begin_fill()\n",
        "jumpto(0,0)\n",
        "\n",
        "forward(100)\n",
        "left(90)\n",
        "forward(100)\n",
        "left(90)\n",
        "forward(100)\n",
        "left(90)\n",
        "forward(100)\n",
        "left(90)\n",
        "\n",
        "penup()\n",
        "end_fill()\n"
      ]
    },
    {
      "cell_type": "code",
      "execution_count": null,
      "metadata": {
        "colab": {
          "base_uri": "https://localhost:8080/",
          "height": 621
        },
        "id": "FRkwp5wNe3bl",
        "outputId": "3123a769-1e3a-4721-ff0a-3e641540027a"
      },
      "outputs": [
        {
          "data": {
            "text/html": [
              "\n",
              "      <svg width=\"800\" height=\"600\">  \n",
              "        <rect width=\"100%\" height=\"100%\" style=\"fill:white;stroke:;stroke-width:1\"/>\n",
              "        \n",
              "        \n",
              "        <path fill-rule=\"evenodd\" fill-opacity=\"1\" d=\"M 400.0 300.0  L 400.0 300.0  L 500.0 300.0  L 500.0 200.0  L 400.0 200.0  L 400.0 300.0 \" stroke-linecap=\"round\" style=\"stroke:none;stroke-width:1\" fill=\"green\" />\n",
              "        \n",
              "        \n",
              "        \n",
              "      </svg>\n",
              "    "
            ],
            "text/plain": [
              "<IPython.core.display.HTML object>"
            ]
          },
          "metadata": {},
          "output_type": "display_data"
        }
      ],
      "source": [
        "from ColabTurtlePlus.Turtle import *\n",
        "\n",
        "clearscreen()\n",
        "\n",
        "reset = True\n",
        "\n",
        "if reset:\n",
        "  clear()\n",
        "\n",
        "color('black', 'green')\n",
        "shape('blank')\n",
        "begin_fill()\n",
        "jumpto(0,0)\n",
        "\n",
        "\n",
        "for i in range(4):\n",
        "  forward(100)\n",
        "  left(90)\n",
        "\n",
        "\n",
        "penup()\n",
        "end_fill()"
      ]
    },
    {
      "cell_type": "markdown",
      "metadata": {
        "id": "BMoq3JDGgHK0"
      },
      "source": [
        "Range (start, stop, step) for varname in sequence\n",
        "\n",
        "Start\n",
        "Start + step\n",
        "Start + 2*step\n",
        "start + N*step < Stop\n",
        "\n",
        "[Start, stop)\n",
        "\n",
        "Start --> 0\n",
        "step --> 1\n",
        "range[ 0,1,2,3] for range(4)\n",
        "\n",
        "such that, i = 0, i =1, i=2, i=3\n"
      ]
    },
    {
      "cell_type": "code",
      "execution_count": null,
      "metadata": {
        "colab": {
          "base_uri": "https://localhost:8080/"
        },
        "id": "kKxTAceqjLkl",
        "outputId": "9a84a60b-5e8f-45a4-a04c-7d7c3f68baeb"
      },
      "outputs": [
        {
          "name": "stdout",
          "output_type": "stream",
          "text": [
            "0 2 4 6 8 10 "
          ]
        }
      ],
      "source": [
        "for i in range (0,11, 2):\n",
        "  print(i, end=' ')"
      ]
    },
    {
      "cell_type": "code",
      "execution_count": null,
      "metadata": {
        "colab": {
          "base_uri": "https://localhost:8080/"
        },
        "id": "OofD0P4ljwyX",
        "outputId": "6bdd7725-39c2-4bb4-a84a-8706616b1019"
      },
      "outputs": [
        {
          "name": "stdout",
          "output_type": "stream",
          "text": [
            "40 30 20 10 "
          ]
        }
      ],
      "source": [
        "for i in range (40,5, -10):\n",
        "  print(i, end=' ')"
      ]
    },
    {
      "cell_type": "markdown",
      "metadata": {
        "id": "zxOVz4aBjkH7"
      },
      "source": []
    },
    {
      "cell_type": "code",
      "execution_count": null,
      "metadata": {
        "colab": {
          "base_uri": "https://localhost:8080/"
        },
        "id": "YBGaHtLiQ3j2",
        "outputId": "d4fb09d3-3734-4317-bd50-b0850d8b377c"
      },
      "outputs": [
        {
          "name": "stdout",
          "output_type": "stream",
          "text": [
            "Enter a choice (rock, paper, scissors): paper\n",
            "\n",
            "You chose paper, computer chose paper.\n",
            "\n",
            "Both players selected paper. It's a tie!\n",
            "Play again? (y/n): y\n",
            "Enter a choice (rock, paper, scissors): rock\n",
            "\n",
            "You chose rock, computer chose scissors.\n",
            "\n",
            "Rock smashes scissors! You win!\n",
            "Play again? (y/n): y\n",
            "Enter a choice (rock, paper, scissors): rock\n",
            "\n",
            "You chose rock, computer chose rock.\n",
            "\n",
            "Both players selected rock. It's a tie!\n",
            "Play again? (y/n): y\n",
            "Enter a choice (rock, paper, scissors): rock\n",
            "\n",
            "You chose rock, computer chose paper.\n",
            "\n",
            "Paper covers rock! You lose.\n",
            "Play again? (y/n): n\n"
          ]
        }
      ],
      "source": [
        "import random\n",
        "\n",
        "while True:\n",
        "    user_action = input(\"Enter a choice (rock, paper, scissors): \")\n",
        "    possible_actions = [\"rock\", \"paper\", \"scissors\"]\n",
        "    computer_action = random.choice(possible_actions)\n",
        "    print(f\"\\nYou chose {user_action}, computer chose {computer_action}.\\n\")\n",
        "\n",
        "    if user_action == computer_action:\n",
        "        print(f\"Both players selected {user_action}. It's a tie!\")\n",
        "    elif user_action == \"rock\":\n",
        "        if computer_action == \"scissors\":\n",
        "            print(\"Rock destorys scissors! You win!\")\n",
        "        else:\n",
        "            print(\"Paper covered rock! You lose.\")\n",
        "    elif user_action == \"paper\":\n",
        "        if computer_action == \"rock\":\n",
        "            print(\"Paper covered rock! You win!\")\n",
        "        else:\n",
        "            print(\"Scissors cuts ze paper! You lose.\")\n",
        "    elif user_action == \"scissors\":\n",
        "        if computer_action == \"paper\":\n",
        "            print(\"Scissors cuts ze paper! You win!\")\n",
        "        else:\n",
        "            print(\"Rock drops on ze scissors! You lose.\")\n",
        "\n",
        "    play_again = input(\"Play again? (y/n): \")\n",
        "    if play_again.lower() != \"y\":\n",
        "        break"
      ]
    },
    {
      "cell_type": "markdown",
      "metadata": {
        "id": "BQlQtnZrbYYP"
      },
      "source": [
        "Parking Garage"
      ]
    },
    {
      "cell_type": "code",
      "execution_count": null,
      "metadata": {
        "colab": {
          "base_uri": "https://localhost:8080/",
          "height": 106
        },
        "id": "ABF-frSJdXim",
        "outputId": "cb9f57db-e093-4896-d92b-4f3cbdde140c"
      },
      "outputs": [
        {
          "ename": "IndentationError",
          "evalue": "unexpected indent (<ipython-input-11-bc56f81f3d46>, line 9)",
          "output_type": "error",
          "traceback": [
            "\u001b[0;36m  File \u001b[0;32m\"<ipython-input-11-bc56f81f3d46>\"\u001b[0;36m, line \u001b[0;32m9\u001b[0m\n\u001b[0;31m    if total_fee < minimum_fee:\u001b[0m\n\u001b[0m    ^\u001b[0m\n\u001b[0;31mIndentationError\u001b[0m\u001b[0;31m:\u001b[0m unexpected indent\n"
          ]
        }
      ],
      "source": [
        "def calculate_parking_fee(hours):\n",
        "  Flat_Rate = 5.00\n",
        "  hourly_rate = 2.50\n",
        "  minimum_fee = 10.00\n",
        "  maximum_fee = 20.00\n",
        "\n",
        "  total_fee = Flat_Rate + hours * hourly_rate\n",
        "\n",
        "    if total_fee < minimum_fee:\n",
        "        total_fee = minimum_fee\n",
        "    elif total_fee > maximum_fee:\n",
        "        total_fee = maximum_fee\n",
        "\n",
        "\n",
        "    return total_fee\n",
        "\n",
        "hours = 1\n",
        "while hours <= 8:\n",
        "    print(f\"Parking for {hours} hours: ${calculate_parking_fee(hours):.2f}\")\n",
        "    hours += 1"
      ]
    },
    {
      "cell_type": "code",
      "execution_count": null,
      "metadata": {
        "id": "umAtiq0ZlKBb"
      },
      "outputs": [],
      "source": []
    },
    {
      "cell_type": "code",
      "execution_count": null,
      "metadata": {
        "colab": {
          "base_uri": "https://localhost:8080/"
        },
        "id": "QoGVDUEWdzaJ",
        "outputId": "ca8d9300-7eb4-4053-d0e6-628bb81e408b"
      },
      "outputs": [
        {
          "name": "stdout",
          "output_type": "stream",
          "text": [
            "1 10\n",
            "2 10.0\n",
            "3 12.5\n",
            "4 15.0\n",
            "5 17.5\n",
            "6 20.0\n",
            "7 20\n",
            "8 20\n"
          ]
        }
      ],
      "source": [
        "flate_rate = 5\n",
        "hourly_rate = 2.5\n",
        "\n",
        "for hour in range (1, 9 ,1):\n",
        "  charge = flate_rate + hour * hourly_rate\n",
        "  if charge < 10:\n",
        "    charge = 10\n",
        "  elif charge > 20:\n",
        "    charge = 20\n",
        "  print(hour, charge)\n"
      ]
    },
    {
      "cell_type": "markdown",
      "metadata": {
        "id": "4sTN1_lLkegT"
      },
      "source": [
        "MOVIE THEATER"
      ]
    },
    {
      "cell_type": "code",
      "execution_count": null,
      "metadata": {
        "colab": {
          "base_uri": "https://localhost:8080/"
        },
        "id": "xUZM8cTgkFbJ",
        "outputId": "588b62d1-a948-4737-bd9a-92dd1b657c9d"
      },
      "outputs": [
        {
          "name": "stdout",
          "output_type": "stream",
          "text": [
            " Ads Spent | Additional Attendees | Total Attendees |    Revenue |  Total Costs |     Profit\n",
            "--------------------------------------------------------------------------------\n",
            "         0 |                    0 |              20 |        200 |          200 |          0\n",
            "        10 |                   20 |              40 |        400 |          210 |        190\n",
            "        20 |                   40 |              60 |        600 |          220 |        380\n",
            "        30 |                   60 |              80 |        800 |          230 |        570\n",
            "        40 |                   80 |             100 |       1000 |          240 |        760\n",
            "        50 |                  100 |             120 |       1200 |          250 |        950\n",
            "        60 |                  120 |             140 |       1400 |          260 |       1140\n",
            "        70 |                  140 |             160 |       1600 |          270 |       1330\n",
            "        80 |                  160 |             180 |       1800 |          280 |       1520\n",
            "        90 |                  180 |             200 |       2000 |          290 |       1710\n",
            "       100 |                  200 |             220 |       2200 |          300 |       1900\n"
          ]
        }
      ],
      "source": [
        "def calculate_profit(theater):\n",
        "    ticket_price = 10\n",
        "    base_attendance = 20\n",
        "    fixed_costs = 200\n",
        "    additional_attendees = 2 * round(ad_spending)\n",
        "\n",
        "    total_attendees = base_attendance + additional_attendees\n",
        "\n",
        "    revenue = total_attendees * ticket_price\n",
        "\n",
        "    total_costs = fixed_costs + ad_spending\n",
        "\n",
        "    profit = revenue - total_costs\n",
        "\n",
        "    return additional_attendees, total_attendees, revenue, total_costs, profit\n",
        "\n",
        "print(f\"{'Ads Spent':>10} | {'Additional Attendees':>20} | {'Total Attendees':>15} | {'Revenue':>10} | {'Total Costs':>12} | {'Profit':>10}\")\n",
        "print(\"-\" * 80)\n",
        "\n",
        "for ad_spending in range(0, 101, 10):\n",
        "    additional_attendees, total_attendees, revenue, total_costs, profit = calculate_profit(ad_spending)\n",
        "    print(f\"{ad_spending:>10} | {additional_attendees:>20} | {total_attendees:>15} | {revenue:>10} | {total_costs:>12} | {profit:>10}\")\n"
      ]
    },
    {
      "cell_type": "code",
      "execution_count": null,
      "metadata": {
        "colab": {
          "base_uri": "https://localhost:8080/"
        },
        "id": "Q1A6DvHClYXq",
        "outputId": "b569964f-1107-445c-c0a5-b12a15ebd3d9"
      },
      "outputs": [
        {
          "name": "stdout",
          "output_type": "stream",
          "text": [
            "0 0.0\n",
            "25 75.0\n",
            "50 91.42135623730951\n",
            "75 98.20508075688781\n",
            "100 100.0\n",
            "125 98.60679774997897\n",
            "150 94.94897427831779\n",
            "175 89.57513110645903\n",
            "200 82.84271247461902\n"
          ]
        }
      ],
      "source": [
        "for ad in range (0, 201, 25):\n",
        "  additional = (2 * ad ** 0.5)\n",
        "  profit = (20 + (additional)) * 10 - 200 - ad\n",
        "  print(ad, profit)"
      ]
    },
    {
      "cell_type": "code",
      "execution_count": null,
      "metadata": {
        "colab": {
          "base_uri": "https://localhost:8080/"
        },
        "id": "dXwz3Th6p05W",
        "outputId": "e7afddce-b435-43c3-dd4e-33dbb8a63f1a"
      },
      "outputs": [
        {
          "name": "stdout",
          "output_type": "stream",
          "text": [
            "0 1 2 3 4 5 6 7 8 9 "
          ]
        }
      ],
      "source": [
        "for i in range( 1_000_000_000):\n",
        "  if i == 10:\n",
        "    break\n",
        "  print(i, end = ' ')\n"
      ]
    },
    {
      "cell_type": "code",
      "execution_count": null,
      "metadata": {
        "id": "4wgnR5B4p3XC"
      },
      "outputs": [],
      "source": []
    },
    {
      "cell_type": "markdown",
      "metadata": {
        "id": "13FkyFi5MSeW"
      },
      "source": [
        "9/23/24"
      ]
    },
    {
      "cell_type": "code",
      "execution_count": null,
      "metadata": {
        "colab": {
          "base_uri": "https://localhost:8080/"
        },
        "id": "k-7fkHvvMT70",
        "outputId": "f2f35cab-f113-4d52-9a49-378f4ac53eea"
      },
      "outputs": [
        {
          "data": {
            "text/plain": [
              "5"
            ]
          },
          "execution_count": 2,
          "metadata": {},
          "output_type": "execute_result"
        }
      ],
      "source": [
        "len('hello')\n",
        "# get length/ character count"
      ]
    },
    {
      "cell_type": "code",
      "execution_count": null,
      "metadata": {
        "colab": {
          "base_uri": "https://localhost:8080/"
        },
        "id": "5ipSuCC_OYLn",
        "outputId": "718fc3d3-8c6f-4eae-d7e9-6d540d76ba18"
      },
      "outputs": [
        {
          "data": {
            "text/plain": [
              "3"
            ]
          },
          "execution_count": 4,
          "metadata": {},
          "output_type": "execute_result"
        }
      ],
      "source": [
        "s= {'a', 'bb', 'ccc'}\n",
        "len(s)"
      ]
    },
    {
      "cell_type": "code",
      "execution_count": null,
      "metadata": {
        "colab": {
          "base_uri": "https://localhost:8080/"
        },
        "id": "eHz4KEu0Oea0",
        "outputId": "3efcfb51-1a25-4372-e62b-43db6b4bb017"
      },
      "outputs": [
        {
          "data": {
            "text/plain": [
              "16"
            ]
          },
          "execution_count": 7,
          "metadata": {},
          "output_type": "execute_result"
        }
      ],
      "source": [
        "s= ('this is a string')\n",
        "len(s)"
      ]
    },
    {
      "cell_type": "code",
      "execution_count": null,
      "metadata": {
        "colab": {
          "base_uri": "https://localhost:8080/",
          "height": 35
        },
        "id": "550CBwA8OmDY",
        "outputId": "e728a3c2-2f2a-4d28-f91d-99acffe541be"
      },
      "outputs": [
        {
          "data": {
            "application/vnd.google.colaboratory.intrinsic+json": {
              "type": "string"
            },
            "text/plain": [
              "'1'"
            ]
          },
          "execution_count": 13,
          "metadata": {},
          "output_type": "execute_result"
        }
      ],
      "source": [
        "t = \"1234567\"\n",
        "t[0]\n",
        "#place of charater; ranges from 0 to infitity"
      ]
    },
    {
      "cell_type": "code",
      "execution_count": null,
      "metadata": {
        "colab": {
          "base_uri": "https://localhost:8080/"
        },
        "id": "vD-TjgD0RBQS",
        "outputId": "22b88be3-77aa-4a08-c418-d12ed726ba96"
      },
      "outputs": [
        {
          "data": {
            "text/plain": [
              "('this', 'string')"
            ]
          },
          "execution_count": 18,
          "metadata": {},
          "output_type": "execute_result"
        }
      ],
      "source": [
        "s[0:4], s[10:16]"
      ]
    },
    {
      "cell_type": "code",
      "execution_count": null,
      "metadata": {
        "colab": {
          "base_uri": "https://localhost:8080/",
          "height": 35
        },
        "id": "15Fn7Gf1T7JR",
        "outputId": "5cd43b57-f23a-4022-bee7-c62b1eb58673"
      },
      "outputs": [
        {
          "data": {
            "application/vnd.google.colaboratory.intrinsic+json": {
              "type": "string"
            },
            "text/plain": [
              "'23456'"
            ]
          },
          "execution_count": 21,
          "metadata": {},
          "output_type": "execute_result"
        }
      ],
      "source": [
        "t[1:-1]"
      ]
    },
    {
      "cell_type": "code",
      "execution_count": null,
      "metadata": {
        "colab": {
          "base_uri": "https://localhost:8080/"
        },
        "id": "fQz5Y2PWV4lO",
        "outputId": "8de0a3e5-18f9-4140-f1f4-95cf88c5552b"
      },
      "outputs": [
        {
          "name": "stdout",
          "output_type": "stream",
          "text": [
            "0 1\n",
            "1 2\n",
            "2 3\n",
            "3 4\n",
            "4 5\n",
            "5 6\n",
            "6 7\n"
          ]
        }
      ],
      "source": [
        "for idx in range(len(t)):\n",
        "  print(idx, t[idx])"
      ]
    },
    {
      "cell_type": "code",
      "execution_count": null,
      "metadata": {
        "colab": {
          "base_uri": "https://localhost:8080/"
        },
        "id": "kSOxSkuDV7LY",
        "outputId": "87477f81-d810-4d0e-ab65-b65373a8729f"
      },
      "outputs": [
        {
          "name": "stdout",
          "output_type": "stream",
          "text": [
            "t\n",
            "h\n",
            "i\n",
            "s\n",
            " \n",
            "i\n",
            "s\n",
            " \n",
            "a\n",
            " \n",
            "s\n",
            "t\n",
            "r\n",
            "i\n",
            "n\n",
            "g\n"
          ]
        }
      ],
      "source": [
        "for char in s:\n",
        "  print(char)"
      ]
    },
    {
      "cell_type": "code",
      "execution_count": null,
      "metadata": {
        "colab": {
          "base_uri": "https://localhost:8080/",
          "height": 198
        },
        "id": "aEq_s17XXC3N",
        "outputId": "3303509b-a8c3-4c98-b4c1-6a9294b52ab9"
      },
      "outputs": [
        {
          "ename": "NameError",
          "evalue": "name 'lens' is not defined",
          "output_type": "error",
          "traceback": [
            "\u001b[0;31m---------------------------------------------------------------------------\u001b[0m",
            "\u001b[0;31mNameError\u001b[0m                                 Traceback (most recent call last)",
            "\u001b[0;32m<ipython-input-33-e80e42dd0251>\u001b[0m in \u001b[0;36m<cell line: 1>\u001b[0;34m()\u001b[0m\n\u001b[0;32m----> 1\u001b[0;31m \u001b[0;32mfor\u001b[0m \u001b[0midx\u001b[0m \u001b[0;32min\u001b[0m \u001b[0mrange\u001b[0m\u001b[0;34m(\u001b[0m\u001b[0mlens\u001b[0m\u001b[0;34m(\u001b[0m\u001b[0ms\u001b[0m\u001b[0;34m)\u001b[0m\u001b[0;34m)\u001b[0m\u001b[0;34m:\u001b[0m\u001b[0;34m\u001b[0m\u001b[0;34m\u001b[0m\u001b[0m\n\u001b[0m\u001b[1;32m      2\u001b[0m   \u001b[0;32mif\u001b[0m \u001b[0ms\u001b[0m\u001b[0;34m[\u001b[0m\u001b[0midx\u001b[0m\u001b[0;34m]\u001b[0m \u001b[0;34m==\u001b[0m \u001b[0;34m'a'\u001b[0m\u001b[0;34m:\u001b[0m\u001b[0;34m\u001b[0m\u001b[0;34m\u001b[0m\u001b[0m\n\u001b[1;32m      3\u001b[0m     \u001b[0mprint\u001b[0m\u001b[0;34m(\u001b[0m\u001b[0;34m\"letter 'a' found\"\u001b[0m\u001b[0;34m)\u001b[0m\u001b[0;34m\u001b[0m\u001b[0;34m\u001b[0m\u001b[0m\n\u001b[1;32m      4\u001b[0m     \u001b[0;32mbreak\u001b[0m\u001b[0;34m\u001b[0m\u001b[0;34m\u001b[0m\u001b[0m\n",
            "\u001b[0;31mNameError\u001b[0m: name 'lens' is not defined"
          ]
        }
      ],
      "source": [
        "for idx in range(lens(s)):\n",
        "  if s[idx] == 'a':\n",
        "    print(\"letter 'a' found\")\n",
        "    break"
      ]
    },
    {
      "cell_type": "markdown",
      "metadata": {
        "id": "fajGuYMIdo-y"
      },
      "source": [
        "9/25/2024"
      ]
    },
    {
      "cell_type": "code",
      "execution_count": null,
      "metadata": {
        "colab": {
          "base_uri": "https://localhost:8080/"
        },
        "id": "P9wP-F-hdq6e",
        "outputId": "461a4985-e95b-4ab3-bf10-77ed6bcf4d59"
      },
      "outputs": [
        {
          "data": {
            "text/plain": [
              "(3, 5, 0)"
            ]
          },
          "execution_count": 4,
          "metadata": {},
          "output_type": "execute_result"
        }
      ],
      "source": [
        "l = [1,2,3]\n",
        "\n",
        "another_1 = [1, 3.14, 'abc', True, {456}]\n",
        "empty_1 = []\n",
        "len(l), len(another_1), len(empty_1)"
      ]
    },
    {
      "cell_type": "code",
      "execution_count": null,
      "metadata": {
        "colab": {
          "base_uri": "https://localhost:8080/"
        },
        "id": "obM8J8CKd2Kd",
        "outputId": "a566597f-17f7-42e5-debe-18b0f9481dd1"
      },
      "outputs": [
        {
          "name": "stdout",
          "output_type": "stream",
          "text": [
            "[1, 5, 3]\n"
          ]
        }
      ],
      "source": [
        "l[1] = 5\n",
        "print(l)"
      ]
    },
    {
      "cell_type": "code",
      "execution_count": null,
      "metadata": {
        "colab": {
          "base_uri": "https://localhost:8080/"
        },
        "id": "RBo0OWfCfCfE",
        "outputId": "147912e9-3f30-468d-9e2a-7f19ae590ac2"
      },
      "outputs": [
        {
          "data": {
            "text/plain": [
              "[1, 2, 3, 4]"
            ]
          },
          "execution_count": 10,
          "metadata": {},
          "output_type": "execute_result"
        }
      ],
      "source": [
        "[1,2,3] + [4]"
      ]
    },
    {
      "cell_type": "code",
      "execution_count": null,
      "metadata": {
        "colab": {
          "base_uri": "https://localhost:8080/"
        },
        "id": "JYFGBo13eqz8",
        "outputId": "6423e75d-d1dd-44ca-ebd2-434b82221ec3"
      },
      "outputs": [
        {
          "data": {
            "text/plain": [
              "[1, 5, 2, 3, 4]"
            ]
          },
          "execution_count": 15,
          "metadata": {},
          "output_type": "execute_result"
        }
      ],
      "source": [
        "l = [1,2,3]\n",
        "l.append(4)\n",
        "l.insert(1,5)\n",
        "l"
      ]
    },
    {
      "cell_type": "code",
      "execution_count": null,
      "metadata": {
        "colab": {
          "base_uri": "https://localhost:8080/"
        },
        "id": "ECALycmAh7Kn",
        "outputId": "ba062abf-fe5d-45ff-e145-950817973a98"
      },
      "outputs": [
        {
          "data": {
            "text/plain": [
              "[1, 5, 2, 3, 12]"
            ]
          },
          "execution_count": 32,
          "metadata": {},
          "output_type": "execute_result"
        }
      ],
      "source": [
        "l2 = [5,6,7]\n",
        "l.extend([12])\n",
        "l"
      ]
    },
    {
      "cell_type": "code",
      "execution_count": null,
      "metadata": {
        "colab": {
          "base_uri": "https://localhost:8080/"
        },
        "id": "L8xPNA5-kAKD",
        "outputId": "2d124829-01b3-4e81-a5f4-ea9f9e3a784d"
      },
      "outputs": [
        {
          "data": {
            "text/plain": [
              "[1, 5, 2, 3, 4, 12, [5, 6, 7]]"
            ]
          },
          "execution_count": 24,
          "metadata": {},
          "output_type": "execute_result"
        }
      ],
      "source": [
        "l.append(l2)\n",
        "l"
      ]
    },
    {
      "cell_type": "code",
      "execution_count": null,
      "metadata": {
        "colab": {
          "base_uri": "https://localhost:8080/"
        },
        "id": "xGurd6qukCfp",
        "outputId": "c6d286c0-b2c0-44c9-fe11-4f43c0298c76"
      },
      "outputs": [
        {
          "data": {
            "text/plain": [
              "[1, 5, 2, 3]"
            ]
          },
          "execution_count": 30,
          "metadata": {},
          "output_type": "execute_result"
        }
      ],
      "source": [
        "l.pop(-1)\n",
        "l"
      ]
    },
    {
      "cell_type": "code",
      "execution_count": null,
      "metadata": {
        "colab": {
          "base_uri": "https://localhost:8080/"
        },
        "id": "BVmG5PfOk24l",
        "outputId": "4859e696-b5b4-44d6-9e53-1c4d75f3c3d3"
      },
      "outputs": [
        {
          "data": {
            "text/plain": [
              "['a', 'b', 'c', 4, 5, 6]"
            ]
          },
          "execution_count": 33,
          "metadata": {},
          "output_type": "execute_result"
        }
      ],
      "source": [
        "l = ['a','b','c']\n",
        "l2 = [4,5,6]\n",
        "\n",
        "l.extend(l2)\n",
        "l"
      ]
    },
    {
      "cell_type": "code",
      "execution_count": null,
      "metadata": {
        "id": "9v8V0K0Tl9aG"
      },
      "outputs": [],
      "source": [
        "l = [1,7,3,0,4,6]\n",
        "l.sort(reverse=True)\n",
        "l"
      ]
    },
    {
      "cell_type": "code",
      "execution_count": null,
      "metadata": {
        "colab": {
          "base_uri": "https://localhost:8080/",
          "height": 472
        },
        "id": "6Ay8LAb0meGg",
        "outputId": "21d2ec37-6ced-4eec-8212-a408327cca4c"
      },
      "outputs": [
        {
          "name": "stdout",
          "output_type": "stream",
          "text": [
            "Give a value:2\n",
            "[2]\n",
            "Give a value:2\n",
            "[2, 2]\n",
            "Give a value:2\n",
            "[2, 2, 2]\n"
          ]
        },
        {
          "ename": "KeyboardInterrupt",
          "evalue": "Interrupted by user",
          "output_type": "error",
          "traceback": [
            "\u001b[0;31m---------------------------------------------------------------------------\u001b[0m",
            "\u001b[0;31mKeyboardInterrupt\u001b[0m                         Traceback (most recent call last)",
            "\u001b[0;32m<ipython-input-52-fd1fb33208a3>\u001b[0m in \u001b[0;36m<cell line: 4>\u001b[0;34m()\u001b[0m\n\u001b[1;32m      5\u001b[0m   \u001b[0mL\u001b[0m\u001b[0;34m.\u001b[0m\u001b[0mappend\u001b[0m\u001b[0;34m(\u001b[0m\u001b[0mitem\u001b[0m\u001b[0;34m)\u001b[0m\u001b[0;34m\u001b[0m\u001b[0;34m\u001b[0m\u001b[0m\n\u001b[1;32m      6\u001b[0m   \u001b[0mprint\u001b[0m\u001b[0;34m(\u001b[0m\u001b[0mL\u001b[0m\u001b[0;34m)\u001b[0m\u001b[0;34m\u001b[0m\u001b[0;34m\u001b[0m\u001b[0m\n\u001b[0;32m----> 7\u001b[0;31m   \u001b[0mitem\u001b[0m \u001b[0;34m=\u001b[0m \u001b[0mint\u001b[0m\u001b[0;34m(\u001b[0m\u001b[0minput\u001b[0m\u001b[0;34m(\u001b[0m\u001b[0;34m'Give a value:'\u001b[0m\u001b[0;34m)\u001b[0m\u001b[0;34m)\u001b[0m\u001b[0;34m\u001b[0m\u001b[0;34m\u001b[0m\u001b[0m\n\u001b[0m\u001b[1;32m      8\u001b[0m \u001b[0mprint\u001b[0m\u001b[0;34m(\u001b[0m\u001b[0mL\u001b[0m\u001b[0;34m)\u001b[0m\u001b[0;34m\u001b[0m\u001b[0;34m\u001b[0m\u001b[0m\n\u001b[1;32m      9\u001b[0m \u001b[0;34m\u001b[0m\u001b[0m\n",
            "\u001b[0;32m/usr/local/lib/python3.10/dist-packages/ipykernel/kernelbase.py\u001b[0m in \u001b[0;36mraw_input\u001b[0;34m(self, prompt)\u001b[0m\n\u001b[1;32m    849\u001b[0m                 \u001b[0;34m\"raw_input was called, but this frontend does not support input requests.\"\u001b[0m\u001b[0;34m\u001b[0m\u001b[0;34m\u001b[0m\u001b[0m\n\u001b[1;32m    850\u001b[0m             )\n\u001b[0;32m--> 851\u001b[0;31m         return self._input_request(str(prompt),\n\u001b[0m\u001b[1;32m    852\u001b[0m             \u001b[0mself\u001b[0m\u001b[0;34m.\u001b[0m\u001b[0m_parent_ident\u001b[0m\u001b[0;34m,\u001b[0m\u001b[0;34m\u001b[0m\u001b[0;34m\u001b[0m\u001b[0m\n\u001b[1;32m    853\u001b[0m             \u001b[0mself\u001b[0m\u001b[0;34m.\u001b[0m\u001b[0m_parent_header\u001b[0m\u001b[0;34m,\u001b[0m\u001b[0;34m\u001b[0m\u001b[0;34m\u001b[0m\u001b[0m\n",
            "\u001b[0;32m/usr/local/lib/python3.10/dist-packages/ipykernel/kernelbase.py\u001b[0m in \u001b[0;36m_input_request\u001b[0;34m(self, prompt, ident, parent, password)\u001b[0m\n\u001b[1;32m    893\u001b[0m             \u001b[0;32mexcept\u001b[0m \u001b[0mKeyboardInterrupt\u001b[0m\u001b[0;34m:\u001b[0m\u001b[0;34m\u001b[0m\u001b[0;34m\u001b[0m\u001b[0m\n\u001b[1;32m    894\u001b[0m                 \u001b[0;31m# re-raise KeyboardInterrupt, to truncate traceback\u001b[0m\u001b[0;34m\u001b[0m\u001b[0;34m\u001b[0m\u001b[0m\n\u001b[0;32m--> 895\u001b[0;31m                 \u001b[0;32mraise\u001b[0m \u001b[0mKeyboardInterrupt\u001b[0m\u001b[0;34m(\u001b[0m\u001b[0;34m\"Interrupted by user\"\u001b[0m\u001b[0;34m)\u001b[0m \u001b[0;32mfrom\u001b[0m \u001b[0;32mNone\u001b[0m\u001b[0;34m\u001b[0m\u001b[0;34m\u001b[0m\u001b[0m\n\u001b[0m\u001b[1;32m    896\u001b[0m             \u001b[0;32mexcept\u001b[0m \u001b[0mException\u001b[0m \u001b[0;32mas\u001b[0m \u001b[0me\u001b[0m\u001b[0;34m:\u001b[0m\u001b[0;34m\u001b[0m\u001b[0;34m\u001b[0m\u001b[0m\n\u001b[1;32m    897\u001b[0m                 \u001b[0mself\u001b[0m\u001b[0;34m.\u001b[0m\u001b[0mlog\u001b[0m\u001b[0;34m.\u001b[0m\u001b[0mwarning\u001b[0m\u001b[0;34m(\u001b[0m\u001b[0;34m\"Invalid Message:\"\u001b[0m\u001b[0;34m,\u001b[0m \u001b[0mexc_info\u001b[0m\u001b[0;34m=\u001b[0m\u001b[0;32mTrue\u001b[0m\u001b[0;34m)\u001b[0m\u001b[0;34m\u001b[0m\u001b[0;34m\u001b[0m\u001b[0m\n",
            "\u001b[0;31mKeyboardInterrupt\u001b[0m: Interrupted by user"
          ]
        }
      ],
      "source": [
        "L = []\n",
        "\n",
        "item = int(input('Give a value:'))\n",
        "while item != 0:\n",
        "  L.append(item)\n",
        "  print(L)\n",
        "  item = int(input('Give a value:'))\n",
        "print(L)\n",
        "\n"
      ]
    },
    {
      "cell_type": "code",
      "execution_count": null,
      "metadata": {
        "colab": {
          "base_uri": "https://localhost:8080/"
        },
        "id": "5shvCtQLpbdS",
        "outputId": "f5fd258f-194c-4aae-f19a-8c4e155ba7ae"
      },
      "outputs": [
        {
          "name": "stdout",
          "output_type": "stream",
          "text": [
            "Give a value:2\n",
            "Give a value:2\n",
            "Give a value:2\n",
            "Give a value:2\n",
            "Give a value:2\n",
            "Give a value:2\n",
            "Give a value:2\n",
            "Give a value:0\n",
            "[2, 2, 2, 2, 2, 2, 2, 2, 2, 2]\n"
          ]
        }
      ],
      "source": [
        "item = int(input('Give a value:'))\n",
        "while item != 0:\n",
        "  L.append(item)\n",
        "  item = int(input('Give a value:'))\n",
        "print(L)"
      ]
    },
    {
      "cell_type": "code",
      "execution_count": null,
      "metadata": {
        "colab": {
          "base_uri": "https://localhost:8080/"
        },
        "id": "il07mJQip6O8",
        "outputId": "f5b1cbca-dbaf-4dc9-c797-7a22fa244157"
      },
      "outputs": [
        {
          "name": "stdout",
          "output_type": "stream",
          "text": [
            "[3, 4]\n",
            "[5, 6]\n"
          ]
        }
      ],
      "source": [
        "L1 = [1,2,3,4]\n",
        "L2 = [1,2,5,6]\n",
        "\n",
        "i = 0\n",
        "j = 1\n",
        "\n",
        "for i in L1: # if item is in list do some bout it\n",
        "  if i in L2:\n",
        "    L1.remove(i)\n",
        "    L2.remove(i)\n",
        "\n",
        "for j in L1:\n",
        "  if j in L2:\n",
        "    L1.remove(j)\n",
        "    L2.remove(j)\n",
        "\n",
        "print(L1)\n",
        "print(L2)"
      ]
    },
    {
      "cell_type": "code",
      "execution_count": null,
      "metadata": {
        "colab": {
          "base_uri": "https://localhost:8080/"
        },
        "id": "83Fye2LksQ5t",
        "outputId": "5dfd388c-da69-4f42-8f41-8398cdfb39ea"
      },
      "outputs": [
        {
          "name": "stdout",
          "output_type": "stream",
          "text": [
            "[3, 4]\n",
            "[5, 6]\n"
          ]
        }
      ],
      "source": [
        "L1 = [1,2,3,4]\n",
        "L2 = [1,2,5,6]\n",
        "\n",
        "for i in L1[:]: # if item is in list do some bout it\n",
        "  if i in L2:\n",
        "    L1.remove(i)\n",
        "    L2.remove(i)\n",
        "\n",
        "print(L1)\n",
        "print(L2)"
      ]
    },
    {
      "cell_type": "code",
      "execution_count": null,
      "metadata": {
        "id": "hcvzOf1AOUxO"
      },
      "outputs": [],
      "source": [
        "t = (1, 'two', 3.0, [4,5,6], (1,2))"
      ]
    },
    {
      "cell_type": "code",
      "execution_count": null,
      "metadata": {
        "colab": {
          "base_uri": "https://localhost:8080/"
        },
        "id": "XAnQV-41Oape",
        "outputId": "dcc35fc0-20bd-4e96-d6f7-7f7b9ae09e83"
      },
      "outputs": [
        {
          "data": {
            "text/plain": [
              "(1, 2, 3, 'one', 'two', 'three')"
            ]
          },
          "execution_count": 3,
          "metadata": {},
          "output_type": "execute_result"
        }
      ],
      "source": [
        "(1,2,3) + ('one', 'two', 'three')"
      ]
    },
    {
      "cell_type": "code",
      "execution_count": null,
      "metadata": {
        "colab": {
          "base_uri": "https://localhost:8080/"
        },
        "id": "1cFcJE12Ox7D",
        "outputId": "835ae0aa-758b-4c61-e099-dcb9cd18f5fb"
      },
      "outputs": [
        {
          "data": {
            "text/plain": [
              "('two', 3.0, [4, 5, 6])"
            ]
          },
          "execution_count": 4,
          "metadata": {},
          "output_type": "execute_result"
        }
      ],
      "source": [
        "t[1:4]"
      ]
    },
    {
      "cell_type": "code",
      "execution_count": null,
      "metadata": {
        "id": "7uKkwJtfRMuF"
      },
      "outputs": [],
      "source": [
        "grades = {'John': 90, 'Jane': 95, 'Bob': 87, 'Anne': 89}"
      ]
    },
    {
      "cell_type": "code",
      "execution_count": null,
      "metadata": {
        "colab": {
          "base_uri": "https://localhost:8080/"
        },
        "id": "YlPETzatRcJ6",
        "outputId": "831d64c4-d6cf-41c5-9a95-d8732888eb03"
      },
      "outputs": [
        {
          "data": {
            "text/plain": [
              "{'John': 92, 'Jane': 95, 'Bob': 87, 'Anne': 89}"
            ]
          },
          "execution_count": 10,
          "metadata": {},
          "output_type": "execute_result"
        }
      ],
      "source": [
        "grades['John'] = 92\n",
        "grades"
      ]
    },
    {
      "cell_type": "code",
      "execution_count": null,
      "metadata": {
        "colab": {
          "base_uri": "https://localhost:8080/"
        },
        "id": "W4FxmtkuRmrT",
        "outputId": "940dcde1-9749-4a32-e001-460714819f6c"
      },
      "outputs": [
        {
          "data": {
            "text/plain": [
              "{'John': 92, 'Jane': 95, 'Bob': 87, 'Anne': 89, 'Bryan': 85}"
            ]
          },
          "execution_count": 13,
          "metadata": {},
          "output_type": "execute_result"
        }
      ],
      "source": [
        "grades ['Bryan'] = 85\n",
        "grades"
      ]
    },
    {
      "cell_type": "code",
      "execution_count": null,
      "metadata": {
        "colab": {
          "base_uri": "https://localhost:8080/"
        },
        "id": "QkbgvZoYSL-N",
        "outputId": "6916ffa0-2acc-4b81-f410-395880d004c3"
      },
      "outputs": [
        {
          "data": {
            "text/plain": [
              "{'John': 92, 'Jane': 95, 'Bob': 87, 'Anne': 89}"
            ]
          },
          "execution_count": 14,
          "metadata": {},
          "output_type": "execute_result"
        }
      ],
      "source": [
        "del(grades['Bryan'])\n",
        "grades"
      ]
    },
    {
      "cell_type": "code",
      "execution_count": null,
      "metadata": {
        "id": "AjACRdqeT82m"
      },
      "outputs": [],
      "source": [
        "s = ''\n",
        "l[]\n",
        "t()\n",
        "d{}"
      ]
    },
    {
      "cell_type": "code",
      "execution_count": null,
      "metadata": {
        "id": "5brbLzWoT_84"
      },
      "outputs": [],
      "source": [
        "d = {\n",
        "    'example1@yahoo.com': {\n",
        "      'first_name': 'John',\n",
        "      'last_name': 'Doe',\n",
        "      'phone': '555-555-5555',\n",
        "      'email': 'example@yahoo.com'\n",
        "},\n",
        "    'example@yahoo.com': {\n",
        "      'first_name': 'John',\n",
        "      'last_name': 'Doe',\n",
        "      'phone': '555-555-5555',\n",
        "      'email': 'example@yahoo.com'\n",
        "    }\n",
        "}"
      ]
    },
    {
      "cell_type": "code",
      "execution_count": null,
      "metadata": {
        "id": "3TfGWfhDWFQW"
      },
      "outputs": [],
      "source": [
        "months = {}\n",
        "\n",
        "names = [\"Jan\", \"Feb\", 'Mar', 'Apr', 'May', 'Jun', 'Jul', 'Aug', 'Sep', 'Oct', 'Nov', 'Dec']\n",
        "numbers = [1,2,3,4,5,6,7,8,9,10,11,12]"
      ]
    },
    {
      "cell_type": "code",
      "execution_count": null,
      "metadata": {
        "colab": {
          "base_uri": "https://localhost:8080/"
        },
        "id": "Stt1FjoLWOmK",
        "outputId": "511c2f8a-35dd-48c0-ee40-5bc55541e363"
      },
      "outputs": [
        {
          "data": {
            "text/plain": [
              "{'Jan': 1,\n",
              " 'Feb': 2,\n",
              " 'Mar': 3,\n",
              " 'Apr': 4,\n",
              " 'May': 5,\n",
              " 'Jun': 6,\n",
              " 'Jul': 7,\n",
              " 'Aug': 8,\n",
              " 'Sep': 9,\n",
              " 'Oct': 10,\n",
              " 'Nov': 11,\n",
              " 'Dec': 12}"
            ]
          },
          "execution_count": 30,
          "metadata": {},
          "output_type": "execute_result"
        }
      ],
      "source": [
        "for i in range(len(names)):\n",
        "  months[names[i]] = numbers[i]\n",
        "\n",
        "months"
      ]
    },
    {
      "cell_type": "code",
      "execution_count": null,
      "metadata": {
        "colab": {
          "base_uri": "https://localhost:8080/"
        },
        "id": "tWsLYL-xWrAQ",
        "outputId": "c10fb374-a8a0-4876-ee58-00d86828e111"
      },
      "outputs": [
        {
          "data": {
            "text/plain": [
              "{1: 'Jan',\n",
              " 2: 'Feb',\n",
              " 3: 'Mar',\n",
              " 4: 'Apr',\n",
              " 5: 'May',\n",
              " 6: 'Jun',\n",
              " 7: 'Jul',\n",
              " 8: 'Aug',\n",
              " 9: 'Sep',\n",
              " 10: 'Oct',\n",
              " 11: 'Nov',\n",
              " 12: 'Dec'}"
            ]
          },
          "execution_count": 39,
          "metadata": {},
          "output_type": "execute_result"
        }
      ],
      "source": [
        "for i in range(len(names)):\n",
        "  months[i+1] = names[i]\n",
        "\n",
        "months"
      ]
    },
    {
      "cell_type": "markdown",
      "metadata": {
        "id": "-RlwclcXhvdQ"
      },
      "source": [
        "10/2/2024"
      ]
    },
    {
      "cell_type": "code",
      "execution_count": null,
      "metadata": {
        "colab": {
          "base_uri": "https://localhost:8080/",
          "height": 162
        },
        "id": "1_HskLUGhfqi",
        "outputId": "e024bbab-dd39-42bc-cfa9-4d078cc1eec6"
      },
      "outputs": [
        {
          "ename": "NameError",
          "evalue": "name 'months' is not defined",
          "output_type": "error",
          "traceback": [
            "\u001b[0;31m---------------------------------------------------------------------------\u001b[0m",
            "\u001b[0;31mNameError\u001b[0m                                 Traceback (most recent call last)",
            "\u001b[0;32m<ipython-input-1-94dc89ec0627>\u001b[0m in \u001b[0;36m<cell line: 1>\u001b[0;34m()\u001b[0m\n\u001b[0;32m----> 1\u001b[0;31m \u001b[0;32mfor\u001b[0m \u001b[0mvalue\u001b[0m \u001b[0;32min\u001b[0m \u001b[0mmonths\u001b[0m\u001b[0;34m.\u001b[0m\u001b[0mvalues\u001b[0m\u001b[0;34m(\u001b[0m\u001b[0;34m)\u001b[0m\u001b[0;34m:\u001b[0m\u001b[0;34m\u001b[0m\u001b[0;34m\u001b[0m\u001b[0m\n\u001b[0m\u001b[1;32m      2\u001b[0m   \u001b[0mprint\u001b[0m\u001b[0;34m(\u001b[0m\u001b[0mvalue\u001b[0m\u001b[0;34m)\u001b[0m\u001b[0;34m\u001b[0m\u001b[0;34m\u001b[0m\u001b[0m\n",
            "\u001b[0;31mNameError\u001b[0m: name 'months' is not defined"
          ]
        }
      ],
      "source": [
        "for value in months.values():\n",
        "  print(value)"
      ]
    },
    {
      "cell_type": "code",
      "execution_count": null,
      "metadata": {
        "colab": {
          "base_uri": "https://localhost:8080/"
        },
        "id": "im3AVXkShqsj",
        "outputId": "165597c9-f885-436b-89af-180bd7975490"
      },
      "outputs": [
        {
          "name": "stdout",
          "output_type": "stream",
          "text": [
            "Jan\n",
            "Feb\n",
            "Mar\n",
            "Apr\n",
            "May\n",
            "Jun\n",
            "Jul\n",
            "Aug\n",
            "Sep\n",
            "Oct\n",
            "Nov\n",
            "Dec\n"
          ]
        }
      ],
      "source": [
        "months = {} # Initialize the months dictionary\n",
        "\n",
        "names = [\"Jan\", \"Feb\", 'Mar', 'Apr', 'May', 'Jun', 'Jul', 'Aug', 'Sep', 'Oct', 'Nov', 'Dec']\n",
        "numbers = [1,2,3,4,5,6,7,8,9,10,11,12]\n",
        "\n",
        "for i in range(len(names)):\n",
        "  months[i+1] = names[i] # Populate the months dictionary\n",
        "\n",
        "for value in months.values(): # Iterate through the dictionary values and print them\n",
        "  print(value)"
      ]
    },
    {
      "cell_type": "code",
      "execution_count": null,
      "metadata": {
        "colab": {
          "base_uri": "https://localhost:8080/"
        },
        "id": "u4PAI6m0huMB",
        "outputId": "5a72b1d8-29df-46cd-d269-2edff0c559f2"
      },
      "outputs": [
        {
          "name": "stdout",
          "output_type": "stream",
          "text": [
            "1 Jan\n",
            "2 Feb\n",
            "3 Mar\n",
            "4 Apr\n",
            "5 May\n",
            "6 Jun\n",
            "7 Jul\n",
            "8 Aug\n",
            "9 Sep\n",
            "10 Oct\n",
            "11 Nov\n",
            "12 Dec\n"
          ]
        }
      ],
      "source": [
        "for key, value in months.items():\n",
        "  print(key, value)"
      ]
    },
    {
      "cell_type": "code",
      "execution_count": null,
      "metadata": {
        "id": "UZvGhjhiiGgY"
      },
      "outputs": [],
      "source": [
        "d = {\n",
        "    'example1@yahoo.com': {\n",
        "      'first_name': 'John',\n",
        "      'last_name': 'Doe',\n",
        "      'phone': '555-555-5555',\n",
        "},\n",
        "    'example@yahoo.com': {\n",
        "      'first_name': 'John',\n",
        "      'last_name': 'Doe',\n",
        "      'phone': '555-555-5555',\n",
        "    }\n",
        "}"
      ]
    },
    {
      "cell_type": "code",
      "execution_count": null,
      "metadata": {
        "colab": {
          "base_uri": "https://localhost:8080/"
        },
        "id": "uyroOcmkiny3",
        "outputId": "fce9fcab-535c-4787-bf6e-83d19b90bf60"
      },
      "outputs": [
        {
          "name": "stdout",
          "output_type": "stream",
          "text": [
            "example1@yahoo.com 555-555-5555\n",
            "example@yahoo.com 555-555-5555\n"
          ]
        }
      ],
      "source": [
        "for key in d.keys():\n",
        "  print(key, d[key]['phone'])"
      ]
    },
    {
      "cell_type": "code",
      "execution_count": null,
      "metadata": {
        "id": "sZ0Hi1BuiwM5"
      },
      "outputs": [],
      "source": []
    },
    {
      "cell_type": "markdown",
      "metadata": {
        "id": "CalqzmcpWYyQ"
      },
      "source": [
        "10/21/24"
      ]
    },
    {
      "cell_type": "code",
      "execution_count": null,
      "metadata": {
        "id": "dYOMM2ESWb9r"
      },
      "outputs": [],
      "source": [
        "def inputs ():\n",
        "  annual_salary = float(input(\"Enter your annual salary: \"))\n",
        "  portion_saved = float(input(\"Enter portion: \"))\n",
        "  total_cost = float(input(\"Enter the cost: \"))\n",
        "\n",
        "  return annual_salary, portion_saved, total_cost"
      ]
    },
    {
      "cell_type": "code",
      "execution_count": null,
      "metadata": {
        "colab": {
          "base_uri": "https://localhost:8080/"
        },
        "id": "GNKXevrzWyYm",
        "outputId": "13b156f2-c651-4c5a-d472-1d78a4f6d0c4"
      },
      "outputs": [
        {
          "name": "stdout",
          "output_type": "stream",
          "text": [
            "Enter your annual salary: 133\n",
            "Enter the percent of your salary to save, as a decimal: 46\n",
            "Enter the cost of your dream home: 10000000\n"
          ]
        }
      ],
      "source": [
        "annual_salary, portion_saved, total_cost = inputs()\n",
        "\n",
        "months = 0\n",
        "amount = 0"
      ]
    },
    {
      "cell_type": "code",
      "execution_count": null,
      "metadata": {
        "colab": {
          "base_uri": "https://localhost:8080/"
        },
        "id": "-ZJa47s0YDOo",
        "outputId": "fb6fb03a-af25-40b1-e88c-a227f11de1f5"
      },
      "outputs": [
        {
          "name": "stdout",
          "output_type": "stream",
          "text": [
            "Doe , John\n"
          ]
        }
      ],
      "source": [
        "def name(first, last, reverse=False):\n",
        "  if reverse == True:\n",
        "    print(last,',' ,first)\n",
        "  else:\n",
        "    print(first, last)\n",
        "\n",
        "name('John', 'Doe', True)"
      ]
    },
    {
      "cell_type": "code",
      "execution_count": null,
      "metadata": {
        "colab": {
          "base_uri": "https://localhost:8080/"
        },
        "id": "T7IwNLW7cSD0",
        "outputId": "932c1d22-d8cd-43cd-aa0a-0ba8f4e07ef0"
      },
      "outputs": [
        {
          "name": "stdout",
          "output_type": "stream",
          "text": [
            "1 10\n",
            "2 10.0\n",
            "3 12.5\n",
            "4 15.0\n",
            "5 17.5\n",
            "6 20.0\n",
            "7 20\n",
            "8 20\n"
          ]
        }
      ],
      "source": [
        "flate_rate = 5\n",
        "hourly_rate = 2.5\n",
        "\n",
        "for hour in range (1, 9 ,1):\n",
        "  charge = flate_rate + hour * hourly_rate\n",
        "  if charge < 10:\n",
        "    charge = 10\n",
        "  elif charge > 20:\n",
        "    charge = 20\n",
        "  print(hour, charge)\n"
      ]
    },
    {
      "cell_type": "code",
      "execution_count": null,
      "metadata": {
        "colab": {
          "base_uri": "https://localhost:8080/"
        },
        "id": "pj6Sxui0dDSk",
        "outputId": "5cd77413-5e54-4936-9eab-fe4d0d1a1a56"
      },
      "outputs": [
        {
          "name": "stdout",
          "output_type": "stream",
          "text": [
            "44\n",
            "Parking fee for 44 hours: $50\n"
          ]
        }
      ],
      "source": [
        "def calcFee(hours):\n",
        "    flat_rate = 5\n",
        "    hourly_rate = 2.5\n",
        "    max_fee = 50\n",
        "\n",
        "    hours = int(hours) if hours == int(hours) else int(hours) + 1\n",
        "\n",
        "    if hours <= 1:\n",
        "        total_fee = flat_rate\n",
        "    else:\n",
        "        total_fee = flat_rate + (hours - 1) * hourly_rate\n",
        "\n",
        "    if total_fee > max_fee:\n",
        "        total_fee = max_fee\n",
        "\n",
        "    return total_fee\n",
        "\n",
        "hours_parked = input()\n",
        "print(f\"Parking fee for {hours_parked} hours: ${calcFee(hours_parked)}\")\n"
      ]
    },
    {
      "cell_type": "code",
      "execution_count": null,
      "metadata": {
        "colab": {
          "base_uri": "https://localhost:8080/"
        },
        "id": "IVPE3jgPdx1d",
        "outputId": "a71768fc-cdc0-4e79-f604-64f62cb8504e"
      },
      "outputs": [
        {
          "name": "stdout",
          "output_type": "stream",
          "text": [
            "Enter hours for Parking:2\n",
            "10.0\n"
          ]
        }
      ],
      "source": [
        "def calcFee(hours):\n",
        "  fee = 5 + hours * 2.5\n",
        "  return fee\n",
        "\n",
        "hours_parked = int(input('Enter hours for Parking:'))\n",
        "f = calcFee(hours_parked)\n",
        "print(f)"
      ]
    },
    {
      "cell_type": "code",
      "execution_count": null,
      "metadata": {
        "colab": {
          "background_save": true,
          "base_uri": "https://localhost:8080/"
        },
        "id": "Ovt9meq9irxw",
        "outputId": "8fa5a6cd-af64-4888-d94f-ab5c254a5cfb"
      },
      "outputs": [
        {
          "name": "stdout",
          "output_type": "stream",
          "text": [
            "The parking fee is: $15.0\n",
            "The parking fee is: $15.0\n"
          ]
        }
      ],
      "source": [
        "def calcFee(hours, decimals = 2):\n",
        "  fee = 5 + hours * 2.5\n",
        "  fee = round(fee, decimals)\n",
        "\n",
        "  return fee\n",
        "\n",
        "def displayFee(fee):\n",
        "    print(f\"The parking fee is: ${fee}\")\n",
        "\n",
        "hours_parked = int(input('Enter hours for Parking:'))\n",
        "f = calcFee(hours_parked)\n",
        "displayFee(f)\n"
      ]
    },
    {
      "cell_type": "code",
      "execution_count": null,
      "metadata": {
        "id": "hbS5ha2Hi5Cs"
      },
      "outputs": [],
      "source": []
    },
    {
      "cell_type": "markdown",
      "source": [
        "10/23/24"
      ],
      "metadata": {
        "id": "TaY2Ifx8se3C"
      }
    },
    {
      "cell_type": "code",
      "source": [
        "def f(x):\n",
        "  y=1\n",
        "  x = x+y\n",
        "  print('x =', x)\n",
        "  return x\n",
        "\n",
        "x=3\n",
        "y=2\n",
        "z=f(x)\n",
        "print('z =', z)\n",
        "print('x =', x)\n",
        "print('y =', y)"
      ],
      "metadata": {
        "colab": {
          "base_uri": "https://localhost:8080/"
        },
        "id": "-tXOdLUfsfxA",
        "outputId": "170adf6b-d621-4195-b5a4-7ea80d3511ce"
      },
      "execution_count": null,
      "outputs": [
        {
          "output_type": "stream",
          "name": "stdout",
          "text": [
            "x = 4\n",
            "z = 4\n",
            "x = 3\n",
            "y = 2\n"
          ]
        }
      ]
    },
    {
      "cell_type": "code",
      "source": [
        "def f(x):\n",
        "  def g():\n",
        "    x = 'abc'\n",
        "    print('x =', x)\n",
        "  def h():\n",
        "    z = x\n",
        "    print('z=', z)\n",
        "\n",
        "  x = x+1\n",
        "  print('x =', x)def\n",
        "  g()\n",
        "  h()\n",
        "  print('x=', x)\n",
        "\n",
        "  return g\n",
        "\n",
        "  x = 3\n",
        "  z = f(x)\n",
        "  print('x =', x)\n",
        "  print('z =', z)\n",
        "  z()"
      ],
      "metadata": {
        "id": "8wCRe5dGtGdM"
      },
      "execution_count": null,
      "outputs": []
    },
    {
      "cell_type": "code",
      "source": [
        "def is_even(i):\n",
        "  return i % 2 == 0   # input: i, a possible int 'does not return anything'\n",
        "\n",
        "  return"
      ],
      "metadata": {
        "id": "8U7sxor8xFqu"
      },
      "execution_count": null,
      "outputs": []
    },
    {
      "cell_type": "code",
      "source": [],
      "metadata": {
        "id": "FRH_XI6wZdrx"
      },
      "execution_count": null,
      "outputs": []
    },
    {
      "cell_type": "markdown",
      "source": [
        "10/28/2024\n",
        "\n",
        "\n",
        "recurisve functions\n",
        "def ref(...):\n",
        "return fef(...)\n",
        "\n",
        "\n",
        "Base case:\n",
        "Inductive case:\n",
        "\n",
        "\n",
        "In recursive functions, we need two main components:\n",
        "\n",
        "Base Case: This stops the recursion to prevent infinite loops.\n",
        "1!\n",
        "\n",
        "Inductive (or Recursive) Case: This reduces the problem to smaller subproblems and calls the function recursively.\n",
        "N*(N-1)!\n",
        "N>1\n",
        "\n"
      ],
      "metadata": {
        "id": "tzfBS-wZZwIj"
      }
    },
    {
      "cell_type": "code",
      "source": [
        "# Recursive function example to calculate factorial\n",
        "\n",
        "def factorial(n):\n",
        "    # Base case\n",
        "    if n == 0 or n == 1:\n",
        "        return 1\n",
        "    # Inductive case\n",
        "    else:\n",
        "        return n * factorial(n - 1)\n"
      ],
      "metadata": {
        "id": "qQ8raqFOZx5M"
      },
      "execution_count": null,
      "outputs": []
    },
    {
      "cell_type": "code",
      "source": [
        "def fact(n):\n",
        "  prod = 1\n",
        "  for i in range(2, n+1):\n",
        "    prod = prod * i\n",
        "  return prod\n",
        "\n",
        "fact(5)"
      ],
      "metadata": {
        "colab": {
          "base_uri": "https://localhost:8080/"
        },
        "id": "TMA7Ke7AbA2B",
        "outputId": "ba54011c-18f8-494e-e692-53aa1b76c6db"
      },
      "execution_count": null,
      "outputs": [
        {
          "output_type": "execute_result",
          "data": {
            "text/plain": [
              "120"
            ]
          },
          "metadata": {},
          "execution_count": 16
        }
      ]
    },
    {
      "cell_type": "code",
      "source": [
        "def factR(n):\n",
        "  if n > 1:\n",
        "    return n * factR(n-1)\n",
        "  else:\n",
        "    return n\n",
        "\n",
        "factR(5)"
      ],
      "metadata": {
        "colab": {
          "base_uri": "https://localhost:8080/"
        },
        "id": "mKxbXt3GcseB",
        "outputId": "0433983a-9d15-4a96-c33b-8ef9b942a039"
      },
      "execution_count": null,
      "outputs": [
        {
          "output_type": "execute_result",
          "data": {
            "text/plain": [
              "120"
            ]
          },
          "metadata": {},
          "execution_count": 38
        }
      ]
    },
    {
      "cell_type": "markdown",
      "source": [
        "inductive: n>=2:\n",
        "fib(n) = fib(n-1) + fib(n-2)\n",
        "\n",
        "Base: n == 0 or n == 1 := 0"
      ],
      "metadata": {
        "id": "x0QzPN-wgjak"
      }
    },
    {
      "cell_type": "code",
      "source": [
        "def fib(n):\n",
        "  if n == 0 or n == 1:\n",
        "    return 1\n",
        "  else:\n",
        "    return fib(n-1) + fib(n-2)\n",
        "\n",
        "fib(6)"
      ],
      "metadata": {
        "colab": {
          "base_uri": "https://localhost:8080/"
        },
        "id": "ihG86X0Fedtt",
        "outputId": "34c335e3-9ea1-4cd9-eb1e-b6f0e5463efa"
      },
      "execution_count": null,
      "outputs": [
        {
          "output_type": "execute_result",
          "data": {
            "text/plain": [
              "13"
            ]
          },
          "metadata": {},
          "execution_count": 41
        }
      ]
    },
    {
      "cell_type": "code",
      "source": [
        "               fib(4)\n",
        "              /      \\\n",
        "         fib(3)      fib(2)\n",
        "         /    \\       /    \\\n",
        "     fib(2)  fib(1) fib(1) fib(0)\n",
        "     /    \\\n",
        " fib(1)  fib(0)\n"
      ],
      "metadata": {
        "id": "fFgCb_noh3-m"
      },
      "execution_count": null,
      "outputs": []
    },
    {
      "cell_type": "markdown",
      "source": [
        "in class assigment 10/28/2024"
      ],
      "metadata": {
        "id": "Whj6NwAfkkga"
      }
    },
    {
      "cell_type": "code",
      "source": [],
      "metadata": {
        "id": "ipgrKYfGeGUz"
      },
      "execution_count": 59,
      "outputs": []
    },
    {
      "cell_type": "markdown",
      "source": [],
      "metadata": {
        "id": "c4mljW8vky4d"
      }
    },
    {
      "cell_type": "code",
      "source": [
        "def print_reverse(s):\n",
        "    if s == \"\":\n",
        "        return\n",
        "    else:\n",
        "        print(s[-1], end=\"\")\n",
        "        print_reverse(s[:-1])\n",
        "print_reverse(\"hello\")\n",
        "\n",
        "\n"
      ],
      "metadata": {
        "id": "Hbnjs5xBbsJa",
        "colab": {
          "base_uri": "https://localhost:8080/"
        },
        "outputId": "5206a683-d32d-4262-cba8-8cfb5874f695"
      },
      "execution_count": 60,
      "outputs": [
        {
          "output_type": "stream",
          "name": "stdout",
          "text": [
            "olleh"
          ]
        }
      ]
    },
    {
      "cell_type": "code",
      "source": [
        "s = 'Hello'\n",
        "s[-1] + rev[s[:-1]]\n",
        "'o' + rev('Hell')\n",
        "'l' + rev('Hel')\n",
        "'l' + rev('He')\n",
        "'l' + rev('H')\n",
        "\n",
        "\n",
        "rev(s[L:]) + s[0]\n",
        "rev('elleo') + 'H'\n",
        "rev('ello') + 'e'\n",
        "rev('llo') + 'l'\n",
        "rev('lo') + 'l'\n",
        "rev('o') + 'l'\n",
        "\n"
      ],
      "metadata": {
        "colab": {
          "base_uri": "https://localhost:8080/",
          "height": 211
        },
        "id": "6zJPO96rm6Yh",
        "outputId": "c09a6670-f56c-417f-9c17-424608c88c45"
      },
      "execution_count": 64,
      "outputs": [
        {
          "output_type": "error",
          "ename": "NameError",
          "evalue": "name 'rev' is not defined",
          "traceback": [
            "\u001b[0;31m---------------------------------------------------------------------------\u001b[0m",
            "\u001b[0;31mNameError\u001b[0m                                 Traceback (most recent call last)",
            "\u001b[0;32m<ipython-input-64-2407ce0fdbbd>\u001b[0m in \u001b[0;36m<cell line: 2>\u001b[0;34m()\u001b[0m\n\u001b[1;32m      1\u001b[0m \u001b[0ms\u001b[0m \u001b[0;34m=\u001b[0m \u001b[0;34m'Hello'\u001b[0m\u001b[0;34m\u001b[0m\u001b[0;34m\u001b[0m\u001b[0m\n\u001b[0;32m----> 2\u001b[0;31m \u001b[0ms\u001b[0m\u001b[0;34m[\u001b[0m\u001b[0;34m-\u001b[0m\u001b[0;36m1\u001b[0m\u001b[0;34m]\u001b[0m \u001b[0;34m+\u001b[0m \u001b[0mrev\u001b[0m\u001b[0;34m[\u001b[0m\u001b[0ms\u001b[0m\u001b[0;34m[\u001b[0m\u001b[0;34m:\u001b[0m\u001b[0;34m-\u001b[0m\u001b[0;36m1\u001b[0m\u001b[0;34m]\u001b[0m\u001b[0;34m]\u001b[0m\u001b[0;34m\u001b[0m\u001b[0;34m\u001b[0m\u001b[0m\n\u001b[0m\u001b[1;32m      3\u001b[0m \u001b[0;34m'o'\u001b[0m \u001b[0;34m+\u001b[0m \u001b[0mrev\u001b[0m\u001b[0;34m(\u001b[0m\u001b[0;34m'Hell'\u001b[0m\u001b[0;34m)\u001b[0m\u001b[0;34m\u001b[0m\u001b[0;34m\u001b[0m\u001b[0m\n\u001b[1;32m      4\u001b[0m \u001b[0;34m'l'\u001b[0m \u001b[0;34m+\u001b[0m \u001b[0mrev\u001b[0m\u001b[0;34m(\u001b[0m\u001b[0;34m'Hel'\u001b[0m\u001b[0;34m)\u001b[0m\u001b[0;34m\u001b[0m\u001b[0;34m\u001b[0m\u001b[0m\n\u001b[1;32m      5\u001b[0m \u001b[0;34m'l'\u001b[0m \u001b[0;34m+\u001b[0m \u001b[0mrev\u001b[0m\u001b[0;34m(\u001b[0m\u001b[0;34m'He'\u001b[0m\u001b[0;34m)\u001b[0m\u001b[0;34m\u001b[0m\u001b[0;34m\u001b[0m\u001b[0m\n",
            "\u001b[0;31mNameError\u001b[0m: name 'rev' is not defined"
          ]
        }
      ]
    },
    {
      "cell_type": "code",
      "source": [
        "def rev(s):\n",
        "  if len(s) == 1:\n",
        "    return s\n",
        "  else:\n",
        "    return s[-1] + rev(s[:-1])\n",
        "    return s[-1] + rev(s[1:-1] + s[reversed])\n",
        "\n",
        "rev('helloween')"
      ],
      "metadata": {
        "colab": {
          "base_uri": "https://localhost:8080/",
          "height": 35
        },
        "id": "7wN_LoD7oAS9",
        "outputId": "3c3ec39a-eeb0-4e87-9825-a6941446920f"
      },
      "execution_count": 71,
      "outputs": [
        {
          "output_type": "execute_result",
          "data": {
            "text/plain": [
              "'neewolleh'"
            ],
            "application/vnd.google.colaboratory.intrinsic+json": {
              "type": "string"
            }
          },
          "metadata": {},
          "execution_count": 71
        }
      ]
    },
    {
      "cell_type": "markdown",
      "source": [
        "reversed ---> now 0"
      ],
      "metadata": {
        "id": "i0RTb5mdo9_R"
      }
    },
    {
      "cell_type": "code",
      "source": [
        "def rev(s):\n",
        "  if len(s) == 1:\n",
        "    return s\n",
        "  else:\n",
        "    return s[-1] + rev(s[:-1])\n",
        "    return s[-1] + rev(s[1:-1] + s[0])\n",
        "\n",
        "rev('helloween')"
      ],
      "metadata": {
        "id": "dxVxWDHyo85g"
      },
      "execution_count": null,
      "outputs": []
    }
  ],
  "metadata": {
    "colab": {
      "provenance": [],
      "authorship_tag": "ABX9TyPBShzviow5VBnBjSrxZTKW",
      "include_colab_link": true
    },
    "kernelspec": {
      "display_name": "Python 3",
      "name": "python3"
    },
    "language_info": {
      "name": "python"
    }
  },
  "nbformat": 4,
  "nbformat_minor": 0
}