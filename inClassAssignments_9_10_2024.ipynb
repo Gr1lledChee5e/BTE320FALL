{
  "cells": [
    {
      "cell_type": "markdown",
      "metadata": {
        "id": "view-in-github",
        "colab_type": "text"
      },
      "source": [
        "<a href=\"https://colab.research.google.com/github/Gr1lledChee5e/BTE320FALL/blob/main/inClassAssignments_9_10_2024.ipynb\" target=\"_parent\"><img src=\"https://colab.research.google.com/assets/colab-badge.svg\" alt=\"Open In Colab\"/></a>"
      ]
    },
    {
      "cell_type": "code",
      "source": [
        "x = {1,2.5,4}\n",
        "type(x)"
      ],
      "metadata": {
        "colab": {
          "base_uri": "https://localhost:8080/"
        },
        "id": "u8GhYLzwirXH",
        "outputId": "625b5082-6a5b-47d4-de88-0df5de0cf529"
      },
      "execution_count": null,
      "outputs": [
        {
          "output_type": "execute_result",
          "data": {
            "text/plain": [
              "set"
            ]
          },
          "metadata": {},
          "execution_count": 1
        }
      ]
    },
    {
      "cell_type": "code",
      "source": [
        "L = [1, 1, 2, 3, 5]"
      ],
      "metadata": {
        "id": "nu1KabkNi5SH"
      },
      "execution_count": null,
      "outputs": []
    },
    {
      "cell_type": "code",
      "source": [
        "set(L)"
      ],
      "metadata": {
        "colab": {
          "base_uri": "https://localhost:8080/"
        },
        "id": "gwlvXYGAi84U",
        "outputId": "fb3bab47-184e-4fad-b645-f27abd511a4c"
      },
      "execution_count": null,
      "outputs": [
        {
          "output_type": "execute_result",
          "data": {
            "text/plain": [
              "{1, 2, 3, 5}"
            ]
          },
          "metadata": {},
          "execution_count": 3
        }
      ]
    },
    {
      "cell_type": "code",
      "source": [
        "s1 = set(L)\n",
        "s2 = {1, 4, 8}"
      ],
      "metadata": {
        "id": "GDjphcNQjA9p"
      },
      "execution_count": null,
      "outputs": []
    },
    {
      "cell_type": "code",
      "source": [
        "s1.intersection(s2)"
      ],
      "metadata": {
        "colab": {
          "base_uri": "https://localhost:8080/"
        },
        "id": "qf2Q6PlfjNru",
        "outputId": "c750c2fc-8ed6-497f-b108-005e944a0a9a"
      },
      "execution_count": null,
      "outputs": [
        {
          "output_type": "execute_result",
          "data": {
            "text/plain": [
              "{1}"
            ]
          },
          "metadata": {},
          "execution_count": 5
        }
      ]
    },
    {
      "cell_type": "code",
      "source": [
        "s2.intersection(s1)"
      ],
      "metadata": {
        "id": "i0wx2iPFlL6M"
      },
      "execution_count": null,
      "outputs": []
    },
    {
      "cell_type": "code",
      "source": [
        "s1.union(s2)"
      ],
      "metadata": {
        "colab": {
          "base_uri": "https://localhost:8080/"
        },
        "id": "c0c2qfOHjc1w",
        "outputId": "4f5d1f80-d7dc-49ae-9933-345326b7e87b"
      },
      "execution_count": null,
      "outputs": [
        {
          "output_type": "execute_result",
          "data": {
            "text/plain": [
              "{1, 2, 3, 4, 5, 8}"
            ]
          },
          "metadata": {},
          "execution_count": 6
        }
      ]
    },
    {
      "cell_type": "code",
      "source": [
        "s2.union(s1)"
      ],
      "metadata": {
        "colab": {
          "base_uri": "https://localhost:8080/"
        },
        "id": "idBTO_sQjeqp",
        "outputId": "3787c0d1-8bae-4d87-900a-95c63105b35b"
      },
      "execution_count": null,
      "outputs": [
        {
          "output_type": "execute_result",
          "data": {
            "text/plain": [
              "{1, 2, 3, 4, 5, 8}"
            ]
          },
          "metadata": {},
          "execution_count": 8
        }
      ]
    },
    {
      "cell_type": "code",
      "source": [
        "s1.difference(s2)"
      ],
      "metadata": {
        "colab": {
          "base_uri": "https://localhost:8080/"
        },
        "id": "GY9AKeCGkBwn",
        "outputId": "e6dd4455-c0c6-4af7-fe72-4d2a97110f44"
      },
      "execution_count": null,
      "outputs": [
        {
          "output_type": "execute_result",
          "data": {
            "text/plain": [
              "{2, 3, 5}"
            ]
          },
          "metadata": {},
          "execution_count": 11
        }
      ]
    },
    {
      "cell_type": "code",
      "source": [
        "s2.difference(s1)"
      ],
      "metadata": {
        "colab": {
          "base_uri": "https://localhost:8080/"
        },
        "id": "Y35kgeeNkHzU",
        "outputId": "600fb6fe-4cd0-4d38-f95f-943272e2cdb2"
      },
      "execution_count": null,
      "outputs": [
        {
          "output_type": "execute_result",
          "data": {
            "text/plain": [
              "{4, 8}"
            ]
          },
          "metadata": {},
          "execution_count": 12
        }
      ]
    },
    {
      "cell_type": "code",
      "source": [
        "s1.symmetric_difference(s2)"
      ],
      "metadata": {
        "colab": {
          "base_uri": "https://localhost:8080/"
        },
        "id": "V5yTAHHYkJVl",
        "outputId": "de28ab95-4e0f-44db-ab88-3734661a12d2"
      },
      "execution_count": null,
      "outputs": [
        {
          "output_type": "execute_result",
          "data": {
            "text/plain": [
              "{2, 3, 4, 5, 8}"
            ]
          },
          "metadata": {},
          "execution_count": 14
        }
      ]
    },
    {
      "cell_type": "code",
      "source": [
        "x = input('...')"
      ],
      "metadata": {
        "id": "L0kziMfxmVKH"
      },
      "execution_count": null,
      "outputs": []
    },
    {
      "cell_type": "code",
      "source": [
        "def func(inp1, inp2, inp3): # P(roccess)\n",
        "  expr1                     # I(nputs)\n",
        "  expr2\n",
        "  final_expr\n",
        "  return res\n",
        "\n",
        "x = 2\n",
        "y = 'Hello'\n",
        "z = [1,2,3]\n",
        "\n",
        "w = func(x, y, z)"
      ],
      "metadata": {
        "id": "6n7BNUT_kXr-"
      },
      "execution_count": null,
      "outputs": []
    },
    {
      "cell_type": "code",
      "source": [
        "def adder(a, b):\n",
        "  print('inside adder')\n",
        "  c = a + b\n",
        "  return c\n",
        "\n",
        "x = 3 # a = x\n",
        "y = 4 # b = y\n",
        "z = adder(x,y) # c = a + b which basically is c = x +y; z = c --> comes from the return\n",
        "print(z)"
      ],
      "metadata": {
        "id": "HXjaDpbPmxDF"
      },
      "execution_count": null,
      "outputs": []
    },
    {
      "cell_type": "code",
      "source": [
        "def adder(a, b):\n",
        "  print('inside adder')\n",
        "  c = a + b\n",
        "  return c\n",
        "\n",
        "x = 3 # a = x\n",
        "y = 4 # b = y\n",
        "z = x + y\n",
        "print(z)"
      ],
      "metadata": {
        "id": "DIEXYRxqnfxi"
      },
      "execution_count": null,
      "outputs": []
    },
    {
      "cell_type": "markdown",
      "metadata": {
        "id": "vplIY7QxfpD7"
      },
      "source": [
        "## Assignment 1: House hunting\n",
        "\n",
        "Suppose that you want to start saving to buy a house. To do that, you rneed to save for a few years before you can afford to make the down payment. In this assignment, you have to determine how long it will take you to save enough money to make the down payment given the following assumptions:\n",
        "\n",
        "1. Let the cost of the house be `total_cost`.\n",
        "2. Let the portion of the cost needed for a down payment be `portion_down_payment`. For simplicity, assume that `portion_down_payment = 0.25 (25%)`.\n",
        "3. Let the amount that you have saved thus far be `current_savings`. You start with a current savings of $0$ dollars.\n",
        "4. Assume that you invest your current savings wisely, with an annual return of `r` (in other words, at the end of each month, you receive an additional `current_savings*r/12` funds to put into your savings – the 12 is because `r` is an annual rate). Assume that your investments earn a return of `r = 0.04 (4%)`.\n",
        "5. Assume your annual salary is `annual_salary`.\n",
        "6. Assume you are going to dedicate a certain amount of your salary each month to saving for the down payment. Let that be `portion_saved`. This variable should be in decimal form (i.e. 0.1 for 10%).\n",
        "7. At the end of each month, your savings will be increased by the return on your investment, plus a percentage of your monthly salary (annual salary / 12).\n",
        "8. Be careful about values that represent annual amounts and those that represent monthly amounts.\n",
        "\n",
        "Write a program to calculate how many months it will take you to save up enough money for a down payment.\n",
        "\n",
        "Your program should ask the user to enter values for the following variables:\n",
        "1. The starting annual salary (`annual_salary`)\n",
        "2. The portion of salary to be saved (`portion_saved`)\n",
        "3. The cost of your dream home (`total_cost`)\n",
        "\n",
        "**Hints:** To help you get started, here is a rough outline of the stages you should probably follow in writing your code:\n",
        "- Use user inputs. For this problem set, you can assume that users will enter valid input (e.g. they won’t enter a `str` when you expect an `int`)\n",
        "- Initialize some state variables. You should decide what information you need. Again, make sure you distinguish between annual and monthly amounts.\n",
        "\n",
        "Printouts should be like:\n",
        "\n",
        "<span style=\"color:blue\">Enter your annual salary:</span> 120000\n",
        "    \n",
        "<span style=\"color:blue\">Enter the percent of your salary to save, as a decimal:</span> .10\n",
        "    \n",
        "<span style=\"color:blue\">Enter the cost of your dream home:</span> 1000000\n",
        "    \n",
        "<span style=\"color:blue\">Number of months:</span> 183"
      ]
    },
    {
      "cell_type": "code",
      "source": [
        "def house_hunting():\n",
        "\n",
        "  annual_salary = 120000\n",
        "  portion_saved = 0.10\n",
        "  total_cost = 1000000\n",
        "\n",
        "  portion_down_payment = 0.25\n",
        "  r = 0.04\n",
        "  current_savings = 0.0\n",
        "  monthly_salary = annual_salary / 12\n",
        "\n",
        "  down_payment = total_cost * portion_down_payment\n",
        "\n",
        "  months = 0\n",
        "\n",
        "  while current_savings < down_payment:\n",
        "      current_savings += current_savings * (r / 12) + portion_saved * monthly_salary\n",
        "      months += 1\n",
        "\n",
        "  print(f\"Enter your annual salary: {annual_salary}\")\n",
        "  print(f\"Enter the percent of your salary to save, as a decimal: {portion_saved}\")\n",
        "  print(f\"Enter the cost of your dream home: {total_cost}\")\n",
        "  print(f\"Number of months: {months}\")\n",
        "\n",
        "house_hunting()\n"
      ],
      "metadata": {
        "id": "mxhRQMk2kLHI",
        "colab": {
          "base_uri": "https://localhost:8080/"
        },
        "outputId": "5f0a858c-c95e-4bee-a486-994c6c49f7c7"
      },
      "execution_count": 22,
      "outputs": [
        {
          "output_type": "stream",
          "name": "stdout",
          "text": [
            "Enter your annual salary: 120000\n",
            "Enter the percent of your salary to save, as a decimal: 0.1\n",
            "Enter the cost of your dream home: 1000000\n",
            "Number of months: 183\n"
          ]
        }
      ]
    },
    {
      "cell_type": "markdown",
      "metadata": {
        "id": "PsmCJbaTfpD8"
      },
      "source": [
        "## Assignment 2: Saving with raise\n",
        "\n",
        "Modify the previous program to include the following:\n",
        "1. Have the user input a semi-annual salary raise `semi_annual_raise` (as a decimal percentage)\n",
        "2. After the 6th month, increase your *annual salary* by that percentage. Do the same after the 12th month, the 18th month, and so on.\n",
        "    * **Hint:** Use the mod (\\%) operator\n",
        "\n",
        "Printouts should be like:\n",
        "\n",
        "<span style=\"color:blue\">Enter your annual salary:</span> 120000\n",
        "    \n",
        "<span style=\"color:blue\">Enter the percent of your salary to save, as a decimal:</span> . 05\n",
        "    \n",
        "<span style=\"color:blue\">Enter the cost of your dream home:</span> 500000\n",
        "\n",
        "<span style=\"color:blue\">Enter the semi-annual raise, as a decimal:</span> .03\n",
        "    \n",
        "<span style=\"color:blue\">Number of months:</span> 142"
      ]
    },
    {
      "cell_type": "code",
      "source": [
        "def house_hunting_with_raise():\n",
        "  annual_salary = 120000\n",
        "  portion_saved = 0.05\n",
        "  total_cost = 500000\n",
        "  semi_annual_raise = 0.03\n",
        "\n",
        "  portion_down_payment = 0.25\n",
        "  r = 0.04\n",
        "  current_savings = 0.0\n",
        "  monthly_salary = annual_salary / 12\n",
        "\n",
        "  down_payment = total_cost * portion_down_payment\n",
        "\n",
        "  months = 0\n",
        "\n",
        "  while current_savings < down_payment:\n",
        "\n",
        "    current_savings += current_savings * (r / 12) + portion_saved * monthly_salary\n",
        "    months += 1\n",
        "\n",
        "    if months % 6 == 0:\n",
        "      annual_salary += annual_salary * semi_annual_raise\n",
        "      monthly_salary = annual_salary / 12\n",
        "\n",
        "  print(f\"Enter your annual salary: {annual_salary}\")\n",
        "  print(f\"Enter the percent of your salary to save, as a decimal: {portion_saved}\")\n",
        "  print(f\"Enter the cost of your dream home: {total_cost}\")\n",
        "  print(f\"Enter the semi-annual raise, as a decimal: {semi_annual_raise}\")\n",
        "  print(f\"Number of months: {months}\")\n",
        "\n",
        "house_hunting_with_raise()\n"
      ],
      "metadata": {
        "colab": {
          "base_uri": "https://localhost:8080/"
        },
        "id": "NSJoIDngrAok",
        "outputId": "2b54edbb-7b5f-4359-a488-ee750703b66a"
      },
      "execution_count": 25,
      "outputs": [
        {
          "output_type": "stream",
          "name": "stdout",
          "text": [
            "Enter your annual salary: 236830.3813351925\n",
            "Enter the percent of your salary to save, as a decimal: 0.05\n",
            "Enter the cost of your dream home: 500000\n",
            "Enter the semi-annual raise, as a decimal: 0.03\n",
            "Number of months: 142\n"
          ]
        }
      ]
    },
    {
      "cell_type": "markdown",
      "metadata": {
        "id": "_3_w186OfpD9"
      },
      "source": [
        "## Assignment 3: Check if a number is within a range\n",
        "\n",
        "Write a function that checks whether a number is in a given range.\n",
        "\n",
        "This assignment is rather simple, you will need to include a conditional within the function body to see if the given number does belong to the given range.\n",
        "\n",
        "You have to approach the solution to this assignment in two ways. In the first approach, your function will print out the result, whereas in the second, you have to use boolean return values.\n",
        "\n",
        "**Example:** name your function `range_check` and build it to get three arguments: a) the number in question, b) the low end of the range, and c) the high end of the range."
      ]
    },
    {
      "cell_type": "code",
      "source": [
        "def range_check_print(number, low, high):\n",
        "    if low <= number <= high: #conditional\n",
        "        print(f\"{number} is in the range between {low} and {high}\")\n",
        "    else:\n",
        "        print(f\"{number} is NOT in the range between {low} and {high}\")\n",
        "\n",
        "print('Example for Range Check')\n",
        "range_check_print(10, 5, 15)\n",
        "range_check_print(3, 5, 15)\n"
      ],
      "metadata": {
        "id": "iEPeysAMg6ve",
        "colab": {
          "base_uri": "https://localhost:8080/"
        },
        "outputId": "19d8964a-e890-4ab5-b259-4db1b70123f9"
      },
      "execution_count": 28,
      "outputs": [
        {
          "output_type": "stream",
          "name": "stdout",
          "text": [
            "Example for Range Check\n",
            "10 is in the range between 5 and 15\n",
            "3 is NOT in the range between 5 and 15\n"
          ]
        }
      ]
    },
    {
      "cell_type": "code",
      "source": [
        "def range_check_bool(number, low, high):\n",
        "    return low <= number <= high\n",
        "\n",
        "print('Example for Boolean Return Values')\n",
        "result_1 = range_check_bool(10, 5, 15)\n",
        "result_2 = range_check_bool(3, 5, 15)\n",
        "\n",
        "print(\"(Result 1,\", \"Result 2)\")\n",
        "result_1, result_2\n"
      ],
      "metadata": {
        "colab": {
          "base_uri": "https://localhost:8080/"
        },
        "id": "St-UN1PHsaUQ",
        "outputId": "6e501e5f-195e-476c-afd1-5592e74adb46"
      },
      "execution_count": 36,
      "outputs": [
        {
          "output_type": "stream",
          "name": "stdout",
          "text": [
            "Example for Boolean Return Values\n",
            "(Result 1, Result 2)\n"
          ]
        },
        {
          "output_type": "execute_result",
          "data": {
            "text/plain": [
              "(True, False)"
            ]
          },
          "metadata": {},
          "execution_count": 36
        }
      ]
    }
  ],
  "metadata": {
    "kernelspec": {
      "display_name": "Python 3",
      "language": "python",
      "name": "python3"
    },
    "language_info": {
      "codemirror_mode": {
        "name": "ipython",
        "version": 3
      },
      "file_extension": ".py",
      "mimetype": "text/x-python",
      "name": "python",
      "nbconvert_exporter": "python",
      "pygments_lexer": "ipython3",
      "version": "3.8.8"
    },
    "colab": {
      "provenance": [],
      "include_colab_link": true
    }
  },
  "nbformat": 4,
  "nbformat_minor": 0
}