{
  "nbformat": 4,
  "nbformat_minor": 0,
  "metadata": {
    "colab": {
      "provenance": [],
      "include_colab_link": true
    },
    "kernelspec": {
      "name": "python3",
      "display_name": "Python 3"
    },
    "language_info": {
      "name": "python"
    }
  },
  "cells": [
    {
      "cell_type": "markdown",
      "metadata": {
        "id": "view-in-github",
        "colab_type": "text"
      },
      "source": [
        "<a href=\"https://colab.research.google.com/github/Gr1lledChee5e/BTE320FALL/blob/main/ProblemSet1Fall23.ipynb\" target=\"_parent\"><img src=\"https://colab.research.google.com/assets/colab-badge.svg\" alt=\"Open In Colab\"/></a>"
      ]
    },
    {
      "cell_type": "markdown",
      "source": [
        "# Problem Set 2"
      ],
      "metadata": {
        "id": "mqKVIuY-mxNU"
      }
    },
    {
      "cell_type": "markdown",
      "source": [
        "Riley Yee\n",
        "\n",
        "BTE320: Professor Skordilis\n",
        "\n",
        "10/30/2024\n",
        "\n"
      ],
      "metadata": {
        "id": "Fl-Qw59nYUBW"
      }
    },
    {
      "cell_type": "markdown",
      "source": [
        "## Assignment 1: Quality Control (7 points)\n",
        "\n",
        "A quality control manager would like to find the average weight of a list of weights. Prior experience indicates that the first two measures are atypical, and the practice is to exclude these from the average calculation.\n",
        "\n",
        "Write a program that calculates the average of a list of numbers that given as inputs from the user, excluding the first two values.\n",
        "\n",
        "For your program, you must define and use the following functions:\n",
        "- `getValues(n)`: Prompt the user for `n` values, returns the list\n",
        "- `calcAverage(alist)`: Calculates the average from the list"
      ],
      "metadata": {
        "id": "-RSYW1jVm08n"
      }
    },
    {
      "cell_type": "code",
      "source": [
        "def getValues(n):\n",
        "    values = []\n",
        "    for i in range(n):\n",
        "        value = float(input(f\"Enter weight {i+1}: \"))\n",
        "        values.append(value)\n",
        "    return values\n",
        "\n",
        "def calcAverage(alist):\n",
        "    if len(alist) <= 2:\n",
        "        print(\"Not enough values to calculate the average after excluding the first two.\")\n",
        "        return None\n",
        "    valid_values = alist[2:]\n",
        "    average = sum(valid_values) / len(valid_values)\n",
        "    return average\n",
        "\n",
        "if __name__ == '__main__':\n",
        "    try:\n",
        "        n = int(input(\"How many weights would you like to enter? \"))\n",
        "        weights = getValues(n)\n",
        "        average = calcAverage(weights)\n",
        "\n",
        "        if average is not None:\n",
        "            print(f\"The average weight (excluding the first two values) is: {average:.2f}\")\n",
        "    except ValueError:\n",
        "        print(\"Please enter valid numbers.\")"
      ],
      "metadata": {
        "colab": {
          "base_uri": "https://localhost:8080/"
        },
        "id": "q5pWUiBC6Fr7",
        "outputId": "0cb30cc5-ac2e-4818-b6fa-41f0947f538b"
      },
      "execution_count": null,
      "outputs": [
        {
          "output_type": "stream",
          "name": "stdout",
          "text": [
            "How many weights would you like to enter? 10\n",
            "Enter weight 1: 1\n",
            "Enter weight 2: 2\n",
            "Enter weight 3: 3\n",
            "Enter weight 4: 4\n",
            "Enter weight 5: 5\n",
            "Enter weight 6: 6\n",
            "Enter weight 7: 7\n",
            "Enter weight 8: 8\n",
            "Enter weight 9: 9\n",
            "Enter weight 10: 10\n",
            "The average weight (excluding the first two values) is: 6.50\n"
          ]
        }
      ]
    },
    {
      "cell_type": "code",
      "source": [
        "def getValues(n):\n",
        "    values = []\n",
        "    for i in range(n):\n",
        "        values.append(float(input('enter weight: ')))\n",
        "\n",
        "    return values[2:]\n",
        "\n",
        "def calcAverage(alist):\n",
        "  print(f'the avg weight is: {sum(alist)/len(alist)}')\n",
        "\n",
        "if __name__ == '__main__':\n",
        "  n = int(input('how many weights would you like to enter? '))\n",
        "  weights = getValues(n)\n",
        "  calcAverage(weights)\n",
        "\n"
      ],
      "metadata": {
        "colab": {
          "base_uri": "https://localhost:8080/"
        },
        "id": "4gPpzDsb82Uo",
        "outputId": "0e209666-d469-4837-9d24-db6f9064ace7"
      },
      "execution_count": null,
      "outputs": [
        {
          "output_type": "stream",
          "name": "stdout",
          "text": [
            "how many weights would you like to enter? 10\n",
            "enter weight: 1\n",
            "enter weight: 2\n",
            "enter weight: 3\n",
            "enter weight: 4\n",
            "enter weight: 5\n",
            "enter weight: 6\n",
            "enter weight: 7\n",
            "enter weight: 8\n",
            "enter weight: 9\n",
            "enter weight: 10\n",
            "the avg weight is: 6.5\n"
          ]
        }
      ]
    },
    {
      "cell_type": "markdown",
      "source": [
        "## Assignment 2: Country Statistics Lookup-Multiple Measures (6 points)\n",
        "\n",
        "Assume a program begins with the statement:\n",
        "\n",
        "```python\n",
        "allData = { # dictionary of values for countries\n",
        "    'US': {'pop':325.7, 'gdp': 19.39, 'ccy': 'USD', 'fx':  1.0},\n",
        "    'CA': {'pop': 36.5, 'gdp':  1.65, 'ccy': 'CAD', 'fx':  1.35},\n",
        "    'MX': {'pop':129.2, 'gdp':  1.15, 'ccy': 'MXN', 'fx': 19.68}\n",
        "    }\n",
        "```\n",
        "\n",
        "Write subsequent statements that (in a loop) prompt the user for a country code (`US`, `CA`, or `MX`), then prompt for a measure name (`pop`, `gdp`, `ccy`, or `fx`), then look up in the above dictionary for the corresponding value, and display it.\n",
        "\n",
        "Example run:\n",
        "```\n",
        "Please enter a country code: CA\n",
        "Please enter a statistic: pop\n",
        "CA pop = 36.5\n",
        "```\n",
        "\n",
        "Your program should handle the cases where a user-entered country code or measure name is not found."
      ],
      "metadata": {
        "id": "QFO0Kzx8ncnv"
      }
    },
    {
      "cell_type": "code",
      "source": [
        "allData = { # dictionary of values for countries\n",
        "    'US': {'pop': 325.7, 'gdp': 19.39, 'ccy': 'USD', 'fx': 1.0},\n",
        "    'CA': {'pop': 36.5, 'gdp': 1.65, 'ccy': 'CAD', 'fx': 1.35},\n",
        "    'MX': {'pop': 129.2, 'gdp': 1.15, 'ccy': 'MXN', 'fx': 19.68}\n",
        "}\n",
        "\n",
        "while True:\n",
        "    country_code = input(\"Please enter a country code (US, CA, MX): \").strip().upper()\n",
        "\n",
        "    if country_code not in allData:\n",
        "        print(\"Invalid country code. Please try again.\")\n",
        "        continue\n",
        "\n",
        "    measure_name = input(\"Please enter a statistic (pop, gdp, ccy, fx): \").strip().lower()\n",
        "\n",
        "    if measure_name not in allData[country_code]:\n",
        "        print(\"Invalid statistic name. Please try again.\")\n",
        "        continue\n",
        "\n",
        "    result = allData[country_code][measure_name]\n",
        "    print(f\"{country_code} {measure_name} = {result}\")\n",
        "\n",
        "    another = input(\"Would you like to look up another value? (yes/no): \").strip().lower()\n",
        "    if another != \"yes\":\n",
        "        break\n"
      ],
      "metadata": {
        "colab": {
          "base_uri": "https://localhost:8080/"
        },
        "id": "L_V6w61MQnL1",
        "outputId": "dab124cb-7182-444d-beae-2d8e673d6b10"
      },
      "execution_count": null,
      "outputs": [
        {
          "name": "stdout",
          "output_type": "stream",
          "text": [
            "Please enter a country code (US, CA, MX): US\n",
            "Please enter a statistic (pop, gdp, ccy, fx): pop\n",
            "US pop = 325.7\n",
            "Would you like to look up another value? (yes/no): no\n"
          ]
        }
      ]
    },
    {
      "cell_type": "markdown",
      "source": [
        "## Assignment 3: Parking Garage (6 points)\n",
        "\n",
        "Write a program to compute the fee for parking in a garage for a number of hours.\n",
        "\n",
        "The program should:\n",
        "- Prompt the user for how many hours parked\n",
        "- Calculate the fee based on the following rules:\n",
        "  - $2.50/hour\n",
        "\n",
        "  - minimum fee is $6.00\n",
        "\n",
        "  - maximum fee is $20.00\n",
        "- Print the result\n",
        "\n",
        "For your program, define and use the following two functions:\n",
        "```python\n",
        "# use input() to prompt for the # of hours parked, return this value\n",
        "def getParkingHours()\n",
        "\n",
        "# takes as input hours (a number), returns the parking fee\n",
        "def calcParkingFee()\n",
        "```"
      ],
      "metadata": {
        "id": "GjaUFrnfpKFf"
      }
    },
    {
      "cell_type": "code",
      "source": [
        "# Function to prompt the user for hours parked and return the value\n",
        "def getParkingHours():\n",
        "    hours = float(input(\"Enter the number of hours parked: \"))\n",
        "    return hours\n",
        "\n",
        "# Function to calculate the parking fee based on the number of hours\n",
        "def calcParkingFee(hours):\n",
        "    rate_per_hour = 2.5\n",
        "    min_fee = 6.0\n",
        "    max_fee = 20.0\n",
        "\n",
        "    # Calculate fee based on hours\n",
        "    fee = hours * rate_per_hour\n",
        "\n",
        "    # Apply minimum and maximum fee limits\n",
        "    if fee < min_fee:\n",
        "        fee = min_fee\n",
        "    elif fee > max_fee:\n",
        "        fee = max_fee\n",
        "\n",
        "    return fee\n",
        "\n",
        "# Main program\n",
        "hours_parked = getParkingHours()\n",
        "parking_fee = calcParkingFee(hours_parked)\n",
        "print(f\"The parking fee is: ${parking_fee:.2f}\")\n"
      ],
      "metadata": {
        "id": "5ha4O3V5pwNN",
        "colab": {
          "base_uri": "https://localhost:8080/"
        },
        "outputId": "5161892d-579d-48b9-e8bc-027ddc2d7df1"
      },
      "execution_count": null,
      "outputs": [
        {
          "output_type": "stream",
          "name": "stdout",
          "text": [
            "Enter the number of hours parked: 2\n",
            "The parking fee is: $6.00\n"
          ]
        }
      ]
    },
    {
      "cell_type": "markdown",
      "source": [
        "Once exceeding 2 hours parking fee starts after the flat fee of 6."
      ],
      "metadata": {
        "id": "039KAXfRWHN5"
      }
    },
    {
      "cell_type": "markdown",
      "source": [],
      "metadata": {
        "id": "cxH0vavHV6nX"
      }
    },
    {
      "cell_type": "markdown",
      "source": [
        "## Assignment 4: Tuition (6 points)\n",
        "\n",
        "A college charges tuition according to the following:\n",
        "- 12 or more credits: $20,000/semester\n",
        "\n",
        "- 1-11 credits: $1,200 + $1,700 per credit\n",
        "\n",
        "Write a program that prompts the user for a number of credits and determines and displays the tuition for the semester. As part of your program, define and use the following function:\n",
        "```python\n",
        "def calcTuition(credits)\n",
        "```\n",
        "The function returns the tuition for a given number of credits"
      ],
      "metadata": {
        "id": "gipBObe5qm-2"
      }
    },
    {
      "cell_type": "code",
      "source": [
        "def calcTuition(credits):\n",
        "    if credits >= 12:\n",
        "        return 20000\n",
        "    elif 1 <= credits <= 11:\n",
        "        return 1200 + (1700 * credits)\n",
        "    else:\n",
        "        return 0\n",
        "\n",
        "credits = int(input(\"Enter the number of credits: \"))\n",
        "tuition = calcTuition(credits)\n",
        "print(f\"The tuition for {credits} credits is: ${tuition}\")\n"
      ],
      "metadata": {
        "id": "BPcn9ywzrL8y",
        "colab": {
          "base_uri": "https://localhost:8080/"
        },
        "outputId": "215f29f3-0c82-4ff1-f61f-9f1f087b270d"
      },
      "execution_count": 1,
      "outputs": [
        {
          "output_type": "stream",
          "name": "stdout",
          "text": [
            "Enter the number of credits: 2\n",
            "The tuition for 2 credits is: $4600\n"
          ]
        }
      ]
    }
  ]
}